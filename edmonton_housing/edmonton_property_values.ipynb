{
 "cells": [
  {
   "cell_type": "code",
   "execution_count": 1,
   "id": "d86d1c97",
   "metadata": {},
   "outputs": [],
   "source": [
    "%load_ext autoreload\n",
    "%autoreload 2"
   ]
  },
  {
   "cell_type": "markdown",
   "id": "066cdf7e",
   "metadata": {},
   "source": [
    "Imports"
   ]
  },
  {
   "cell_type": "code",
   "execution_count": 2,
   "id": "1de3bc4e",
   "metadata": {},
   "outputs": [],
   "source": [
    "import pandas as pd\n",
    "import matplotlib.pyplot as plt\n",
    "import plotly.express as px\n",
    "\n",
    "from get_data import get_data"
   ]
  },
  {
   "cell_type": "markdown",
   "id": "a1a6c0a8",
   "metadata": {},
   "source": [
    "# Load data"
   ]
  },
  {
   "cell_type": "code",
   "execution_count": 3,
   "id": "edc1b6a8",
   "metadata": {},
   "outputs": [],
   "source": [
    "# load data from the neighbourhood of Greenfield, only residential properties\n",
    "greenfield_df = get_data(\"q7d6-ambg\", params = {\"neighbourhood\":\"GREENFIELD\", \"mill_class_1\": \"RESIDENTIAL\"})"
   ]
  },
  {
   "cell_type": "code",
   "execution_count": 4,
   "id": "b181229d",
   "metadata": {},
   "outputs": [
    {
     "data": {
      "text/html": [
       "<div>\n",
       "<style scoped>\n",
       "    .dataframe tbody tr th:only-of-type {\n",
       "        vertical-align: middle;\n",
       "    }\n",
       "\n",
       "    .dataframe tbody tr th {\n",
       "        vertical-align: top;\n",
       "    }\n",
       "\n",
       "    .dataframe thead th {\n",
       "        text-align: right;\n",
       "    }\n",
       "</style>\n",
       "<table border=\"1\" class=\"dataframe\">\n",
       "  <thead>\n",
       "    <tr style=\"text-align: right;\">\n",
       "      <th></th>\n",
       "      <th>account_number</th>\n",
       "      <th>house_number</th>\n",
       "      <th>street_name</th>\n",
       "      <th>garage</th>\n",
       "      <th>neighbourhood_id</th>\n",
       "      <th>neighbourhood</th>\n",
       "      <th>ward</th>\n",
       "      <th>assessed_value</th>\n",
       "      <th>latitude</th>\n",
       "      <th>longitude</th>\n",
       "      <th>point_location</th>\n",
       "      <th>tax_class_pct_1</th>\n",
       "      <th>mill_class_1</th>\n",
       "    </tr>\n",
       "  </thead>\n",
       "  <tbody>\n",
       "    <tr>\n",
       "      <th>0</th>\n",
       "      <td>1089457</td>\n",
       "      <td>11735</td>\n",
       "      <td>40 AVENUE NW</td>\n",
       "      <td>N</td>\n",
       "      <td>5220</td>\n",
       "      <td>GREENFIELD</td>\n",
       "      <td>papastew Ward</td>\n",
       "      <td>295500</td>\n",
       "      <td>53.476048825243744</td>\n",
       "      <td>-113.53718479265814</td>\n",
       "      <td>{'type': 'Point', 'coordinates': [-113.5371847...</td>\n",
       "      <td>100</td>\n",
       "      <td>RESIDENTIAL</td>\n",
       "    </tr>\n",
       "    <tr>\n",
       "      <th>1</th>\n",
       "      <td>1089531</td>\n",
       "      <td>11515</td>\n",
       "      <td>40 AVENUE NW</td>\n",
       "      <td>N</td>\n",
       "      <td>5220</td>\n",
       "      <td>GREENFIELD</td>\n",
       "      <td>papastew Ward</td>\n",
       "      <td>312500</td>\n",
       "      <td>53.476044723369654</td>\n",
       "      <td>-113.5314582622399</td>\n",
       "      <td>{'type': 'Point', 'coordinates': [-113.5314582...</td>\n",
       "      <td>100</td>\n",
       "      <td>RESIDENTIAL</td>\n",
       "    </tr>\n",
       "    <tr>\n",
       "      <th>2</th>\n",
       "      <td>1089572</td>\n",
       "      <td>11511</td>\n",
       "      <td>40 AVENUE NW</td>\n",
       "      <td>N</td>\n",
       "      <td>5220</td>\n",
       "      <td>GREENFIELD</td>\n",
       "      <td>papastew Ward</td>\n",
       "      <td>293500</td>\n",
       "      <td>53.47603283160185</td>\n",
       "      <td>-113.53116714475051</td>\n",
       "      <td>{'type': 'Point', 'coordinates': [-113.5311671...</td>\n",
       "      <td>100</td>\n",
       "      <td>RESIDENTIAL</td>\n",
       "    </tr>\n",
       "    <tr>\n",
       "      <th>3</th>\n",
       "      <td>1089515</td>\n",
       "      <td>11517</td>\n",
       "      <td>40 AVENUE NW</td>\n",
       "      <td>N</td>\n",
       "      <td>5220</td>\n",
       "      <td>GREENFIELD</td>\n",
       "      <td>papastew Ward</td>\n",
       "      <td>285500</td>\n",
       "      <td>53.47604638730065</td>\n",
       "      <td>-113.53160341066878</td>\n",
       "      <td>{'type': 'Point', 'coordinates': [-113.5316034...</td>\n",
       "      <td>100</td>\n",
       "      <td>RESIDENTIAL</td>\n",
       "    </tr>\n",
       "    <tr>\n",
       "      <th>4</th>\n",
       "      <td>1089473</td>\n",
       "      <td>11521</td>\n",
       "      <td>40 AVENUE NW</td>\n",
       "      <td>Y</td>\n",
       "      <td>5220</td>\n",
       "      <td>GREENFIELD</td>\n",
       "      <td>papastew Ward</td>\n",
       "      <td>313000</td>\n",
       "      <td>53.47604889188216</td>\n",
       "      <td>-113.53188256193663</td>\n",
       "      <td>{'type': 'Point', 'coordinates': [-113.5318825...</td>\n",
       "      <td>100</td>\n",
       "      <td>RESIDENTIAL</td>\n",
       "    </tr>\n",
       "  </tbody>\n",
       "</table>\n",
       "</div>"
      ],
      "text/plain": [
       "  account_number house_number   street_name garage neighbourhood_id  \\\n",
       "0        1089457        11735  40 AVENUE NW      N             5220   \n",
       "1        1089531        11515  40 AVENUE NW      N             5220   \n",
       "2        1089572        11511  40 AVENUE NW      N             5220   \n",
       "3        1089515        11517  40 AVENUE NW      N             5220   \n",
       "4        1089473        11521  40 AVENUE NW      Y             5220   \n",
       "\n",
       "  neighbourhood           ward assessed_value            latitude  \\\n",
       "0    GREENFIELD  papastew Ward         295500  53.476048825243744   \n",
       "1    GREENFIELD  papastew Ward         312500  53.476044723369654   \n",
       "2    GREENFIELD  papastew Ward         293500   53.47603283160185   \n",
       "3    GREENFIELD  papastew Ward         285500   53.47604638730065   \n",
       "4    GREENFIELD  papastew Ward         313000   53.47604889188216   \n",
       "\n",
       "             longitude                                     point_location  \\\n",
       "0  -113.53718479265814  {'type': 'Point', 'coordinates': [-113.5371847...   \n",
       "1   -113.5314582622399  {'type': 'Point', 'coordinates': [-113.5314582...   \n",
       "2  -113.53116714475051  {'type': 'Point', 'coordinates': [-113.5311671...   \n",
       "3  -113.53160341066878  {'type': 'Point', 'coordinates': [-113.5316034...   \n",
       "4  -113.53188256193663  {'type': 'Point', 'coordinates': [-113.5318825...   \n",
       "\n",
       "  tax_class_pct_1 mill_class_1  \n",
       "0             100  RESIDENTIAL  \n",
       "1             100  RESIDENTIAL  \n",
       "2             100  RESIDENTIAL  \n",
       "3             100  RESIDENTIAL  \n",
       "4             100  RESIDENTIAL  "
      ]
     },
     "execution_count": 4,
     "metadata": {},
     "output_type": "execute_result"
    }
   ],
   "source": [
    "greenfield_df.head()"
   ]
  },
  {
   "cell_type": "code",
   "execution_count": 5,
   "id": "440cf8c2",
   "metadata": {},
   "outputs": [
    {
     "name": "stdout",
     "output_type": "stream",
     "text": [
      "<class 'pandas.core.frame.DataFrame'>\n",
      "RangeIndex: 1000 entries, 0 to 999\n",
      "Data columns (total 13 columns):\n",
      " #   Column            Non-Null Count  Dtype \n",
      "---  ------            --------------  ----- \n",
      " 0   account_number    1000 non-null   object\n",
      " 1   house_number      997 non-null    object\n",
      " 2   street_name       997 non-null    object\n",
      " 3   garage            1000 non-null   object\n",
      " 4   neighbourhood_id  1000 non-null   object\n",
      " 5   neighbourhood     1000 non-null   object\n",
      " 6   ward              1000 non-null   object\n",
      " 7   assessed_value    1000 non-null   object\n",
      " 8   latitude          1000 non-null   object\n",
      " 9   longitude         1000 non-null   object\n",
      " 10  point_location    1000 non-null   object\n",
      " 11  tax_class_pct_1   1000 non-null   object\n",
      " 12  mill_class_1      1000 non-null   object\n",
      "dtypes: object(13)\n",
      "memory usage: 101.7+ KB\n"
     ]
    }
   ],
   "source": [
    "greenfield_df.info()"
   ]
  },
  {
   "cell_type": "markdown",
   "id": "f6d017a1",
   "metadata": {},
   "source": [
    "# Data Cleaning"
   ]
  },
  {
   "cell_type": "markdown",
   "id": "dc9a4c67",
   "metadata": {},
   "source": [
    "## Missing values"
   ]
  },
  {
   "cell_type": "code",
   "execution_count": 6,
   "id": "17dd3353",
   "metadata": {},
   "outputs": [
    {
     "data": {
      "text/html": [
       "<div>\n",
       "<style scoped>\n",
       "    .dataframe tbody tr th:only-of-type {\n",
       "        vertical-align: middle;\n",
       "    }\n",
       "\n",
       "    .dataframe tbody tr th {\n",
       "        vertical-align: top;\n",
       "    }\n",
       "\n",
       "    .dataframe thead th {\n",
       "        text-align: right;\n",
       "    }\n",
       "</style>\n",
       "<table border=\"1\" class=\"dataframe\">\n",
       "  <thead>\n",
       "    <tr style=\"text-align: right;\">\n",
       "      <th></th>\n",
       "      <th>account_number</th>\n",
       "      <th>house_number</th>\n",
       "      <th>street_name</th>\n",
       "      <th>garage</th>\n",
       "      <th>neighbourhood_id</th>\n",
       "      <th>neighbourhood</th>\n",
       "      <th>ward</th>\n",
       "      <th>assessed_value</th>\n",
       "      <th>latitude</th>\n",
       "      <th>longitude</th>\n",
       "      <th>point_location</th>\n",
       "      <th>tax_class_pct_1</th>\n",
       "      <th>mill_class_1</th>\n",
       "    </tr>\n",
       "  </thead>\n",
       "  <tbody>\n",
       "    <tr>\n",
       "      <th>129</th>\n",
       "      <td>7897960</td>\n",
       "      <td>NaN</td>\n",
       "      <td>NaN</td>\n",
       "      <td>N</td>\n",
       "      <td>5220</td>\n",
       "      <td>GREENFIELD</td>\n",
       "      <td>papastew Ward</td>\n",
       "      <td>8000</td>\n",
       "      <td>53.4756798763783</td>\n",
       "      <td>-113.53432947659992</td>\n",
       "      <td>{'type': 'Point', 'coordinates': [-113.5343294...</td>\n",
       "      <td>100</td>\n",
       "      <td>RESIDENTIAL</td>\n",
       "    </tr>\n",
       "    <tr>\n",
       "      <th>923</th>\n",
       "      <td>7890627</td>\n",
       "      <td>NaN</td>\n",
       "      <td>NaN</td>\n",
       "      <td>N</td>\n",
       "      <td>5220</td>\n",
       "      <td>GREENFIELD</td>\n",
       "      <td>papastew Ward</td>\n",
       "      <td>0</td>\n",
       "      <td>53.47267080697447</td>\n",
       "      <td>-113.53439583454548</td>\n",
       "      <td>{'type': 'Point', 'coordinates': [-113.5343958...</td>\n",
       "      <td>100</td>\n",
       "      <td>RESIDENTIAL</td>\n",
       "    </tr>\n",
       "    <tr>\n",
       "      <th>947</th>\n",
       "      <td>7897630</td>\n",
       "      <td>NaN</td>\n",
       "      <td>NaN</td>\n",
       "      <td>N</td>\n",
       "      <td>5220</td>\n",
       "      <td>GREENFIELD</td>\n",
       "      <td>papastew Ward</td>\n",
       "      <td>6000</td>\n",
       "      <td>53.47504991873001</td>\n",
       "      <td>-113.5346489967266</td>\n",
       "      <td>{'type': 'Point', 'coordinates': [-113.5346489...</td>\n",
       "      <td>100</td>\n",
       "      <td>RESIDENTIAL</td>\n",
       "    </tr>\n",
       "  </tbody>\n",
       "</table>\n",
       "</div>"
      ],
      "text/plain": [
       "    account_number house_number street_name garage neighbourhood_id  \\\n",
       "129        7897960          NaN         NaN      N             5220   \n",
       "923        7890627          NaN         NaN      N             5220   \n",
       "947        7897630          NaN         NaN      N             5220   \n",
       "\n",
       "    neighbourhood           ward assessed_value           latitude  \\\n",
       "129    GREENFIELD  papastew Ward           8000   53.4756798763783   \n",
       "923    GREENFIELD  papastew Ward              0  53.47267080697447   \n",
       "947    GREENFIELD  papastew Ward           6000  53.47504991873001   \n",
       "\n",
       "               longitude                                     point_location  \\\n",
       "129  -113.53432947659992  {'type': 'Point', 'coordinates': [-113.5343294...   \n",
       "923  -113.53439583454548  {'type': 'Point', 'coordinates': [-113.5343958...   \n",
       "947   -113.5346489967266  {'type': 'Point', 'coordinates': [-113.5346489...   \n",
       "\n",
       "    tax_class_pct_1 mill_class_1  \n",
       "129             100  RESIDENTIAL  \n",
       "923             100  RESIDENTIAL  \n",
       "947             100  RESIDENTIAL  "
      ]
     },
     "execution_count": 6,
     "metadata": {},
     "output_type": "execute_result"
    }
   ],
   "source": [
    "greenfield_df[greenfield_df.isnull().any(axis=1)]"
   ]
  },
  {
   "cell_type": "code",
   "execution_count": 7,
   "id": "a5cd910f",
   "metadata": {},
   "outputs": [],
   "source": [
    "# all the assessed property values are too low to be accurate or 0, drop all\n",
    "greenfield_df.dropna(inplace=True)"
   ]
  },
  {
   "cell_type": "markdown",
   "id": "0ba43c8d",
   "metadata": {},
   "source": [
    "## Numeric columns"
   ]
  },
  {
   "cell_type": "code",
   "execution_count": 8,
   "id": "55db91d3",
   "metadata": {},
   "outputs": [
    {
     "name": "stdout",
     "output_type": "stream",
     "text": [
      "<class 'pandas.core.frame.DataFrame'>\n",
      "Index: 997 entries, 0 to 999\n",
      "Data columns (total 13 columns):\n",
      " #   Column            Non-Null Count  Dtype  \n",
      "---  ------            --------------  -----  \n",
      " 0   account_number    997 non-null    int64  \n",
      " 1   house_number      997 non-null    int64  \n",
      " 2   street_name       997 non-null    object \n",
      " 3   garage            997 non-null    object \n",
      " 4   neighbourhood_id  997 non-null    int64  \n",
      " 5   neighbourhood     997 non-null    object \n",
      " 6   ward              997 non-null    object \n",
      " 7   assessed_value    997 non-null    int64  \n",
      " 8   latitude          997 non-null    float64\n",
      " 9   longitude         997 non-null    float64\n",
      " 10  point_location    997 non-null    object \n",
      " 11  tax_class_pct_1   997 non-null    int64  \n",
      " 12  mill_class_1      997 non-null    object \n",
      "dtypes: float64(2), int64(5), object(6)\n",
      "memory usage: 109.0+ KB\n"
     ]
    }
   ],
   "source": [
    "# convert numeric columns to numbers\n",
    "numeric_cols = [\"account_number\",\n",
    "               \"house_number\", \n",
    "               \"neighbourhood_id\",\n",
    "               \"assessed_value\",\n",
    "               \"latitude\",\n",
    "               \"longitude\",\n",
    "               \"tax_class_pct_1\"]\n",
    "\n",
    "greenfield_df[numeric_cols] = greenfield_df[numeric_cols].apply(pd.to_numeric)\n",
    "\n",
    "greenfield_df.info()"
   ]
  },
  {
   "cell_type": "markdown",
   "id": "ee314a64",
   "metadata": {},
   "source": [
    "## outliers"
   ]
  },
  {
   "cell_type": "code",
   "execution_count": 9,
   "id": "d5875ee5",
   "metadata": {},
   "outputs": [
    {
     "data": {
      "text/html": [
       "<div>\n",
       "<style scoped>\n",
       "    .dataframe tbody tr th:only-of-type {\n",
       "        vertical-align: middle;\n",
       "    }\n",
       "\n",
       "    .dataframe tbody tr th {\n",
       "        vertical-align: top;\n",
       "    }\n",
       "\n",
       "    .dataframe thead th {\n",
       "        text-align: right;\n",
       "    }\n",
       "</style>\n",
       "<table border=\"1\" class=\"dataframe\">\n",
       "  <thead>\n",
       "    <tr style=\"text-align: right;\">\n",
       "      <th></th>\n",
       "      <th>account_number</th>\n",
       "      <th>house_number</th>\n",
       "      <th>neighbourhood_id</th>\n",
       "      <th>assessed_value</th>\n",
       "      <th>latitude</th>\n",
       "      <th>longitude</th>\n",
       "      <th>tax_class_pct_1</th>\n",
       "    </tr>\n",
       "  </thead>\n",
       "  <tbody>\n",
       "    <tr>\n",
       "      <th>count</th>\n",
       "      <td>9.970000e+02</td>\n",
       "      <td>997.000000</td>\n",
       "      <td>997.0</td>\n",
       "      <td>997.000000</td>\n",
       "      <td>997.000000</td>\n",
       "      <td>997.000000</td>\n",
       "      <td>997.0</td>\n",
       "    </tr>\n",
       "    <tr>\n",
       "      <th>mean</th>\n",
       "      <td>7.808293e+06</td>\n",
       "      <td>8490.557673</td>\n",
       "      <td>5220.0</td>\n",
       "      <td>456735.205617</td>\n",
       "      <td>53.471373</td>\n",
       "      <td>-113.527872</td>\n",
       "      <td>100.0</td>\n",
       "    </tr>\n",
       "    <tr>\n",
       "      <th>std</th>\n",
       "      <td>7.014436e+05</td>\n",
       "      <td>3784.093933</td>\n",
       "      <td>0.0</td>\n",
       "      <td>78378.029808</td>\n",
       "      <td>0.002550</td>\n",
       "      <td>0.006545</td>\n",
       "      <td>0.0</td>\n",
       "    </tr>\n",
       "    <tr>\n",
       "      <th>min</th>\n",
       "      <td>1.089432e+06</td>\n",
       "      <td>3403.000000</td>\n",
       "      <td>5220.0</td>\n",
       "      <td>0.000000</td>\n",
       "      <td>53.466372</td>\n",
       "      <td>-113.538150</td>\n",
       "      <td>100.0</td>\n",
       "    </tr>\n",
       "    <tr>\n",
       "      <th>25%</th>\n",
       "      <td>7.891633e+06</td>\n",
       "      <td>3711.000000</td>\n",
       "      <td>5220.0</td>\n",
       "      <td>426500.000000</td>\n",
       "      <td>53.469266</td>\n",
       "      <td>-113.533825</td>\n",
       "      <td>100.0</td>\n",
       "    </tr>\n",
       "    <tr>\n",
       "      <th>50%</th>\n",
       "      <td>7.897036e+06</td>\n",
       "      <td>11163.000000</td>\n",
       "      <td>5220.0</td>\n",
       "      <td>449000.000000</td>\n",
       "      <td>53.471186</td>\n",
       "      <td>-113.528984</td>\n",
       "      <td>100.0</td>\n",
       "    </tr>\n",
       "    <tr>\n",
       "      <th>75%</th>\n",
       "      <td>7.904089e+06</td>\n",
       "      <td>11511.000000</td>\n",
       "      <td>5220.0</td>\n",
       "      <td>488500.000000</td>\n",
       "      <td>53.473551</td>\n",
       "      <td>-113.521489</td>\n",
       "      <td>100.0</td>\n",
       "    </tr>\n",
       "    <tr>\n",
       "      <th>max</th>\n",
       "      <td>7.909658e+06</td>\n",
       "      <td>11784.000000</td>\n",
       "      <td>5220.0</td>\n",
       "      <td>823000.000000</td>\n",
       "      <td>53.476050</td>\n",
       "      <td>-113.517133</td>\n",
       "      <td>100.0</td>\n",
       "    </tr>\n",
       "  </tbody>\n",
       "</table>\n",
       "</div>"
      ],
      "text/plain": [
       "       account_number  house_number  neighbourhood_id  assessed_value  \\\n",
       "count    9.970000e+02    997.000000             997.0      997.000000   \n",
       "mean     7.808293e+06   8490.557673            5220.0   456735.205617   \n",
       "std      7.014436e+05   3784.093933               0.0    78378.029808   \n",
       "min      1.089432e+06   3403.000000            5220.0        0.000000   \n",
       "25%      7.891633e+06   3711.000000            5220.0   426500.000000   \n",
       "50%      7.897036e+06  11163.000000            5220.0   449000.000000   \n",
       "75%      7.904089e+06  11511.000000            5220.0   488500.000000   \n",
       "max      7.909658e+06  11784.000000            5220.0   823000.000000   \n",
       "\n",
       "         latitude   longitude  tax_class_pct_1  \n",
       "count  997.000000  997.000000            997.0  \n",
       "mean    53.471373 -113.527872            100.0  \n",
       "std      0.002550    0.006545              0.0  \n",
       "min     53.466372 -113.538150            100.0  \n",
       "25%     53.469266 -113.533825            100.0  \n",
       "50%     53.471186 -113.528984            100.0  \n",
       "75%     53.473551 -113.521489            100.0  \n",
       "max     53.476050 -113.517133            100.0  "
      ]
     },
     "execution_count": 9,
     "metadata": {},
     "output_type": "execute_result"
    }
   ],
   "source": [
    "greenfield_df.describe()"
   ]
  },
  {
   "cell_type": "code",
   "execution_count": 10,
   "id": "7b3e8389",
   "metadata": {},
   "outputs": [
    {
     "data": {
      "image/png": "[encoded data removed]",
      "text/plain": [
       "<Figure size 640x480 with 1 Axes>"
      ]
     },
     "metadata": {},
     "output_type": "display_data"
    }
   ],
   "source": [
    "# examine distribution of assessed value for outliers\n",
    "plt.hist(greenfield_df[\"assessed_value\"], bins=20);"
   ]
  },
  {
   "cell_type": "code",
   "execution_count": 11,
   "id": "bf0fb9e6",
   "metadata": {},
   "outputs": [
    {
     "data": {
      "text/html": [
       "<div>\n",
       "<style scoped>\n",
       "    .dataframe tbody tr th:only-of-type {\n",
       "        vertical-align: middle;\n",
       "    }\n",
       "\n",
       "    .dataframe tbody tr th {\n",
       "        vertical-align: top;\n",
       "    }\n",
       "\n",
       "    .dataframe thead th {\n",
       "        text-align: right;\n",
       "    }\n",
       "</style>\n",
       "<table border=\"1\" class=\"dataframe\">\n",
       "  <thead>\n",
       "    <tr style=\"text-align: right;\">\n",
       "      <th></th>\n",
       "      <th>account_number</th>\n",
       "      <th>house_number</th>\n",
       "      <th>street_name</th>\n",
       "      <th>garage</th>\n",
       "      <th>neighbourhood_id</th>\n",
       "      <th>neighbourhood</th>\n",
       "      <th>ward</th>\n",
       "      <th>assessed_value</th>\n",
       "      <th>latitude</th>\n",
       "      <th>longitude</th>\n",
       "      <th>point_location</th>\n",
       "      <th>tax_class_pct_1</th>\n",
       "      <th>mill_class_1</th>\n",
       "    </tr>\n",
       "  </thead>\n",
       "  <tbody>\n",
       "    <tr>\n",
       "      <th>201</th>\n",
       "      <td>7898430</td>\n",
       "      <td>11461</td>\n",
       "      <td>39 AVENUE NW</td>\n",
       "      <td>N</td>\n",
       "      <td>5220</td>\n",
       "      <td>GREENFIELD</td>\n",
       "      <td>papastew Ward</td>\n",
       "      <td>4500</td>\n",
       "      <td>53.474907</td>\n",
       "      <td>-113.531088</td>\n",
       "      <td>{'type': 'Point', 'coordinates': [-113.5310880...</td>\n",
       "      <td>100</td>\n",
       "      <td>RESIDENTIAL</td>\n",
       "    </tr>\n",
       "    <tr>\n",
       "      <th>322</th>\n",
       "      <td>7895477</td>\n",
       "      <td>11403</td>\n",
       "      <td>38 AVENUE NW</td>\n",
       "      <td>Y</td>\n",
       "      <td>5220</td>\n",
       "      <td>GREENFIELD</td>\n",
       "      <td>papastew Ward</td>\n",
       "      <td>0</td>\n",
       "      <td>53.473767</td>\n",
       "      <td>-113.527544</td>\n",
       "      <td>{'type': 'Point', 'coordinates': [-113.5275442...</td>\n",
       "      <td>100</td>\n",
       "      <td>RESIDENTIAL</td>\n",
       "    </tr>\n",
       "    <tr>\n",
       "      <th>339</th>\n",
       "      <td>7891187</td>\n",
       "      <td>11750</td>\n",
       "      <td>37 AVENUE NW</td>\n",
       "      <td>N</td>\n",
       "      <td>5220</td>\n",
       "      <td>GREENFIELD</td>\n",
       "      <td>papastew Ward</td>\n",
       "      <td>8000</td>\n",
       "      <td>53.471462</td>\n",
       "      <td>-113.535582</td>\n",
       "      <td>{'type': 'Point', 'coordinates': [-113.5355820...</td>\n",
       "      <td>100</td>\n",
       "      <td>RESIDENTIAL</td>\n",
       "    </tr>\n",
       "    <tr>\n",
       "      <th>459</th>\n",
       "      <td>7904105</td>\n",
       "      <td>11120</td>\n",
       "      <td>35A AVENUE NW</td>\n",
       "      <td>N</td>\n",
       "      <td>5220</td>\n",
       "      <td>GREENFIELD</td>\n",
       "      <td>papastew Ward</td>\n",
       "      <td>8500</td>\n",
       "      <td>53.469266</td>\n",
       "      <td>-113.518438</td>\n",
       "      <td>{'type': 'Point', 'coordinates': [-113.5184378...</td>\n",
       "      <td>100</td>\n",
       "      <td>RESIDENTIAL</td>\n",
       "    </tr>\n",
       "    <tr>\n",
       "      <th>512</th>\n",
       "      <td>7904238</td>\n",
       "      <td>3612</td>\n",
       "      <td>111A STREET NW</td>\n",
       "      <td>N</td>\n",
       "      <td>5220</td>\n",
       "      <td>GREENFIELD</td>\n",
       "      <td>papastew Ward</td>\n",
       "      <td>8000</td>\n",
       "      <td>53.470342</td>\n",
       "      <td>-113.518118</td>\n",
       "      <td>{'type': 'Point', 'coordinates': [-113.5181183...</td>\n",
       "      <td>100</td>\n",
       "      <td>RESIDENTIAL</td>\n",
       "    </tr>\n",
       "    <tr>\n",
       "      <th>535</th>\n",
       "      <td>7904469</td>\n",
       "      <td>11209</td>\n",
       "      <td>37 AVENUE NW</td>\n",
       "      <td>N</td>\n",
       "      <td>5220</td>\n",
       "      <td>GREENFIELD</td>\n",
       "      <td>papastew Ward</td>\n",
       "      <td>8000</td>\n",
       "      <td>53.471413</td>\n",
       "      <td>-113.521489</td>\n",
       "      <td>{'type': 'Point', 'coordinates': [-113.5214893...</td>\n",
       "      <td>100</td>\n",
       "      <td>RESIDENTIAL</td>\n",
       "    </tr>\n",
       "    <tr>\n",
       "      <th>679</th>\n",
       "      <td>7903966</td>\n",
       "      <td>3609</td>\n",
       "      <td>111B STREET NW</td>\n",
       "      <td>N</td>\n",
       "      <td>5220</td>\n",
       "      <td>GREENFIELD</td>\n",
       "      <td>papastew Ward</td>\n",
       "      <td>8000</td>\n",
       "      <td>53.470341</td>\n",
       "      <td>-113.518761</td>\n",
       "      <td>{'type': 'Point', 'coordinates': [-113.5187609...</td>\n",
       "      <td>100</td>\n",
       "      <td>RESIDENTIAL</td>\n",
       "    </tr>\n",
       "    <tr>\n",
       "      <th>723</th>\n",
       "      <td>7906019</td>\n",
       "      <td>11210</td>\n",
       "      <td>37 AVENUE NW</td>\n",
       "      <td>N</td>\n",
       "      <td>5220</td>\n",
       "      <td>GREENFIELD</td>\n",
       "      <td>papastew Ward</td>\n",
       "      <td>8000</td>\n",
       "      <td>53.471909</td>\n",
       "      <td>-113.521679</td>\n",
       "      <td>{'type': 'Point', 'coordinates': [-113.5216793...</td>\n",
       "      <td>100</td>\n",
       "      <td>RESIDENTIAL</td>\n",
       "    </tr>\n",
       "    <tr>\n",
       "      <th>737</th>\n",
       "      <td>7902968</td>\n",
       "      <td>11200</td>\n",
       "      <td>36A AVENUE NW</td>\n",
       "      <td>N</td>\n",
       "      <td>5220</td>\n",
       "      <td>GREENFIELD</td>\n",
       "      <td>papastew Ward</td>\n",
       "      <td>8500</td>\n",
       "      <td>53.470831</td>\n",
       "      <td>-113.522874</td>\n",
       "      <td>{'type': 'Point', 'coordinates': [-113.5228742...</td>\n",
       "      <td>100</td>\n",
       "      <td>RESIDENTIAL</td>\n",
       "    </tr>\n",
       "    <tr>\n",
       "      <th>781</th>\n",
       "      <td>7892821</td>\n",
       "      <td>11411</td>\n",
       "      <td>35A AVENUE NW</td>\n",
       "      <td>N</td>\n",
       "      <td>5220</td>\n",
       "      <td>GREENFIELD</td>\n",
       "      <td>papastew Ward</td>\n",
       "      <td>8000</td>\n",
       "      <td>53.468756</td>\n",
       "      <td>-113.529389</td>\n",
       "      <td>{'type': 'Point', 'coordinates': [-113.5293891...</td>\n",
       "      <td>100</td>\n",
       "      <td>RESIDENTIAL</td>\n",
       "    </tr>\n",
       "    <tr>\n",
       "      <th>998</th>\n",
       "      <td>7905003</td>\n",
       "      <td>11142</td>\n",
       "      <td>36A AVENUE NW</td>\n",
       "      <td>N</td>\n",
       "      <td>5220</td>\n",
       "      <td>GREENFIELD</td>\n",
       "      <td>papastew Ward</td>\n",
       "      <td>8500</td>\n",
       "      <td>53.471235</td>\n",
       "      <td>-113.519910</td>\n",
       "      <td>{'type': 'Point', 'coordinates': [-113.5199100...</td>\n",
       "      <td>100</td>\n",
       "      <td>RESIDENTIAL</td>\n",
       "    </tr>\n",
       "  </tbody>\n",
       "</table>\n",
       "</div>"
      ],
      "text/plain": [
       "     account_number  house_number     street_name garage  neighbourhood_id  \\\n",
       "201         7898430         11461    39 AVENUE NW      N              5220   \n",
       "322         7895477         11403    38 AVENUE NW      Y              5220   \n",
       "339         7891187         11750    37 AVENUE NW      N              5220   \n",
       "459         7904105         11120   35A AVENUE NW      N              5220   \n",
       "512         7904238          3612  111A STREET NW      N              5220   \n",
       "535         7904469         11209    37 AVENUE NW      N              5220   \n",
       "679         7903966          3609  111B STREET NW      N              5220   \n",
       "723         7906019         11210    37 AVENUE NW      N              5220   \n",
       "737         7902968         11200   36A AVENUE NW      N              5220   \n",
       "781         7892821         11411   35A AVENUE NW      N              5220   \n",
       "998         7905003         11142   36A AVENUE NW      N              5220   \n",
       "\n",
       "    neighbourhood           ward  assessed_value   latitude   longitude  \\\n",
       "201    GREENFIELD  papastew Ward            4500  53.474907 -113.531088   \n",
       "322    GREENFIELD  papastew Ward               0  53.473767 -113.527544   \n",
       "339    GREENFIELD  papastew Ward            8000  53.471462 -113.535582   \n",
       "459    GREENFIELD  papastew Ward            8500  53.469266 -113.518438   \n",
       "512    GREENFIELD  papastew Ward            8000  53.470342 -113.518118   \n",
       "535    GREENFIELD  papastew Ward            8000  53.471413 -113.521489   \n",
       "679    GREENFIELD  papastew Ward            8000  53.470341 -113.518761   \n",
       "723    GREENFIELD  papastew Ward            8000  53.471909 -113.521679   \n",
       "737    GREENFIELD  papastew Ward            8500  53.470831 -113.522874   \n",
       "781    GREENFIELD  papastew Ward            8000  53.468756 -113.529389   \n",
       "998    GREENFIELD  papastew Ward            8500  53.471235 -113.519910   \n",
       "\n",
       "                                        point_location  tax_class_pct_1  \\\n",
       "201  {'type': 'Point', 'coordinates': [-113.5310880...              100   \n",
       "322  {'type': 'Point', 'coordinates': [-113.5275442...              100   \n",
       "339  {'type': 'Point', 'coordinates': [-113.5355820...              100   \n",
       "459  {'type': 'Point', 'coordinates': [-113.5184378...              100   \n",
       "512  {'type': 'Point', 'coordinates': [-113.5181183...              100   \n",
       "535  {'type': 'Point', 'coordinates': [-113.5214893...              100   \n",
       "679  {'type': 'Point', 'coordinates': [-113.5187609...              100   \n",
       "723  {'type': 'Point', 'coordinates': [-113.5216793...              100   \n",
       "737  {'type': 'Point', 'coordinates': [-113.5228742...              100   \n",
       "781  {'type': 'Point', 'coordinates': [-113.5293891...              100   \n",
       "998  {'type': 'Point', 'coordinates': [-113.5199100...              100   \n",
       "\n",
       "    mill_class_1  \n",
       "201  RESIDENTIAL  \n",
       "322  RESIDENTIAL  \n",
       "339  RESIDENTIAL  \n",
       "459  RESIDENTIAL  \n",
       "512  RESIDENTIAL  \n",
       "535  RESIDENTIAL  \n",
       "679  RESIDENTIAL  \n",
       "723  RESIDENTIAL  \n",
       "737  RESIDENTIAL  \n",
       "781  RESIDENTIAL  \n",
       "998  RESIDENTIAL  "
      ]
     },
     "execution_count": 11,
     "metadata": {},
     "output_type": "execute_result"
    }
   ],
   "source": [
    "# check if 200,000 is a good cutoff point for outliers\n",
    "greenfield_df[greenfield_df[\"assessed_value\"] < 200000]"
   ]
  },
  {
   "cell_type": "code",
   "execution_count": 12,
   "id": "6401c970",
   "metadata": {},
   "outputs": [],
   "source": [
    "# these are likely all powerline properties, so can be dropped\n",
    "greenfield_df = greenfield_df[greenfield_df[\"assessed_value\"]>200000]"
   ]
  },
  {
   "cell_type": "code",
   "execution_count": 13,
   "id": "1c24429e",
   "metadata": {},
   "outputs": [
    {
     "data": {
      "text/html": [
       "<div>\n",
       "<style scoped>\n",
       "    .dataframe tbody tr th:only-of-type {\n",
       "        vertical-align: middle;\n",
       "    }\n",
       "\n",
       "    .dataframe tbody tr th {\n",
       "        vertical-align: top;\n",
       "    }\n",
       "\n",
       "    .dataframe thead th {\n",
       "        text-align: right;\n",
       "    }\n",
       "</style>\n",
       "<table border=\"1\" class=\"dataframe\">\n",
       "  <thead>\n",
       "    <tr style=\"text-align: right;\">\n",
       "      <th></th>\n",
       "      <th>account_number</th>\n",
       "      <th>house_number</th>\n",
       "      <th>neighbourhood_id</th>\n",
       "      <th>assessed_value</th>\n",
       "      <th>latitude</th>\n",
       "      <th>longitude</th>\n",
       "      <th>tax_class_pct_1</th>\n",
       "    </tr>\n",
       "  </thead>\n",
       "  <tbody>\n",
       "    <tr>\n",
       "      <th>count</th>\n",
       "      <td>9.860000e+02</td>\n",
       "      <td>986.000000</td>\n",
       "      <td>986.0</td>\n",
       "      <td>986.000000</td>\n",
       "      <td>986.000000</td>\n",
       "      <td>986.000000</td>\n",
       "      <td>986.0</td>\n",
       "    </tr>\n",
       "    <tr>\n",
       "      <th>mean</th>\n",
       "      <td>7.807261e+06</td>\n",
       "      <td>8474.603448</td>\n",
       "      <td>5220.0</td>\n",
       "      <td>461751.521298</td>\n",
       "      <td>53.471374</td>\n",
       "      <td>-113.527914</td>\n",
       "      <td>100.0</td>\n",
       "    </tr>\n",
       "    <tr>\n",
       "      <th>std</th>\n",
       "      <td>7.052808e+05</td>\n",
       "      <td>3789.067796</td>\n",
       "      <td>0.0</td>\n",
       "      <td>62678.651250</td>\n",
       "      <td>0.002558</td>\n",
       "      <td>0.006543</td>\n",
       "      <td>0.0</td>\n",
       "    </tr>\n",
       "    <tr>\n",
       "      <th>min</th>\n",
       "      <td>1.089432e+06</td>\n",
       "      <td>3403.000000</td>\n",
       "      <td>5220.0</td>\n",
       "      <td>285500.000000</td>\n",
       "      <td>53.466372</td>\n",
       "      <td>-113.538150</td>\n",
       "      <td>100.0</td>\n",
       "    </tr>\n",
       "    <tr>\n",
       "      <th>25%</th>\n",
       "      <td>7.891611e+06</td>\n",
       "      <td>3708.750000</td>\n",
       "      <td>5220.0</td>\n",
       "      <td>427500.000000</td>\n",
       "      <td>53.469266</td>\n",
       "      <td>-113.533829</td>\n",
       "      <td>100.0</td>\n",
       "    </tr>\n",
       "    <tr>\n",
       "      <th>50%</th>\n",
       "      <td>7.896979e+06</td>\n",
       "      <td>11161.000000</td>\n",
       "      <td>5220.0</td>\n",
       "      <td>449500.000000</td>\n",
       "      <td>53.471181</td>\n",
       "      <td>-113.529032</td>\n",
       "      <td>100.0</td>\n",
       "    </tr>\n",
       "    <tr>\n",
       "      <th>75%</th>\n",
       "      <td>7.904047e+06</td>\n",
       "      <td>11511.750000</td>\n",
       "      <td>5220.0</td>\n",
       "      <td>489375.000000</td>\n",
       "      <td>53.473557</td>\n",
       "      <td>-113.521562</td>\n",
       "      <td>100.0</td>\n",
       "    </tr>\n",
       "    <tr>\n",
       "      <th>max</th>\n",
       "      <td>7.909658e+06</td>\n",
       "      <td>11784.000000</td>\n",
       "      <td>5220.0</td>\n",
       "      <td>823000.000000</td>\n",
       "      <td>53.476050</td>\n",
       "      <td>-113.517133</td>\n",
       "      <td>100.0</td>\n",
       "    </tr>\n",
       "  </tbody>\n",
       "</table>\n",
       "</div>"
      ],
      "text/plain": [
       "       account_number  house_number  neighbourhood_id  assessed_value  \\\n",
       "count    9.860000e+02    986.000000             986.0      986.000000   \n",
       "mean     7.807261e+06   8474.603448            5220.0   461751.521298   \n",
       "std      7.052808e+05   3789.067796               0.0    62678.651250   \n",
       "min      1.089432e+06   3403.000000            5220.0   285500.000000   \n",
       "25%      7.891611e+06   3708.750000            5220.0   427500.000000   \n",
       "50%      7.896979e+06  11161.000000            5220.0   449500.000000   \n",
       "75%      7.904047e+06  11511.750000            5220.0   489375.000000   \n",
       "max      7.909658e+06  11784.000000            5220.0   823000.000000   \n",
       "\n",
       "         latitude   longitude  tax_class_pct_1  \n",
       "count  986.000000  986.000000            986.0  \n",
       "mean    53.471374 -113.527914            100.0  \n",
       "std      0.002558    0.006543              0.0  \n",
       "min     53.466372 -113.538150            100.0  \n",
       "25%     53.469266 -113.533829            100.0  \n",
       "50%     53.471181 -113.529032            100.0  \n",
       "75%     53.473557 -113.521562            100.0  \n",
       "max     53.476050 -113.517133            100.0  "
      ]
     },
     "execution_count": 13,
     "metadata": {},
     "output_type": "execute_result"
    }
   ],
   "source": [
    "greenfield_df.describe()"
   ]
  },
  {
   "cell_type": "markdown",
   "id": "d8045f30",
   "metadata": {},
   "source": [
    "# Plot"
   ]
  },
  {
   "cell_type": "code",
   "execution_count": 17,
   "id": "33486e79",
   "metadata": {},
   "outputs": [
    {
     "data": {
      "application/vnd.plotly.v1+json": {
       "config": {
        "plotlyServerURL": "https://plot.ly"
       },
       "data": [
        {
         "customdata": [
          [
           11735,
           295500
          ],
          [
           11515,
           312500
          ],
          [
           11511,
           293500
          ],
          [
           11517,
           285500
          ],
          [
           11521,
           313000
          ],
          [
           11737,
           293500
          ],
          [
           11513,
           344500
          ],
          [
           11519,
           309000
          ],
          [
           11425,
           316000
          ],
          [
           11423,
           303000
          ],
          [
           11458,
           355000
          ],
          [
           11456,
           328500
          ],
          [
           11506,
           344500
          ],
          [
           3913,
           323000
          ],
          [
           3911,
           327500
          ],
          [
           11504,
           356500
          ],
          [
           3715,
           372500
          ],
          [
           11304,
           443000
          ],
          [
           11420,
           449000
          ],
          [
           3619,
           423500
          ],
          [
           11428,
           572500
          ],
          [
           11452,
           343000
          ],
          [
           11735,
           442000
          ],
          [
           3808,
           549000
          ],
          [
           3812,
           471500
          ],
          [
           11511,
           398000
          ],
          [
           3604,
           444500
          ],
          [
           11136,
           394000
          ],
          [
           3732,
           422500
          ],
          [
           11107,
           427500
          ],
          [
           3627,
           428000
          ],
          [
           11739,
           445500
          ],
          [
           11147,
           598500
          ],
          [
           11108,
           456500
          ],
          [
           11352,
           474500
          ],
          [
           3431,
           581000
          ],
          [
           11226,
           544500
          ],
          [
           11404,
           518500
          ],
          [
           3811,
           437500
          ],
          [
           11511,
           493000
          ],
          [
           11763,
           453500
          ],
          [
           3628,
           457500
          ],
          [
           3532,
           464000
          ],
          [
           11755,
           463000
          ],
          [
           11131,
           454000
          ],
          [
           11215,
           473500
          ],
          [
           11764,
           527000
          ],
          [
           11139,
           447500
          ],
          [
           11431,
           503500
          ],
          [
           11440,
           458000
          ],
          [
           11157,
           522000
          ],
          [
           11144,
           381500
          ],
          [
           3615,
           417500
          ],
          [
           11121,
           477500
          ],
          [
           3616,
           441000
          ],
          [
           3531,
           465500
          ],
          [
           3923,
           425000
          ],
          [
           3808,
           298500
          ],
          [
           11608,
           448500
          ],
          [
           3441,
           461500
          ],
          [
           11152,
           420000
          ],
          [
           11164,
           449500
          ],
          [
           11156,
           434000
          ],
          [
           3503,
           607500
          ],
          [
           11403,
           483000
          ],
          [
           11507,
           454500
          ],
          [
           3615,
           445000
          ],
          [
           3520,
           445000
          ],
          [
           3635,
           412500
          ],
          [
           11703,
           450000
          ],
          [
           11744,
           486000
          ],
          [
           11239,
           579000
          ],
          [
           3811,
           474000
          ],
          [
           11411,
           492000
          ],
          [
           11727,
           398500
          ],
          [
           11462,
           359500
          ],
          [
           11603,
           437500
          ],
          [
           11736,
           444500
          ],
          [
           11228,
           538000
          ],
          [
           11108,
           442500
          ],
          [
           3756,
           497000
          ],
          [
           11716,
           439000
          ],
          [
           11524,
           453500
          ],
          [
           3516,
           468000
          ],
          [
           11120,
           422500
          ],
          [
           11723,
           422500
          ],
          [
           11220,
           429500
          ],
          [
           3816,
           457500
          ],
          [
           11335,
           572500
          ],
          [
           11523,
           569500
          ],
          [
           3804,
           491000
          ],
          [
           3508,
           497500
          ],
          [
           11715,
           419500
          ],
          [
           11245,
           472000
          ],
          [
           11412,
           447000
          ],
          [
           11511,
           485500
          ],
          [
           11415,
           454000
          ],
          [
           11619,
           427500
          ],
          [
           3704,
           443500
          ],
          [
           3623,
           410000
          ],
          [
           11703,
           485000
          ],
          [
           3723,
           391000
          ],
          [
           11163,
           449500
          ],
          [
           3707,
           524500
          ],
          [
           3425,
           507500
          ],
          [
           3630,
           457500
          ],
          [
           3707,
           500500
          ],
          [
           11743,
           456000
          ],
          [
           3515,
           413500
          ],
          [
           11727,
           462500
          ],
          [
           11431,
           434000
          ],
          [
           11115,
           404000
          ],
          [
           3928,
           433000
          ],
          [
           11444,
           488000
          ],
          [
           3619,
           540500
          ],
          [
           3519,
           523000
          ],
          [
           3740,
           436500
          ],
          [
           11227,
           488500
          ],
          [
           3808,
           417000
          ],
          [
           11148,
           424000
          ],
          [
           11752,
           463000
          ],
          [
           11116,
           489000
          ],
          [
           11143,
           455500
          ],
          [
           3831,
           452000
          ],
          [
           11461,
           335000
          ],
          [
           11323,
           427000
          ],
          [
           11736,
           537000
          ],
          [
           11508,
           419500
          ],
          [
           11759,
           445500
          ],
          [
           11151,
           389000
          ],
          [
           11604,
           464000
          ],
          [
           11764,
           557000
          ],
          [
           3425,
           483500
          ],
          [
           11412,
           474500
          ],
          [
           11627,
           426000
          ],
          [
           11719,
           548500
          ],
          [
           3516,
           429000
          ],
          [
           3607,
           401000
          ],
          [
           11208,
           524500
          ],
          [
           11311,
           574500
          ],
          [
           3503,
           437500
          ],
          [
           3512,
           463500
          ],
          [
           11719,
           420000
          ],
          [
           11535,
           515000
          ],
          [
           3924,
           377000
          ],
          [
           11603,
           419000
          ],
          [
           11607,
           545500
          ],
          [
           11119,
           427000
          ],
          [
           11527,
           480500
          ],
          [
           11623,
           452500
          ],
          [
           3820,
           444500
          ],
          [
           11315,
           484500
          ],
          [
           11620,
           416000
          ],
          [
           11347,
           429500
          ],
          [
           3507,
           473000
          ],
          [
           3748,
           438000
          ],
          [
           3831,
           430500
          ],
          [
           11328,
           407000
          ],
          [
           11347,
           559000
          ],
          [
           11439,
           430000
          ],
          [
           3612,
           470000
          ],
          [
           11311,
           421000
          ],
          [
           11135,
           513000
          ],
          [
           3832,
           455000
          ],
          [
           11144,
           425000
          ],
          [
           11732,
           458500
          ],
          [
           3539,
           408000
          ],
          [
           3501,
           529000
          ],
          [
           11236,
           470000
          ],
          [
           11457,
           302000
          ],
          [
           11103,
           449000
          ],
          [
           11155,
           451000
          ],
          [
           11170,
           552500
          ],
          [
           11739,
           464500
          ],
          [
           3711,
           407000
          ],
          [
           11219,
           417000
          ],
          [
           3624,
           495500
          ],
          [
           11524,
           535000
          ],
          [
           3823,
           400500
          ],
          [
           11415,
           510500
          ],
          [
           11124,
           464000
          ],
          [
           11204,
           422000
          ],
          [
           3508,
           441000
          ],
          [
           11416,
           408000
          ],
          [
           11419,
           416500
          ],
          [
           11512,
           433000
          ],
          [
           11142,
           535000
          ],
          [
           11257,
           528500
          ],
          [
           11740,
           431000
          ],
          [
           11204,
           459500
          ],
          [
           11207,
           449000
          ],
          [
           3720,
           433500
          ],
          [
           3904,
           457000
          ],
          [
           3607,
           409500
          ],
          [
           11215,
           502000
          ],
          [
           3708,
           427500
          ],
          [
           3616,
           524500
          ],
          [
           11711,
           422000
          ],
          [
           11217,
           583500
          ],
          [
           3832,
           407000
          ],
          [
           3437,
           450000
          ],
          [
           3815,
           429000
          ],
          [
           11339,
           509500
          ],
          [
           3603,
           500500
          ],
          [
           3503,
           526000
          ],
          [
           11235,
           537500
          ],
          [
           11140,
           464500
          ],
          [
           3507,
           394000
          ],
          [
           11439,
           314500
          ],
          [
           11712,
           417500
          ],
          [
           3912,
           520500
          ],
          [
           11212,
           489500
          ],
          [
           11615,
           426500
          ],
          [
           3438,
           524000
          ],
          [
           3603,
           457500
          ],
          [
           11153,
           506000
          ],
          [
           11439,
           412000
          ],
          [
           11203,
           417000
          ],
          [
           11515,
           409000
          ],
          [
           11251,
           502500
          ],
          [
           11511,
           438500
          ],
          [
           11126,
           576500
          ],
          [
           3912,
           468000
          ],
          [
           11520,
           429000
          ],
          [
           11712,
           432000
          ],
          [
           3623,
           435500
          ],
          [
           11604,
           447000
          ],
          [
           3435,
           552500
          ],
          [
           3520,
           411000
          ],
          [
           11120,
           453500
          ],
          [
           3408,
           477000
          ],
          [
           11731,
           466000
          ],
          [
           11432,
           474500
          ],
          [
           11703,
           539500
          ],
          [
           11207,
           434500
          ],
          [
           3527,
           470500
          ],
          [
           11112,
           442500
          ],
          [
           3927,
           438500
          ],
          [
           3524,
           460000
          ],
          [
           11238,
           535500
          ],
          [
           11716,
           428500
          ],
          [
           3735,
           457500
          ],
          [
           11732,
           491000
          ],
          [
           11328,
           429500
          ],
          [
           3904,
           469000
          ],
          [
           11115,
           415500
          ],
          [
           3912,
           447000
          ],
          [
           11711,
           409500
          ],
          [
           11419,
           457500
          ],
          [
           3836,
           477000
          ],
          [
           11143,
           442000
          ],
          [
           3807,
           424000
          ],
          [
           11504,
           448000
          ],
          [
           11703,
           449500
          ],
          [
           3631,
           417500
          ],
          [
           11520,
           431000
          ],
          [
           11780,
           441000
          ],
          [
           3512,
           478500
          ],
          [
           11707,
           631000
          ],
          [
           11449,
           293500
          ],
          [
           11112,
           473500
          ],
          [
           3516,
           411000
          ],
          [
           11303,
           514000
          ],
          [
           3527,
           445500
          ],
          [
           3703,
           480500
          ],
          [
           3809,
           323000
          ],
          [
           11616,
           471500
          ],
          [
           3803,
           389000
          ],
          [
           11704,
           529000
          ],
          [
           11716,
           426000
          ],
          [
           11724,
           435000
          ],
          [
           3511,
           440000
          ],
          [
           3823,
           413500
          ],
          [
           11435,
           448000
          ],
          [
           3916,
           452500
          ],
          [
           11212,
           468000
          ],
          [
           3608,
           499500
          ],
          [
           11607,
           442500
          ],
          [
           11232,
           502000
          ],
          [
           3904,
           471500
          ],
          [
           3615,
           708500
          ],
          [
           11615,
           423000
          ],
          [
           11415,
           551000
          ],
          [
           11138,
           571000
          ],
          [
           3903,
           433000
          ],
          [
           11771,
           437000
          ],
          [
           11432,
           426500
          ],
          [
           3523,
           490500
          ],
          [
           11752,
           433500
          ],
          [
           11440,
           417500
          ],
          [
           11148,
           424000
          ],
          [
           3612,
           450500
          ],
          [
           3612,
           495000
          ],
          [
           3611,
           408500
          ],
          [
           3507,
           445000
          ],
          [
           3627,
           450000
          ],
          [
           3719,
           415000
          ],
          [
           3422,
           564000
          ],
          [
           11452,
           400500
          ],
          [
           3631,
           479000
          ],
          [
           11739,
           572000
          ],
          [
           11723,
           503000
          ],
          [
           11115,
           441000
          ],
          [
           3604,
           401500
          ],
          [
           11127,
           419500
          ],
          [
           11503,
           435000
          ],
          [
           11431,
           454500
          ],
          [
           11512,
           536000
          ],
          [
           11731,
           397000
          ],
          [
           3520,
           459500
          ],
          [
           11132,
           453000
          ],
          [
           3615,
           507000
          ],
          [
           11128,
           408000
          ],
          [
           3736,
           436500
          ],
          [
           3843,
           440000
          ],
          [
           3504,
           522000
          ],
          [
           3536,
           424500
          ],
          [
           3436,
           481500
          ],
          [
           3736,
           433500
          ],
          [
           3624,
           409000
          ],
          [
           11115,
           435500
          ],
          [
           11131,
           454500
          ],
          [
           11743,
           542000
          ],
          [
           11329,
           475000
          ],
          [
           11316,
           406500
          ],
          [
           3917,
           314500
          ],
          [
           11760,
           477500
          ],
          [
           11719,
           462000
          ],
          [
           3827,
           464000
          ],
          [
           11315,
           461000
          ],
          [
           11512,
           439500
          ],
          [
           11724,
           412500
          ],
          [
           3437,
           475500
          ],
          [
           11253,
           484500
          ],
          [
           11424,
           433500
          ],
          [
           11508,
           496000
          ],
          [
           11611,
           406500
          ],
          [
           11112,
           470000
          ],
          [
           3612,
           409500
          ],
          [
           11445,
           314000
          ],
          [
           3511,
           450500
          ],
          [
           3620,
           532000
          ],
          [
           11229,
           530500
          ],
          [
           11155,
           435500
          ],
          [
           3524,
           435500
          ],
          [
           3928,
           409000
          ],
          [
           11523,
           526000
          ],
          [
           3403,
           528000
          ],
          [
           11632,
           444000
          ],
          [
           11212,
           436000
          ],
          [
           11204,
           468000
          ],
          [
           3807,
           582500
          ],
          [
           3612,
           428500
          ],
          [
           3815,
           443500
          ],
          [
           11512,
           469000
          ],
          [
           11732,
           435500
          ],
          [
           11148,
           393500
          ],
          [
           11507,
           442000
          ],
          [
           11166,
           588000
          ],
          [
           3835,
           430000
          ],
          [
           3611,
           419000
          ],
          [
           11216,
           491500
          ],
          [
           11511,
           609000
          ],
          [
           3512,
           469500
          ],
          [
           11216,
           437000
          ],
          [
           3711,
           451000
          ],
          [
           11719,
           455000
          ],
          [
           11211,
           422500
          ],
          [
           3508,
           552000
          ],
          [
           3619,
           431000
          ],
          [
           11125,
           672000
          ],
          [
           3503,
           435500
          ],
          [
           11504,
           465000
          ],
          [
           3603,
           478000
          ],
          [
           11219,
           430500
          ],
          [
           3803,
           419500
          ],
          [
           3810,
           317000
          ],
          [
           11131,
           483500
          ],
          [
           11715,
           461000
          ],
          [
           3504,
           495500
          ],
          [
           3440,
           452500
          ],
          [
           3516,
           443000
          ],
          [
           11611,
           484500
          ],
          [
           11123,
           440500
          ],
          [
           11616,
           526000
          ],
          [
           11118,
           618500
          ],
          [
           3715,
           433000
          ],
          [
           3804,
           392000
          ],
          [
           3632,
           451500
          ],
          [
           11735,
           377500
          ],
          [
           11111,
           497500
          ],
          [
           11466,
           357500
          ],
          [
           11448,
           416500
          ],
          [
           3519,
           479500
          ],
          [
           11412,
           487500
          ],
          [
           3927,
           305000
          ],
          [
           3911,
           410500
          ],
          [
           11208,
           469500
          ],
          [
           3504,
           479000
          ],
          [
           11768,
           445500
          ],
          [
           11736,
           410000
          ],
          [
           11712,
           464000
          ],
          [
           11115,
           488000
          ],
          [
           11147,
           484000
          ],
          [
           11325,
           487500
          ],
          [
           11724,
           376500
          ],
          [
           3903,
           436000
          ],
          [
           11331,
           438000
          ],
          [
           11138,
           501000
          ],
          [
           11603,
           471500
          ],
          [
           11604,
           411500
          ],
          [
           11244,
           603500
          ],
          [
           11539,
           524000
          ],
          [
           3612,
           615500
          ],
          [
           3612,
           431500
          ],
          [
           11348,
           441500
          ],
          [
           11156,
           403000
          ],
          [
           11312,
           443500
          ],
          [
           11703,
           462000
          ],
          [
           11212,
           635000
          ],
          [
           3524,
           437000
          ],
          [
           11731,
           486500
          ],
          [
           3824,
           415000
          ],
          [
           11519,
           475000
          ],
          [
           3623,
           407500
          ],
          [
           11441,
           315500
          ],
          [
           11324,
           415000
          ],
          [
           11303,
           475500
          ],
          [
           3427,
           515000
          ],
          [
           3624,
           423500
          ],
          [
           11152,
           449500
          ],
          [
           11436,
           427500
          ],
          [
           11732,
           435000
          ],
          [
           11307,
           437500
          ],
          [
           3543,
           438000
          ],
          [
           11767,
           490500
          ],
          [
           11136,
           414500
          ],
          [
           11240,
           542500
          ],
          [
           11155,
           436000
          ],
          [
           11528,
           444500
          ],
          [
           3511,
           498000
          ],
          [
           3519,
           424500
          ],
          [
           3421,
           464500
          ],
          [
           11455,
           302000
          ],
          [
           3803,
           342000
          ],
          [
           3524,
           476500
          ],
          [
           11712,
           464500
          ],
          [
           3620,
           449500
          ],
          [
           11403,
           433000
          ],
          [
           11167,
           461500
          ],
          [
           11104,
           411000
          ],
          [
           11139,
           493000
          ],
          [
           11712,
           446500
          ],
          [
           11116,
           487000
          ],
          [
           11535,
           420000
          ],
          [
           3424,
           533000
          ],
          [
           3531,
           482500
          ],
          [
           11203,
           417500
          ],
          [
           3916,
           404000
          ],
          [
           11423,
           421000
          ],
          [
           11620,
           432000
          ],
          [
           11149,
           592000
          ],
          [
           11343,
           430500
          ],
          [
           11720,
           684500
          ],
          [
           3804,
           594500
          ],
          [
           11731,
           493000
          ],
          [
           11707,
           430500
          ],
          [
           11424,
           430500
          ],
          [
           11327,
           483000
          ],
          [
           3536,
           417500
          ],
          [
           11751,
           449000
          ],
          [
           3511,
           423500
          ],
          [
           11767,
           438500
          ],
          [
           3430,
           628500
          ],
          [
           11149,
           511000
          ],
          [
           3524,
           439000
          ],
          [
           11515,
           462500
          ],
          [
           11135,
           415000
          ],
          [
           11759,
           398000
          ],
          [
           3716,
           453500
          ],
          [
           3620,
           481500
          ],
          [
           11615,
           576000
          ],
          [
           11604,
           432500
          ],
          [
           11159,
           422500
          ],
          [
           11515,
           523000
          ],
          [
           3819,
           393500
          ],
          [
           11740,
           425500
          ],
          [
           11711,
           387000
          ],
          [
           3619,
           497000
          ],
          [
           11760,
           477500
          ],
          [
           11616,
           495500
          ],
          [
           11423,
           420000
          ],
          [
           11747,
           474000
          ],
          [
           11168,
           415000
          ],
          [
           11360,
           498500
          ],
          [
           11103,
           480500
          ],
          [
           11739,
           453500
          ],
          [
           11127,
           437500
          ],
          [
           11208,
           673000
          ],
          [
           3911,
           471500
          ],
          [
           11525,
           491000
          ],
          [
           11752,
           427000
          ],
          [
           11611,
           471000
          ],
          [
           11603,
           476500
          ],
          [
           11427,
           312500
          ],
          [
           11241,
           566000
          ],
          [
           3835,
           530000
          ],
          [
           11616,
           412000
          ],
          [
           11159,
           462500
          ],
          [
           11436,
           439000
          ],
          [
           11120,
           505500
          ],
          [
           3527,
           436500
          ],
          [
           11169,
           570500
          ],
          [
           11243,
           608000
          ],
          [
           3531,
           450500
          ],
          [
           3611,
           396500
          ],
          [
           11147,
           436000
          ],
          [
           3502,
           485000
          ],
          [
           3815,
           540000
          ],
          [
           11427,
           406500
          ],
          [
           3512,
           476500
          ],
          [
           3603,
           411000
          ],
          [
           11728,
           438000
          ],
          [
           11160,
           440000
          ],
          [
           3611,
           430500
          ],
          [
           3528,
           443500
          ],
          [
           11736,
           547000
          ],
          [
           11735,
           423000
          ],
          [
           11428,
           604500
          ],
          [
           3724,
           532000
          ],
          [
           3620,
           412000
          ],
          [
           3604,
           535500
          ],
          [
           3603,
           607000
          ],
          [
           3828,
           544500
          ],
          [
           11172,
           421500
          ],
          [
           11716,
           641000
          ],
          [
           11739,
           385500
          ],
          [
           3711,
           422500
          ],
          [
           11715,
           421000
          ],
          [
           3441,
           502500
          ],
          [
           11343,
           415000
          ],
          [
           11715,
           472500
          ],
          [
           3608,
           414500
          ],
          [
           11141,
           533000
          ],
          [
           11207,
           414000
          ],
          [
           11423,
           443500
          ],
          [
           3519,
           437000
          ],
          [
           3608,
           441000
          ],
          [
           11735,
           501500
          ],
          [
           3504,
           497500
          ],
          [
           11752,
           455000
          ],
          [
           3731,
           418000
          ],
          [
           11503,
           472000
          ],
          [
           11119,
           424500
          ],
          [
           11775,
           576000
          ],
          [
           11503,
           429500
          ],
          [
           11751,
           470000
          ],
          [
           11704,
           411000
          ],
          [
           3528,
           453000
          ],
          [
           3831,
           446500
          ],
          [
           3420,
           504500
          ],
          [
           11131,
           435000
          ],
          [
           11612,
           446500
          ],
          [
           3424,
           501000
          ],
          [
           3923,
           538000
          ],
          [
           3507,
           422000
          ],
          [
           11341,
           673000
          ],
          [
           11723,
           438000
          ],
          [
           11423,
           406500
          ],
          [
           11623,
           455000
          ],
          [
           3624,
           381500
          ],
          [
           3807,
           474000
          ],
          [
           11763,
           480500
          ],
          [
           3819,
           464500
          ],
          [
           3603,
           459500
          ],
          [
           11128,
           436500
          ],
          [
           3807,
           433000
          ],
          [
           11755,
           490500
          ],
          [
           3631,
           441500
          ],
          [
           11748,
           416500
          ],
          [
           11145,
           569000
          ],
          [
           11146,
           454500
          ],
          [
           3916,
           424000
          ],
          [
           11332,
           451000
          ],
          [
           11348,
           472500
          ],
          [
           3819,
           428500
          ],
          [
           3804,
           402000
          ],
          [
           11624,
           604000
          ],
          [
           11503,
           440500
          ],
          [
           3607,
           454500
          ],
          [
           11320,
           403500
          ],
          [
           3418,
           504500
          ],
          [
           3504,
           430500
          ],
          [
           11239,
           435500
          ],
          [
           11108,
           464500
          ],
          [
           11233,
           488500
          ],
          [
           11448,
           439000
          ],
          [
           11124,
           445500
          ],
          [
           11515,
           426000
          ],
          [
           3932,
           504000
          ],
          [
           11703,
           450500
          ],
          [
           3635,
           457000
          ],
          [
           11233,
           531500
          ],
          [
           3515,
           450000
          ],
          [
           11608,
           574000
          ],
          [
           11212,
           544000
          ],
          [
           11208,
           516500
          ],
          [
           11708,
           516500
          ],
          [
           11155,
           664500
          ],
          [
           11508,
           432000
          ],
          [
           11124,
           583500
          ],
          [
           11755,
           397000
          ],
          [
           11443,
           440500
          ],
          [
           11516,
           465500
          ],
          [
           3623,
           444500
          ],
          [
           3616,
           462500
          ],
          [
           3524,
           439500
          ],
          [
           11412,
           542500
          ],
          [
           11411,
           419000
          ],
          [
           3503,
           473500
          ],
          [
           11315,
           464500
          ],
          [
           11242,
           511500
          ],
          [
           3923,
           434000
          ],
          [
           11744,
           460500
          ],
          [
           11503,
           311500
          ],
          [
           3815,
           437500
          ],
          [
           3519,
           449500
          ],
          [
           11732,
           528500
          ],
          [
           3908,
           429500
          ],
          [
           3507,
           459000
          ],
          [
           11736,
           445000
          ],
          [
           11504,
           520500
          ],
          [
           11249,
           505500
          ],
          [
           3907,
           396000
          ],
          [
           3612,
           428000
          ],
          [
           3619,
           453500
          ],
          [
           11411,
           436500
          ],
          [
           11403,
           428500
          ],
          [
           3921,
           584000
          ],
          [
           11716,
           574000
          ],
          [
           11420,
           479000
          ],
          [
           11707,
           511000
          ],
          [
           3434,
           540500
          ],
          [
           11728,
           466500
          ],
          [
           11528,
           442500
          ],
          [
           11784,
           580500
          ],
          [
           11104,
           453000
          ],
          [
           3715,
           618500
          ],
          [
           3608,
           448500
          ],
          [
           3519,
           486000
          ],
          [
           11756,
           602000
          ],
          [
           11603,
           442000
          ],
          [
           3819,
           489500
          ],
          [
           3524,
           476000
          ],
          [
           3616,
           413000
          ],
          [
           11707,
           433500
          ],
          [
           3512,
           422500
          ],
          [
           3505,
           451500
          ],
          [
           11704,
           440500
          ],
          [
           11427,
           519000
          ],
          [
           3512,
           436500
          ],
          [
           11216,
           440000
          ],
          [
           3607,
           444000
          ],
          [
           3532,
           479000
          ],
          [
           11504,
           417000
          ],
          [
           11211,
           544500
          ],
          [
           11115,
           440500
          ],
          [
           11616,
           475500
          ],
          [
           3824,
           435000
          ],
          [
           11340,
           440500
          ],
          [
           11107,
           479000
          ],
          [
           11317,
           509500
          ],
          [
           11140,
           453500
          ],
          [
           11608,
           460000
          ],
          [
           11516,
           431000
          ],
          [
           11503,
           479000
          ],
          [
           11319,
           481500
          ],
          [
           3640,
           462000
          ],
          [
           3511,
           502000
          ],
          [
           11135,
           606500
          ],
          [
           3628,
           574500
          ],
          [
           11543,
           405500
          ],
          [
           11207,
           538000
          ],
          [
           3608,
           434000
          ],
          [
           11727,
           419000
          ],
          [
           11528,
           513500
          ],
          [
           11127,
           439000
          ],
          [
           3624,
           474000
          ],
          [
           3520,
           524500
          ],
          [
           3831,
           525000
          ],
          [
           11612,
           421000
          ],
          [
           11515,
           388000
          ],
          [
           11320,
           445500
          ],
          [
           3808,
           449500
          ],
          [
           11752,
           508500
          ],
          [
           11711,
           420500
          ],
          [
           11307,
           438000
          ],
          [
           3515,
           448500
          ],
          [
           11727,
           435000
          ],
          [
           3839,
           445500
          ],
          [
           3407,
           537000
          ],
          [
           3604,
           516500
          ],
          [
           11432,
           436500
          ],
          [
           11744,
           410500
          ],
          [
           11615,
           419000
          ],
          [
           3612,
           425500
          ],
          [
           11120,
           439000
          ],
          [
           11453,
           310500
          ],
          [
           3520,
           464000
          ],
          [
           3603,
           418500
          ],
          [
           3719,
           451000
          ],
          [
           3752,
           429500
          ],
          [
           11736,
           467000
          ],
          [
           3603,
           435500
          ],
          [
           11611,
           462000
          ],
          [
           11237,
           472000
          ],
          [
           11327,
           451500
          ],
          [
           11604,
           548500
          ],
          [
           11527,
           429000
          ],
          [
           11715,
           579500
          ],
          [
           11748,
           433500
          ],
          [
           11771,
           455500
          ],
          [
           11134,
           582500
          ],
          [
           11707,
           448500
          ],
          [
           11240,
           422500
          ],
          [
           3703,
           428000
          ],
          [
           3716,
           495000
          ],
          [
           11155,
           432000
          ],
          [
           11743,
           456000
          ],
          [
           11211,
           492500
          ],
          [
           3519,
           429500
          ],
          [
           11316,
           414000
          ],
          [
           11508,
           433500
          ],
          [
           11435,
           539000
          ],
          [
           3453,
           523000
          ],
          [
           11735,
           458500
          ],
          [
           11103,
           382500
          ],
          [
           11615,
           442000
          ],
          [
           11429,
           313500
          ],
          [
           3732,
           547500
          ],
          [
           3912,
           468500
          ],
          [
           11227,
           437500
          ],
          [
           3527,
           446000
          ],
          [
           3703,
           459000
          ],
          [
           3611,
           483500
          ],
          [
           11504,
           477000
          ],
          [
           11731,
           477000
          ],
          [
           3430,
           524500
          ],
          [
           11140,
           420500
          ],
          [
           3727,
           428000
          ],
          [
           11720,
           477000
          ],
          [
           11508,
           456000
          ],
          [
           3827,
           419500
          ],
          [
           3623,
           422000
          ],
          [
           11519,
           507000
          ],
          [
           3839,
           436000
          ],
          [
           11119,
           437500
          ],
          [
           11503,
           424000
          ],
          [
           3503,
           430500
          ],
          [
           11763,
           431500
          ],
          [
           11327,
           486000
          ],
          [
           11151,
           425000
          ],
          [
           11159,
           440000
          ],
          [
           3417,
           538000
          ],
          [
           3607,
           460000
          ],
          [
           11751,
           507000
          ],
          [
           3907,
           394000
          ],
          [
           11619,
           437000
          ],
          [
           11512,
           439000
          ],
          [
           11756,
           606500
          ],
          [
           3919,
           441500
          ],
          [
           11408,
           474000
          ],
          [
           3915,
           374500
          ],
          [
           3512,
           533000
          ],
          [
           3616,
           532500
          ],
          [
           11708,
           434500
          ],
          [
           11611,
           587500
          ],
          [
           11139,
           502500
          ],
          [
           3608,
           466500
          ],
          [
           3516,
           478500
          ],
          [
           3428,
           537500
          ],
          [
           11208,
           607000
          ],
          [
           11519,
           457500
          ],
          [
           11724,
           434000
          ],
          [
           11355,
           460000
          ],
          [
           11235,
           603500
          ],
          [
           11124,
           421500
          ],
          [
           3627,
           386000
          ],
          [
           11464,
           326500
          ],
          [
           3412,
           447000
          ],
          [
           3828,
           439000
          ],
          [
           11303,
           443500
          ],
          [
           3815,
           728000
          ],
          [
           11772,
           477500
          ],
          [
           3519,
           409000
          ],
          [
           3703,
           434500
          ],
          [
           3904,
           535000
          ],
          [
           11532,
           441000
          ],
          [
           11708,
           449000
          ],
          [
           11768,
           502500
          ],
          [
           11715,
           448500
          ],
          [
           11127,
           417500
          ],
          [
           11221,
           515500
          ],
          [
           11143,
           534500
          ],
          [
           11162,
           581000
          ],
          [
           11740,
           439000
          ],
          [
           11532,
           406000
          ],
          [
           11228,
           445000
          ],
          [
           11608,
           445500
          ],
          [
           3519,
           446000
          ],
          [
           3805,
           306500
          ],
          [
           11160,
           423500
          ],
          [
           3616,
           501500
          ],
          [
           11439,
           420500
          ],
          [
           11419,
           425500
          ],
          [
           3624,
           459500
          ],
          [
           11116,
           497000
          ],
          [
           11454,
           371500
          ],
          [
           11505,
           303000
          ],
          [
           11123,
           439500
          ],
          [
           3523,
           464500
          ],
          [
           11620,
           647500
          ],
          [
           11207,
           419500
          ],
          [
           3445,
           487500
          ],
          [
           3423,
           478500
          ],
          [
           3624,
           416500
          ],
          [
           11323,
           504000
          ],
          [
           11143,
           539500
          ],
          [
           3704,
           432000
          ],
          [
           11344,
           471500
          ],
          [
           3816,
           446500
          ],
          [
           11244,
           531500
          ],
          [
           3732,
           471000
          ],
          [
           3620,
           451000
          ],
          [
           3639,
           447000
          ],
          [
           11736,
           684500
          ],
          [
           3540,
           423500
          ],
          [
           11728,
           520000
          ],
          [
           3511,
           431500
          ],
          [
           3836,
           445500
          ],
          [
           11612,
           421500
          ],
          [
           3615,
           413000
          ],
          [
           11720,
           513500
          ],
          [
           11129,
           642500
          ],
          [
           3523,
           455500
          ],
          [
           11136,
           434000
          ],
          [
           3920,
           448500
          ],
          [
           11120,
           540000
          ],
          [
           11620,
           447500
          ],
          [
           11411,
           433500
          ],
          [
           11107,
           404000
          ],
          [
           11528,
           410500
          ],
          [
           11531,
           409000
          ],
          [
           11336,
           499500
          ],
          [
           3623,
           460500
          ],
          [
           11151,
           465000
          ],
          [
           11344,
           430500
          ],
          [
           11604,
           427000
          ],
          [
           11333,
           522000
          ],
          [
           11339,
           545500
          ],
          [
           11130,
           597000
          ],
          [
           3819,
           432500
          ],
          [
           11123,
           477500
          ],
          [
           11204,
           603500
          ],
          [
           3604,
           462500
          ],
          [
           3636,
           479000
          ],
          [
           3611,
           420000
          ],
          [
           3623,
           417500
          ],
          [
           11724,
           506500
          ],
          [
           11163,
           467000
          ],
          [
           3604,
           492500
          ],
          [
           3508,
           459000
          ],
          [
           11324,
           415000
          ],
          [
           11703,
           444000
          ],
          [
           11708,
           426500
          ],
          [
           3420,
           508000
          ],
          [
           11359,
           443500
          ],
          [
           3505,
           423000
          ],
          [
           3604,
           540500
          ],
          [
           3611,
           578500
          ],
          [
           3815,
           453000
          ],
          [
           3604,
           429000
          ],
          [
           11427,
           538500
          ],
          [
           3827,
           446500
          ],
          [
           3816,
           458500
          ],
          [
           3615,
           425000
          ],
          [
           11520,
           442000
          ],
          [
           3603,
           465000
          ],
          [
           3417,
           502500
          ],
          [
           11124,
           408500
          ],
          [
           3912,
           428000
          ],
          [
           11158,
           510000
          ],
          [
           3449,
           534500
          ],
          [
           3740,
           406500
          ],
          [
           3429,
           527500
          ],
          [
           3608,
           423000
          ],
          [
           3608,
           413000
          ],
          [
           3603,
           396500
          ],
          [
           3816,
           693500
          ],
          [
           11139,
           436000
          ],
          [
           11511,
           444000
          ],
          [
           3744,
           465000
          ],
          [
           11416,
           469500
          ],
          [
           11323,
           441500
          ],
          [
           3434,
           524000
          ],
          [
           3515,
           446000
          ],
          [
           11432,
           449000
          ],
          [
           11739,
           408500
          ],
          [
           11507,
           446500
          ],
          [
           11608,
           474500
          ],
          [
           3612,
           552000
          ],
          [
           3508,
           495500
          ],
          [
           11715,
           419500
          ],
          [
           11435,
           555000
          ],
          [
           3607,
           446500
          ],
          [
           11439,
           466000
          ],
          [
           11120,
           439000
          ],
          [
           11153,
           462000
          ],
          [
           11303,
           501000
          ],
          [
           3607,
           645000
          ],
          [
           3708,
           445000
          ],
          [
           3623,
           480000
          ],
          [
           11711,
           440500
          ],
          [
           11756,
           449000
          ],
          [
           11424,
           455000
          ],
          [
           11319,
           468000
          ],
          [
           11711,
           461000
          ],
          [
           3916,
           446000
          ],
          [
           11246,
           576000
          ],
          [
           11227,
           452000
          ],
          [
           11215,
           415000
          ],
          [
           3524,
           463500
          ],
          [
           3527,
           438500
          ],
          [
           11735,
           438000
          ],
          [
           3932,
           439500
          ],
          [
           11740,
           530500
          ],
          [
           11107,
           431000
          ],
          [
           11319,
           525000
          ],
          [
           11447,
           419500
          ],
          [
           3607,
           455500
          ],
          [
           11111,
           458000
          ],
          [
           11141,
           552500
          ],
          [
           11503,
           464000
          ],
          [
           11427,
           427000
          ],
          [
           11336,
           419000
          ],
          [
           11711,
           444500
          ],
          [
           11711,
           596000
          ],
          [
           11732,
           404000
          ],
          [
           11104,
           486000
          ],
          [
           11719,
           394000
          ],
          [
           11516,
           529000
          ],
          [
           11732,
           401500
          ],
          [
           11623,
           823000
          ],
          [
           11432,
           545000
          ],
          [
           11712,
           464500
          ],
          [
           3504,
           482000
          ],
          [
           11712,
           414000
          ],
          [
           11215,
           533500
          ],
          [
           3516,
           433500
          ],
          [
           11627,
           405000
          ],
          [
           11732,
           425500
          ],
          [
           11723,
           516500
          ],
          [
           3620,
           423000
          ],
          [
           11724,
           438500
          ],
          [
           11339,
           486500
          ],
          [
           3528,
           461000
          ],
          [
           11608,
           517500
          ],
          [
           11712,
           451500
          ],
          [
           11719,
           424000
          ],
          [
           3515,
           572000
          ],
          [
           3520,
           449500
          ],
          [
           3820,
           419000
          ],
          [
           3824,
           486500
          ],
          [
           11607,
           430500
          ],
          [
           11331,
           455000
          ],
          [
           3716,
           416000
          ],
          [
           11130,
           523000
          ],
          [
           11171,
           436500
          ],
          [
           3823,
           437000
          ],
          [
           3619,
           435500
          ],
          [
           11727,
           409500
          ],
          [
           3611,
           518500
          ],
          [
           3515,
           523500
          ],
          [
           3604,
           442000
          ],
          [
           11443,
           320000
          ],
          [
           3728,
           387500
          ]
         ],
         "hovertemplate": "<b>%{hovertext}</b><br><br>latitude=%{lat}<br>longitude=%{lon}<br>house_number=%{customdata[0]}<br>assessed_value=%{marker.color}<extra></extra>",
         "hovertext": [
          295500,
          312500,
          293500,
          285500,
          313000,
          293500,
          344500,
          309000,
          316000,
          303000,
          355000,
          328500,
          344500,
          323000,
          327500,
          356500,
          372500,
          443000,
          449000,
          423500,
          572500,
          343000,
          442000,
          549000,
          471500,
          398000,
          444500,
          394000,
          422500,
          427500,
          428000,
          445500,
          598500,
          456500,
          474500,
          581000,
          544500,
          518500,
          437500,
          493000,
          453500,
          457500,
          464000,
          463000,
          454000,
          473500,
          527000,
          447500,
          503500,
          458000,
          522000,
          381500,
          417500,
          477500,
          441000,
          465500,
          425000,
          298500,
          448500,
          461500,
          420000,
          449500,
          434000,
          607500,
          483000,
          454500,
          445000,
          445000,
          412500,
          450000,
          486000,
          579000,
          474000,
          492000,
          398500,
          359500,
          437500,
          444500,
          538000,
          442500,
          497000,
          439000,
          453500,
          468000,
          422500,
          422500,
          429500,
          457500,
          572500,
          569500,
          491000,
          497500,
          419500,
          472000,
          447000,
          485500,
          454000,
          427500,
          443500,
          410000,
          485000,
          391000,
          449500,
          524500,
          507500,
          457500,
          500500,
          456000,
          413500,
          462500,
          434000,
          404000,
          433000,
          488000,
          540500,
          523000,
          436500,
          488500,
          417000,
          424000,
          463000,
          489000,
          455500,
          452000,
          335000,
          427000,
          537000,
          419500,
          445500,
          389000,
          464000,
          557000,
          483500,
          474500,
          426000,
          548500,
          429000,
          401000,
          524500,
          574500,
          437500,
          463500,
          420000,
          515000,
          377000,
          419000,
          545500,
          427000,
          480500,
          452500,
          444500,
          484500,
          416000,
          429500,
          473000,
          438000,
          430500,
          407000,
          559000,
          430000,
          470000,
          421000,
          513000,
          455000,
          425000,
          458500,
          408000,
          529000,
          470000,
          302000,
          449000,
          451000,
          552500,
          464500,
          407000,
          417000,
          495500,
          535000,
          400500,
          510500,
          464000,
          422000,
          441000,
          408000,
          416500,
          433000,
          535000,
          528500,
          431000,
          459500,
          449000,
          433500,
          457000,
          409500,
          502000,
          427500,
          524500,
          422000,
          583500,
          407000,
          450000,
          429000,
          509500,
          500500,
          526000,
          537500,
          464500,
          394000,
          314500,
          417500,
          520500,
          489500,
          426500,
          524000,
          457500,
          506000,
          412000,
          417000,
          409000,
          502500,
          438500,
          576500,
          468000,
          429000,
          432000,
          435500,
          447000,
          552500,
          411000,
          453500,
          477000,
          466000,
          474500,
          539500,
          434500,
          470500,
          442500,
          438500,
          460000,
          535500,
          428500,
          457500,
          491000,
          429500,
          469000,
          415500,
          447000,
          409500,
          457500,
          477000,
          442000,
          424000,
          448000,
          449500,
          417500,
          431000,
          441000,
          478500,
          631000,
          293500,
          473500,
          411000,
          514000,
          445500,
          480500,
          323000,
          471500,
          389000,
          529000,
          426000,
          435000,
          440000,
          413500,
          448000,
          452500,
          468000,
          499500,
          442500,
          502000,
          471500,
          708500,
          423000,
          551000,
          571000,
          433000,
          437000,
          426500,
          490500,
          433500,
          417500,
          424000,
          450500,
          495000,
          408500,
          445000,
          450000,
          415000,
          564000,
          400500,
          479000,
          572000,
          503000,
          441000,
          401500,
          419500,
          435000,
          454500,
          536000,
          397000,
          459500,
          453000,
          507000,
          408000,
          436500,
          440000,
          522000,
          424500,
          481500,
          433500,
          409000,
          435500,
          454500,
          542000,
          475000,
          406500,
          314500,
          477500,
          462000,
          464000,
          461000,
          439500,
          412500,
          475500,
          484500,
          433500,
          496000,
          406500,
          470000,
          409500,
          314000,
          450500,
          532000,
          530500,
          435500,
          435500,
          409000,
          526000,
          528000,
          444000,
          436000,
          468000,
          582500,
          428500,
          443500,
          469000,
          435500,
          393500,
          442000,
          588000,
          430000,
          419000,
          491500,
          609000,
          469500,
          437000,
          451000,
          455000,
          422500,
          552000,
          431000,
          672000,
          435500,
          465000,
          478000,
          430500,
          419500,
          317000,
          483500,
          461000,
          495500,
          452500,
          443000,
          484500,
          440500,
          526000,
          618500,
          433000,
          392000,
          451500,
          377500,
          497500,
          357500,
          416500,
          479500,
          487500,
          305000,
          410500,
          469500,
          479000,
          445500,
          410000,
          464000,
          488000,
          484000,
          487500,
          376500,
          436000,
          438000,
          501000,
          471500,
          411500,
          603500,
          524000,
          615500,
          431500,
          441500,
          403000,
          443500,
          462000,
          635000,
          437000,
          486500,
          415000,
          475000,
          407500,
          315500,
          415000,
          475500,
          515000,
          423500,
          449500,
          427500,
          435000,
          437500,
          438000,
          490500,
          414500,
          542500,
          436000,
          444500,
          498000,
          424500,
          464500,
          302000,
          342000,
          476500,
          464500,
          449500,
          433000,
          461500,
          411000,
          493000,
          446500,
          487000,
          420000,
          533000,
          482500,
          417500,
          404000,
          421000,
          432000,
          592000,
          430500,
          684500,
          594500,
          493000,
          430500,
          430500,
          483000,
          417500,
          449000,
          423500,
          438500,
          628500,
          511000,
          439000,
          462500,
          415000,
          398000,
          453500,
          481500,
          576000,
          432500,
          422500,
          523000,
          393500,
          425500,
          387000,
          497000,
          477500,
          495500,
          420000,
          474000,
          415000,
          498500,
          480500,
          453500,
          437500,
          673000,
          471500,
          491000,
          427000,
          471000,
          476500,
          312500,
          566000,
          530000,
          412000,
          462500,
          439000,
          505500,
          436500,
          570500,
          608000,
          450500,
          396500,
          436000,
          485000,
          540000,
          406500,
          476500,
          411000,
          438000,
          440000,
          430500,
          443500,
          547000,
          423000,
          604500,
          532000,
          412000,
          535500,
          607000,
          544500,
          421500,
          641000,
          385500,
          422500,
          421000,
          502500,
          415000,
          472500,
          414500,
          533000,
          414000,
          443500,
          437000,
          441000,
          501500,
          497500,
          455000,
          418000,
          472000,
          424500,
          576000,
          429500,
          470000,
          411000,
          453000,
          446500,
          504500,
          435000,
          446500,
          501000,
          538000,
          422000,
          673000,
          438000,
          406500,
          455000,
          381500,
          474000,
          480500,
          464500,
          459500,
          436500,
          433000,
          490500,
          441500,
          416500,
          569000,
          454500,
          424000,
          451000,
          472500,
          428500,
          402000,
          604000,
          440500,
          454500,
          403500,
          504500,
          430500,
          435500,
          464500,
          488500,
          439000,
          445500,
          426000,
          504000,
          450500,
          457000,
          531500,
          450000,
          574000,
          544000,
          516500,
          516500,
          664500,
          432000,
          583500,
          397000,
          440500,
          465500,
          444500,
          462500,
          439500,
          542500,
          419000,
          473500,
          464500,
          511500,
          434000,
          460500,
          311500,
          437500,
          449500,
          528500,
          429500,
          459000,
          445000,
          520500,
          505500,
          396000,
          428000,
          453500,
          436500,
          428500,
          584000,
          574000,
          479000,
          511000,
          540500,
          466500,
          442500,
          580500,
          453000,
          618500,
          448500,
          486000,
          602000,
          442000,
          489500,
          476000,
          413000,
          433500,
          422500,
          451500,
          440500,
          519000,
          436500,
          440000,
          444000,
          479000,
          417000,
          544500,
          440500,
          475500,
          435000,
          440500,
          479000,
          509500,
          453500,
          460000,
          431000,
          479000,
          481500,
          462000,
          502000,
          606500,
          574500,
          405500,
          538000,
          434000,
          419000,
          513500,
          439000,
          474000,
          524500,
          525000,
          421000,
          388000,
          445500,
          449500,
          508500,
          420500,
          438000,
          448500,
          435000,
          445500,
          537000,
          516500,
          436500,
          410500,
          419000,
          425500,
          439000,
          310500,
          464000,
          418500,
          451000,
          429500,
          467000,
          435500,
          462000,
          472000,
          451500,
          548500,
          429000,
          579500,
          433500,
          455500,
          582500,
          448500,
          422500,
          428000,
          495000,
          432000,
          456000,
          492500,
          429500,
          414000,
          433500,
          539000,
          523000,
          458500,
          382500,
          442000,
          313500,
          547500,
          468500,
          437500,
          446000,
          459000,
          483500,
          477000,
          477000,
          524500,
          420500,
          428000,
          477000,
          456000,
          419500,
          422000,
          507000,
          436000,
          437500,
          424000,
          430500,
          431500,
          486000,
          425000,
          440000,
          538000,
          460000,
          507000,
          394000,
          437000,
          439000,
          606500,
          441500,
          474000,
          374500,
          533000,
          532500,
          434500,
          587500,
          502500,
          466500,
          478500,
          537500,
          607000,
          457500,
          434000,
          460000,
          603500,
          421500,
          386000,
          326500,
          447000,
          439000,
          443500,
          728000,
          477500,
          409000,
          434500,
          535000,
          441000,
          449000,
          502500,
          448500,
          417500,
          515500,
          534500,
          581000,
          439000,
          406000,
          445000,
          445500,
          446000,
          306500,
          423500,
          501500,
          420500,
          425500,
          459500,
          497000,
          371500,
          303000,
          439500,
          464500,
          647500,
          419500,
          487500,
          478500,
          416500,
          504000,
          539500,
          432000,
          471500,
          446500,
          531500,
          471000,
          451000,
          447000,
          684500,
          423500,
          520000,
          431500,
          445500,
          421500,
          413000,
          513500,
          642500,
          455500,
          434000,
          448500,
          540000,
          447500,
          433500,
          404000,
          410500,
          409000,
          499500,
          460500,
          465000,
          430500,
          427000,
          522000,
          545500,
          597000,
          432500,
          477500,
          603500,
          462500,
          479000,
          420000,
          417500,
          506500,
          467000,
          492500,
          459000,
          415000,
          444000,
          426500,
          508000,
          443500,
          423000,
          540500,
          578500,
          453000,
          429000,
          538500,
          446500,
          458500,
          425000,
          442000,
          465000,
          502500,
          408500,
          428000,
          510000,
          534500,
          406500,
          527500,
          423000,
          413000,
          396500,
          693500,
          436000,
          444000,
          465000,
          469500,
          441500,
          524000,
          446000,
          449000,
          408500,
          446500,
          474500,
          552000,
          495500,
          419500,
          555000,
          446500,
          466000,
          439000,
          462000,
          501000,
          645000,
          445000,
          480000,
          440500,
          449000,
          455000,
          468000,
          461000,
          446000,
          576000,
          452000,
          415000,
          463500,
          438500,
          438000,
          439500,
          530500,
          431000,
          525000,
          419500,
          455500,
          458000,
          552500,
          464000,
          427000,
          419000,
          444500,
          596000,
          404000,
          486000,
          394000,
          529000,
          401500,
          823000,
          545000,
          464500,
          482000,
          414000,
          533500,
          433500,
          405000,
          425500,
          516500,
          423000,
          438500,
          486500,
          461000,
          517500,
          451500,
          424000,
          572000,
          449500,
          419000,
          486500,
          430500,
          455000,
          416000,
          523000,
          436500,
          437000,
          435500,
          409500,
          518500,
          523500,
          442000,
          320000,
          387500
         ],
         "lat": [
          53.476048825243744,
          53.47604472336965,
          53.47603283160185,
          53.47604638730065,
          53.47604889188216,
          53.47604877295607,
          53.47603907914151,
          53.47604788429193,
          53.47477783914795,
          53.47475438495927,
          53.47564048071936,
          53.47562807750079,
          53.47520075091717,
          53.475463099387376,
          53.4753543182643,
          53.475255118149136,
          53.47277588227044,
          53.47158429406268,
          53.47347304780092,
          53.47068520404128,
          53.47354789808763,
          53.47560509309401,
          53.47440592721394,
          53.47391668139986,
          53.474096690711285,
          53.47155318248124,
          53.47001903227466,
          53.47129002156769,
          53.47299935875965,
          53.46877096893172,
          53.4709897364604,
          53.47355005822918,
          53.46715518684198,
          53.47323833579127,
          53.47137525614121,
          53.46751197554518,
          53.46716791090963,
          53.47239828222138,
          53.47320464649896,
          53.4706850703555,
          53.47095896390421,
          53.471000870894976,
          53.46955930956861,
          53.47183156140213,
          53.47257898362251,
          53.47457067371459,
          53.46925847076544,
          53.475464035784086,
          53.46790345493815,
          53.47366017241704,
          53.46790126706991,
          53.47508028011799,
          53.47036152609806,
          53.46638719135238,
          53.47046265565128,
          53.46996663841051,
          53.475021774585336,
          53.47430549135302,
          53.46926321943072,
          53.467816294618494,
          53.47508040039722,
          53.47205809536626,
          53.47212145424781,
          53.46837917440523,
          53.47062410974978,
          53.47404412648656,
          53.47049741509294,
          53.46955805952336,
          53.47135629923766,
          53.46875243979683,
          53.468359655027314,
          53.46758618352688,
          53.47339695272333,
          53.46790322867029,
          53.47604894643726,
          53.4755984660472,
          53.47604958366743,
          53.47148718965615,
          53.468381999185695,
          53.47014922756644,
          53.47360937249982,
          53.47316684601636,
          53.47334521147827,
          53.46936894350348,
          53.47391236792093,
          53.47440603505595,
          53.470760420001845,
          53.47323779802691,
          53.467348903774514,
          53.47297797997607,
          53.47282493583146,
          53.46908944744528,
          53.47604914683125,
          53.46688789803538,
          53.47171221678878,
          53.46781397168241,
          53.47132007332192,
          53.46875310115052,
          53.471768598098215,
          53.47082019558673,
          53.47019226775552,
          53.47306071969471,
          53.47156412753181,
          53.47257526928677,
          53.46719912269269,
          53.47089473501109,
          53.47157476211846,
          53.47183173589784,
          53.46908545800997,
          53.46784153997056,
          53.4714002978596,
          53.468764350943,
          53.475770359828765,
          53.47285459909293,
          53.47072050244906,
          53.469555855217074,
          53.47301096078554,
          53.46795242618007,
          53.47359087228914,
          53.47118576225723,
          53.46925906539332,
          53.47508048755503,
          53.47248753158203,
          53.47444010383138,
          53.4749236012502,
          53.46753025742825,
          53.46925984441116,
          53.46836392644345,
          53.46874927871512,
          53.475464069985165,
          53.47104663776857,
          53.47231769483122,
          53.46695296045501,
          53.4692656104021,
          53.46964649549372,
          53.47522766794629,
          53.46875650290952,
          53.47024662800381,
          53.47014842771152,
          53.4696641030754,
          53.46926253885651,
          53.46955349193433,
          53.47194314409579,
          53.47604962828137,
          53.47527533557029,
          53.47348389240562,
          53.46969275483939,
          53.47457099064974,
          53.47311989073191,
          53.47530328073013,
          53.47358533443328,
          53.46719978541868,
          53.46836240121173,
          53.46875869743104,
          53.468867428024325,
          53.473251001824025,
          53.47359819973376,
          53.46926910930976,
          53.46792380121199,
          53.474054212652064,
          53.47044623989596,
          53.471023809224654,
          53.46877032420001,
          53.47415446392095,
          53.47221558706944,
          53.473166697540286,
          53.46983803860965,
          53.46836150362307,
          53.4683685054232,
          53.47495777968702,
          53.47546380641298,
          53.47457079615987,
          53.46837994812707,
          53.47522742908205,
          53.47275843173453,
          53.46876102321394,
          53.470835372357655,
          53.47431273888054,
          53.47399594701924,
          53.47211840006098,
          53.46926547161855,
          53.47196304464171,
          53.4690359216861,
          53.47259260894757,
          53.47385026397856,
          53.472060165805935,
          53.46692415406601,
          53.46699667393395,
          53.47231792507507,
          53.4701485877312,
          53.47143504199995,
          53.47260355663698,
          53.47485797467388,
          53.47023771886658,
          53.469655136849575,
          53.47212024397133,
          53.47059002977007,
          53.47270130959578,
          53.46660972240926,
          53.473844757350605,
          53.467438600885,
          53.47396008736549,
          53.470800643403614,
          53.46996884129066,
          53.468771774697736,
          53.471176062499055,
          53.47508044071516,
          53.46923374017678,
          53.47494696964574,
          53.47057564264419,
          53.475227664199686,
          53.46927079279308,
          53.47329695435744,
          53.46765929486397,
          53.470054141861134,
          53.466487947528,
          53.47234286052557,
          53.47236559289601,
          53.46875419757307,
          53.46776708482615,
          53.47474765131919,
          53.46838146050072,
          53.47457053422293,
          53.47120706348064,
          53.47180989389394,
          53.47084921812456,
          53.47566751155464,
          53.46767081260048,
          53.46982429999048,
          53.47316169053634,
          53.46763817653602,
          53.472701123579874,
          53.472742323818,
          53.47234801082859,
          53.46876153619388,
          53.469656090479546,
          53.47014906960288,
          53.47527207587847,
          53.46983530446328,
          53.46728147420945,
          53.46926117241093,
          53.473166755020486,
          53.46836031351937,
          53.47138156642473,
          53.474129657571936,
          53.47179780198271,
          53.474828750365965,
          53.47440612556933,
          53.47300446179243,
          53.47416506465783,
          53.47457086350818,
          53.47372007851807,
          53.47197410754106,
          53.47372929295148,
          53.47136881371576,
          53.474942654176985,
          53.471469217066456,
          53.469559353157486,
          53.46784283549919,
          53.47499872664781,
          53.47420582688921,
          53.46969446423341,
          53.46765388320223,
          53.469834895180576,
          53.471852414227946,
          53.47440171574995,
          53.472227751945454,
          53.4740557969549,
          53.47318564756977,
          53.47567965025713,
          53.47234559685033,
          53.46907950379951,
          53.47329451623325,
          53.47401342552632,
          53.47535552008028,
          53.4701482638403,
          53.4702796729609,
          53.47053126931763,
          53.47170612447269,
          53.47444118300424,
          53.470586416888445,
          53.47156790933694,
          53.46765142374536,
          53.46838084818742,
          53.47412974571995,
          53.47182034656181,
          53.47447414942478,
          53.46983608773249,
          53.47231781666691,
          53.47454894156108,
          53.4729285192164,
          53.4703817960866,
          53.47043763206008,
          53.47043449454481,
          53.46866561231334,
          53.47096510823616,
          53.47281621129644,
          53.46699086010032,
          53.47462147086912,
          53.47093111494411,
          53.46784077388835,
          53.47355023989382,
          53.47270306178063,
          53.47012215377266,
          53.47546399636767,
          53.4724663201016,
          53.46875530786687,
          53.47356321362782,
          53.47184069134271,
          53.46923104865449,
          53.47230526102429,
          53.47056210699185,
          53.47508046432679,
          53.47289093111103,
          53.47400910419506,
          53.46875080794256,
          53.46985293185783,
          53.46766608102606,
          53.47279270426228,
          53.47085398143446,
          53.4754639552116,
          53.47457093435505,
          53.46875015522275,
          53.467590587346656,
          53.47149291548012,
          53.47563217558697,
          53.46835910969785,
          53.47125094532502,
          53.47412568759994,
          53.46876007751861,
          53.46836371189612,
          53.47403632120437,
          53.467665682134914,
          53.46693606661502,
          53.4718244330566,
          53.469264078305706,
          53.47604956324095,
          53.47141420925156,
          53.4703415906336,
          53.47499866276977,
          53.46955296663598,
          53.47071050233652,
          53.46674081472475,
          53.47051547007016,
          53.46970027902709,
          53.47604916711056,
          53.473747595808426,
          53.46735104753701,
          53.470069249192434,
          53.47508033278666,
          53.475080358037125,
          53.47276560023968,
          53.4702420765592,
          53.4733566590217,
          53.4745170614988,
          53.47567952316947,
          53.47218451521751,
          53.47249334376085,
          53.46838012732975,
          53.47456010909689,
          53.47043849298706,
          53.470784568701326,
          53.473219249931184,
          53.46956075732928,
          53.47499138135744,
          53.47231782590281,
          53.46784206641668,
          53.47457070129145,
          53.46877188336416,
          53.47050392281019,
          53.46637993317793,
          53.46926558533027,
          53.46836397605655,
          53.47010357082838,
          53.475464264087336,
          53.47320314269885,
          53.4742277834856,
          53.467977554714494,
          53.47201542479918,
          53.46926181963905,
          53.46781670252577,
          53.46970414209299,
          53.469657506517,
          53.474570968028445,
          53.47084882212697,
          53.46836572101763,
          53.47287050187828,
          53.47337102223243,
          53.47135955993661,
          53.47355009880486,
          53.473607951732525,
          53.47540508107641,
          53.47289202773697,
          53.469699177039125,
          53.47339822765916,
          53.47604953009788,
          53.47449126027496,
          53.46927094571063,
          53.46882380551809,
          53.47146151661074,
          53.47403620608557,
          53.46836152092966,
          53.47364033063655,
          53.47055670486807,
          53.46768399646373,
          53.47161563808071,
          53.474146071023775,
          53.468759386888486,
          53.46689631614585,
          53.4705969741508,
          53.46926343241047,
          53.47161475541565,
          53.47604960973774,
          53.47040354367964,
          53.47028834593696,
          53.47134089221829,
          53.47508039045984,
          53.469269723367056,
          53.47154580612919,
          53.46837920270546,
          53.46971713530954,
          53.46784128354292,
          53.4737222165503,
          53.47383804631705,
          53.47082873577312,
          53.47496597758391,
          53.4692692627315,
          53.468760668327086,
          53.46735314330993,
          53.470848305466376,
          53.47116330839131,
          53.47193668281229,
          53.46926010691931,
          53.47105426709744,
          53.46997363357133,
          53.468736785839,
          53.47302150129997,
          53.46835462799725,
          53.47239607582474,
          53.47424681743978,
          53.46926550718327,
          53.46922236888738,
          53.46679196336489,
          53.47497129224187,
          53.47416985226295,
          53.46996122785775,
          53.47567968464244,
          53.47070359511922,
          53.4712226369038,
          53.47153186011199,
          53.47234319200243,
          53.467901824774046,
          53.47246255409615,
          53.46926589059698,
          53.47354981875307,
          53.46717488762146,
          53.46955861466294,
          53.47546409867737,
          53.47494672770068,
          53.472193216929234,
          53.47021321361372,
          53.4671826778936,
          53.4687588708721,
          53.47485795215736,
          53.47323832503182,
          53.47106750859349,
          53.47355913990738,
          53.47440287587295,
          53.46979527595276,
          53.46970307334817,
          53.46784017832013,
          53.46955810149659,
          53.47095890837583,
          53.4674024575542,
          53.46647831742775,
          53.47000302202991,
          53.47068603793531,
          53.4725485031848,
          53.47183152127662,
          53.47272593323613,
          53.47067851053239,
          53.468753317793016,
          53.47209758023454,
          53.47457077567267,
          53.46782008978501,
          53.47385353523261,
          53.4714659813345,
          53.47604921274975,
          53.47067938057927,
          53.46925852194947,
          53.47567989444819,
          53.46875555597576,
          53.46784026244781,
          53.47202641076984,
          53.47141675480211,
          53.468825527385256,
          53.474400013223416,
          53.47179440830676,
          53.47085133029473,
          53.47514576243961,
          53.47286630784526,
          53.47402755930543,
          53.46783419000997,
          53.47158424655093,
          53.474800084749766,
          53.46766476678344,
          53.47373517100458,
          53.46926278319828,
          53.470549870985096,
          53.4736227466772,
          53.46926570849372,
          53.46935847165646,
          53.46790075649418,
          53.46784032060499,
          53.46997179279147,
          53.47039958669839,
          53.47546406103839,
          53.46836076453682,
          53.4743783887383,
          53.47223063413121,
          53.469204369440064,
          53.47010492948791,
          53.47567954988002,
          53.47106962752004,
          53.470378790700224,
          53.469972192599386,
          53.47231796349229,
          53.470996824059554,
          53.4727048936015,
          53.47273643422741,
          53.47072094563872,
          53.470032259876405,
          53.4700291590659,
          53.47370230049707,
          53.47199473017916,
          53.47485798655714,
          53.46875021763864,
          53.47183169043017,
          53.472701274940526,
          53.46760224463593,
          53.47078701930411,
          53.4713168945523,
          53.47016861193232,
          53.46767599381663,
          53.47546410589466,
          53.47304412889928,
          53.46983193066381,
          53.47026184383877,
          53.467841027802855,
          53.46926486885224,
          53.4714617863801,
          53.47317636000912,
          53.46779944658782,
          53.47267043179786,
          53.471836276259154,
          53.47147812480899,
          53.470959113941824,
          53.47403450576198,
          53.46984270651797,
          53.473987293308575,
          53.46700445077931,
          53.47546401194156,
          53.47091476370755,
          53.46749699569973,
          53.4756186692683,
          53.46881163097186,
          53.467908999481935,
          53.4752276237068,
          53.47389105708049,
          53.46964655365293,
          53.470870354448266,
          53.47334688350666,
          53.46807616874353,
          53.47316745661901,
          53.47010077290079,
          53.47232229319373,
          53.47354995803856,
          53.470959065470666,
          53.471077646721874,
          53.47404381253349,
          53.46646175464175,
          53.468380667365714,
          53.47499161370244,
          53.471356588182445,
          53.469268357088886,
          53.474080093901485,
          53.47345413492693,
          53.46836217633173,
          53.46875484823149,
          53.47010576090306,
          53.47146245690848,
          53.46682380696361,
          53.468739770434325,
          53.4711456148412,
          53.4714239599918,
          53.46795312282676,
          53.47461872134032,
          53.4713977759501,
          53.47468172586378,
          53.47564238267319,
          53.46784176909985,
          53.47109299241806,
          53.46677867721748,
          53.46968991159201,
          53.47025726227589,
          53.47188506549279,
          53.47278826628818,
          53.47317654510005,
          53.46767126982495,
          53.47363580342361,
          53.47508047546296,
          53.46874949294883,
          53.47238027570867,
          53.47120142257581,
          53.470808224328046,
          53.470391638211545,
          53.46936795525488,
          53.47255521779815,
          53.46875617766772,
          53.46906666715526,
          53.46965210838338,
          53.46732050282233,
          53.47513505953996,
          53.47568319833787,
          53.47600739376606,
          53.47357925419127,
          53.46987606150575,
          53.47485783197159,
          53.47427621878548,
          53.46926117208504,
          53.46836009151426,
          53.471089397695934,
          53.466916340475606,
          53.47428064387375,
          53.4703720241674,
          53.47065746658449,
          53.47377416871302,
          53.47293106546272,
          53.47575525163814,
          53.4705772532778,
          53.471787011614246,
          53.47522780613664,
          53.46749153699776,
          53.47316673320671,
          53.474782088467975,
          53.47145886620066,
          53.4750836220487,
          53.47269616634058,
          53.470185473409295,
          53.46988981937977,
          53.46835899338857,
          53.46875397834168,
          53.47354201489882,
          53.46965635292044,
          53.4705736410971,
          53.474406176624974,
          53.46955770186032,
          53.46875152129698,
          53.47188854089094,
          53.46770269052441,
          53.46922641476005,
          53.47263568575221,
          53.47022783818939,
          53.46970778362955,
          53.46926430497293,
          53.46876136298874,
          53.46965611080733,
          53.473601419954456,
          53.47445671689499,
          53.46926865944504,
          53.47272604888759,
          53.46711049140032,
          53.47125552273125,
          53.46836305881477,
          53.46836348971959,
          53.47409145783413,
          53.46875990349204,
          53.4712641848801,
          53.46956116152066,
          53.46790204612861,
          53.47106449344636,
          53.47604959469705,
          53.46797125458813,
          53.47014321119783,
          53.47185657413706,
          53.47115276476545,
          53.47457094939311,
          53.47085650069926,
          53.4698547509047,
          53.474169315652624,
          53.468362834851966,
          53.47390872102464,
          53.46926941318903,
          53.47349104700108,
          53.46835921323581,
          53.46875199326494,
          53.468760651929486,
          53.46923176806371,
          53.47112271023103,
          53.47387213742037,
          53.4675610926373,
          53.47012756596455,
          53.47189927112818,
          53.47146192467346,
          53.47604954433374,
          53.47043692767844,
          53.47141257642932,
          53.4749825140695,
          53.46985648919685,
          53.47011060642692,
          53.4730262191376,
          53.47339861721088,
          53.474857786376845,
          53.47010868548741,
          53.4687535429445,
          53.46681653990171,
          53.468759562311824,
          53.47012632795703,
          53.47445428442565,
          53.46784238385612,
          53.47231784694488,
          53.46875134277574,
          53.46686831010793,
          53.47604928272042,
          53.47164521278768,
          53.47234323243605,
          53.4727006651199,
          53.47162867395581,
          53.47440017271828,
          53.46965539066535,
          53.4690806087869,
          53.469269564707886,
          53.4711275545421,
          53.472305449040974,
          53.46814996591764,
          53.47183343529312,
          53.471798302690814,
          53.46783746166737,
          53.4748221171942,
          53.472770910348366,
          53.47520843592955,
          53.47123696375044,
          53.46982971051517,
          53.472305304785976,
          53.47038279532016,
          53.47292597376602,
          53.4687507890905,
          53.46733667611556,
          53.47298946529816,
          53.47305631084408,
          53.470582516117815,
          53.474559490580845,
          53.47384484093002,
          53.47064631957617,
          53.47068168512823,
          53.474689027493234,
          53.4754639678084,
          53.47487637837315,
          53.46927069789135,
          53.47183148048581,
          53.46775774922801,
          53.47242656330005,
          53.47546409108278,
          53.46659888335938,
          53.47025987296155,
          53.4687497110257,
          53.47428289356864,
          53.469646764592895,
          53.47116826592774,
          53.47231777195905,
          53.475412818628186,
          53.46926594263871,
          53.47462746907302,
          53.46886659458877,
          53.47057952165253,
          53.46926159771431,
          53.47336204650053,
          53.474570889789696,
          53.47029335871677,
          53.46956167501863,
          53.467347502858686,
          53.46837939516286,
          53.47275486657303,
          53.47485790788479,
          53.46874532307122,
          53.46772007044063,
          53.473128156512665,
          53.47098610672999,
          53.475404194830034,
          53.46778879543034,
          53.47390504339211,
          53.4710847155649,
          53.47303395789987,
          53.47146155141633,
          53.46982686700225,
          53.4714619174897,
          53.47418746627134,
          53.47323101872853,
          53.46836174858362,
          53.46834953983429,
          53.4744060956892,
          53.468764342492754,
          53.46664773056665,
          53.47077193361864,
          53.46838031747152,
          53.47316661595506,
          53.47418089613713,
          53.470618494198185,
          53.47213499425291,
          53.46956111539389,
          53.4742489325718,
          53.475080380081856,
          53.47057182186386,
          53.473199786203374,
          53.468755763355965,
          53.4708856742984,
          53.47319522055625,
          53.47561753514688,
          53.47601365105877,
          53.471797271874365,
          53.46936322871783,
          53.47077794659272,
          53.472335104605406,
          53.46776597915473,
          53.46718493256382,
          53.470999062444285,
          53.46969931743611,
          53.46749411299911,
          53.47189607730102,
          53.47131244368022,
          53.473977340896646,
          53.46833618873277,
          53.47266098915999,
          53.4707114127968,
          53.47134952117096,
          53.47567995605483,
          53.46984276683912,
          53.46836052566629,
          53.469560244847,
          53.473987205245166,
          53.47567991888214,
          53.47057539813342,
          53.4716812909636,
          53.46637196225385,
          53.469716988688255,
          53.47508044965156,
          53.475139051325954,
          53.47014874766198,
          53.4756798518622,
          53.472930605208056,
          53.47546392820781,
          53.47328543962842,
          53.473615740240376,
          53.47133164026396,
          53.47095880826969,
          53.47457082068278,
          53.4692685082447,
          53.468363274295285,
          53.46727682058028,
          53.46875904320535,
          53.466850615533104,
          53.47372714867789,
          53.46876450654776,
          53.46837958203732,
          53.47014818814643,
          53.47141067309935,
          53.4702191384044,
          53.470956264430285,
          53.473166772899,
          53.47066952169649,
          53.47002936073484,
          53.46906362442537,
          53.47143196658247,
          53.474386787135685,
          53.475679708729,
          53.46732920473996,
          53.46876469120015,
          53.46867060603502,
          53.47010908528896,
          53.470375108463074,
          53.47369946438133,
          53.46996830835221,
          53.47393184524131,
          53.47345736167421,
          53.47344849089854,
          53.470530345461455,
          53.47437865950184,
          53.47003214710075,
          53.46683559087856,
          53.47233003690541,
          53.4748097873178,
          53.46838050379048,
          53.46793796638499,
          53.47326364637939,
          53.46711395659436,
          53.47023509178743,
          53.47024597797237,
          53.47010990512101,
          53.47366617510125,
          53.47251801738222,
          53.47252080553896,
          53.473130981371085,
          53.47174959874736,
          53.46875973315819,
          53.46759662907699,
          53.46969501104813,
          53.47358532460631,
          53.47183178316624,
          53.46875463010694,
          53.47098070048999,
          53.47041811140058,
          53.46926038134836,
          53.46875177376208,
          53.47143921137428,
          53.47024757406453,
          53.4677911362878,
          53.47508048172931,
          53.46751240851042,
          53.46992545617574,
          53.47024185809033,
          53.472010876200606,
          53.47086808859855,
          53.47522776816447,
          53.46925878314338,
          53.47266746744698,
          53.46966195435446,
          53.47208135802005,
          53.47457072288688,
          53.46735678516656,
          53.47555296901234,
          53.46876119738387,
          53.46926619129484,
          53.46987307431238,
          53.46875058366508,
          53.47604946119452,
          53.4683598694534,
          53.4717981392153,
          53.46715873184247,
          53.47410783833012,
          53.47018524471385,
          53.46965626244824,
          53.46643584522694,
          53.470648636173856,
          53.47308380049376,
          53.46926880564922,
          53.47138291484475,
          53.47355088262912,
          53.474036246557375,
          53.47141118832021,
          53.47604908089208,
          53.46926365382891,
          53.47151283262381,
          53.46875287549484,
          53.46926461226313,
          53.47403565378173,
          53.46927012961377,
          53.473166893359,
          53.47225888758645,
          53.46936336479399,
          53.4687526578989,
          53.47231800154497,
          53.47604901412428,
          53.47065792954909,
          53.4756795855585,
          53.4677470122594,
          53.46956281019986,
          53.47377276200632,
          53.47485802994829,
          53.47270123572657,
          53.469719985764605,
          53.46987617471397,
          53.47433670992746,
          53.473559849456535,
          53.47158758567383,
          53.47085355299233,
          53.47241327967287,
          53.468381211495206,
          53.47149958820724,
          53.47420009583558,
          53.47069731575312,
          53.47440599079506,
          53.47024266703076,
          53.46972549287664,
          53.47000535115279,
          53.474983136332646,
          53.47286789420344
         ],
         "legendgroup": "",
         "lon": [
          -113.53718479265814,
          -113.5314582622399,
          -113.53116714475053,
          -113.53160341066878,
          -113.53188256193664,
          -113.53732863670132,
          -113.53131444328184,
          -113.53174131654087,
          -113.52852071435854,
          -113.52839385803608,
          -113.53077107881006,
          -113.53057860100736,
          -113.531761411278,
          -113.53169082640402,
          -113.53168213858947,
          -113.5314933720216,
          -113.51729684969128,
          -113.52406748194372,
          -113.52865037498904,
          -113.5246633612296,
          -113.52909191714492,
          -113.53021790944148,
          -113.53721173184256,
          -113.53310287261836,
          -113.53326857805664,
          -113.5312144427097,
          -113.52607810078828,
          -113.51948382733634,
          -113.53809671309888,
          -113.5173756871923,
          -113.5187612242126,
          -113.53693426636042,
          -113.51925782027013,
          -113.51831263856496,
          -113.52700858730408,
          -113.52043000524463,
          -113.52247235761918,
          -113.52818728151732,
          -113.52100418132166,
          -113.5315257601272,
          -113.5365849595506,
          -113.51811948874236,
          -113.52906906601534,
          -113.53672439574014,
          -113.51965235118784,
          -113.52241801389202,
          -113.53740417548724,
          -113.519699064384,
          -113.53071546271374,
          -113.5297542159666,
          -113.5196711970318,
          -113.5202382079863,
          -113.5216985373679,
          -113.51868196002486,
          -113.5256865613654,
          -113.52671991668934,
          -113.51749956224585,
          -113.52727585111175,
          -113.53219228892152,
          -113.52172671248503,
          -113.52069715760038,
          -113.5205876525002,
          -113.52012231795878,
          -113.521832907214,
          -113.53053890442304,
          -113.53067874568428,
          -113.53727775652794,
          -113.5381289037021,
          -113.51730127681404,
          -113.53364579673932,
          -113.53635261688804,
          -113.52360378113364,
          -113.5195982832464,
          -113.52970714424166,
          -113.5367682046108,
          -113.53103282014014,
          -113.53365476295308,
          -113.53471338290773,
          -113.5226865939686,
          -113.51971081796218,
          -113.52760728636902,
          -113.5357834724742,
          -113.53147083317444,
          -113.51958514164096,
          -113.51896875374896,
          -113.53652328961674,
          -113.52352565319134,
          -113.52186181944852,
          -113.52760550424036,
          -113.5311239393482,
          -113.52156947911602,
          -113.52758785916768,
          -113.53607971292722,
          -113.52410655061162,
          -113.52902080500245,
          -113.5321357319336,
          -113.52936199460508,
          -113.5329297653458,
          -113.5227245584963,
          -113.5296032488268,
          -113.5352841664047,
          -113.51729724513233,
          -113.5203774581822,
          -113.53431853950892,
          -113.5217572084882,
          -113.52244824176456,
          -113.5276883779406,
          -113.53571466064544,
          -113.52169611834532,
          -113.5355525754586,
          -113.53029596254603,
          -113.51804627987498,
          -113.53254411905714,
          -113.53037619784672,
          -113.5344646666212,
          -113.52671962343128,
          -113.53397584058254,
          -113.5225249951932,
          -113.53809110569932,
          -113.52030778506725,
          -113.5365551631278,
          -113.51854009277254,
          -113.52032351576304,
          -113.53431766329446,
          -113.5310023308247,
          -113.52635634913742,
          -113.53574047638196,
          -113.53181368302464,
          -113.53713157803593,
          -113.5204678411779,
          -113.53271723441152,
          -113.53716609984376,
          -113.51795877271452,
          -113.5295735343071,
          -113.53251747625892,
          -113.53628463148208,
          -113.52893016955794,
          -113.51729157158134,
          -113.5209500447118,
          -113.52486325585512,
          -113.53314729537593,
          -113.53666706775282,
          -113.5343269525987,
          -113.532911111757,
          -113.53807513095336,
          -113.53236414477249,
          -113.53123533354945,
          -113.51870060028092,
          -113.53224042719908,
          -113.53465033976735,
          -113.52042690629864,
          -113.5255705164568,
          -113.53344064798954,
          -113.52665248950464,
          -113.52019338597182,
          -113.5341968274972,
          -113.52255543199888,
          -113.52545693764488,
          -113.52823561491748,
          -113.52972786410406,
          -113.52755660943748,
          -113.5243472007404,
          -113.5194968777774,
          -113.53502868230782,
          -113.519430932679,
          -113.53670144709812,
          -113.52821580628762,
          -113.53462243524764,
          -113.52323736929914,
          -113.53074657320155,
          -113.51745837165262,
          -113.52095858570782,
          -113.52047897296458,
          -113.53744313564428,
          -113.53446582131012,
          -113.5234171131642,
          -113.52737260522755,
          -113.53160840597388,
          -113.51734785412988,
          -113.52905673481196,
          -113.51862139551709,
          -113.52128564882229,
          -113.53815037400686,
          -113.52883092772244,
          -113.52852457387868,
          -113.531064845866,
          -113.52010273277736,
          -113.5250903200827,
          -113.53578917661706,
          -113.52070220162936,
          -113.52132602757432,
          -113.53810046559524,
          -113.53531661635546,
          -113.52971274246636,
          -113.52155957643458,
          -113.53812088991994,
          -113.53381916522294,
          -113.53567297369878,
          -113.52197223532214,
          -113.5219130291003,
          -113.51773363983598,
          -113.53387588620308,
          -113.52611907034624,
          -113.52319426316018,
          -113.52025455311907,
          -113.52322867561696,
          -113.5199167037847,
          -113.5172897685852,
          -113.52951769380148,
          -113.53576245378676,
          -113.53535373190152,
          -113.52287181613588,
          -113.53324330880449,
          -113.51847074385245,
          -113.53447102235138,
          -113.52102971080352,
          -113.53038130204465,
          -113.52121842197246,
          -113.53173636861344,
          -113.52439483330888,
          -113.53161597018956,
          -113.5182387797751,
          -113.52177551323382,
          -113.53182926586716,
          -113.53344255604765,
          -113.51729209450332,
          -113.5332927057322,
          -113.5204302984272,
          -113.53383049267931,
          -113.51908685923595,
          -113.52906413912284,
          -113.5369065074648,
          -113.52971393328576,
          -113.53337795700826,
          -113.52267365532644,
          -113.52037735409247,
          -113.5199586610393,
          -113.52255597234183,
          -113.51811751667373,
          -113.52336185468612,
          -113.53438663558528,
          -113.53740882709936,
          -113.5356573471625,
          -113.52552162249516,
          -113.5219130917171,
          -113.51782199581343,
          -113.53395424417036,
          -113.535834761703,
          -113.52890920263052,
          -113.52031353524325,
          -113.52018757665137,
          -113.53365500251738,
          -113.53055704407274,
          -113.53465539116316,
          -113.51896979382371,
          -113.53242085532304,
          -113.5375200466506,
          -113.5305379073758,
          -113.53416884051286,
          -113.5302062153298,
          -113.51870431334642,
          -113.52401992442798,
          -113.5251313456788,
          -113.51876007937248,
          -113.52214407446824,
          -113.52789811095178,
          -113.53200487411044,
          -113.53243300255504,
          -113.5350392751201,
          -113.5360783377882,
          -113.53480415371486,
          -113.52020455299012,
          -113.52253983637182,
          -113.52948721113712,
          -113.53254099399432,
          -113.52120221324226,
          -113.52757400328323,
          -113.53254755119384,
          -113.52317264233794,
          -113.53804640310015,
          -113.52668163738504,
          -113.5322150710342,
          -113.52974147091268,
          -113.51914338700796,
          -113.52108698678448,
          -113.53770288053695,
          -113.52908093170896,
          -113.51729083724344,
          -113.53647764155764,
          -113.52952226723738,
          -113.52079831687868,
          -113.53667528976332,
          -113.51811853820128,
          -113.51876109417098,
          -113.52821444000374,
          -113.52953430920796,
          -113.53282279209792,
          -113.51878644496232,
          -113.53025652122538,
          -113.5217022928067,
          -113.53633736607912,
          -113.53601627482692,
          -113.5187576466926,
          -113.52906991113213,
          -113.51896471146352,
          -113.53110982285172,
          -113.5306970991112,
          -113.53078697957262,
          -113.53500521394234,
          -113.52105476026615,
          -113.51874702077592,
          -113.53446626285944,
          -113.5192285116312,
          -113.53386534439154,
          -113.522555538119,
          -113.53517159616666,
          -113.5225515175221,
          -113.52121398147898,
          -113.52799610000764,
          -113.52891611728532,
          -113.51823494733203,
          -113.51941655171235,
          -113.53616120556552,
          -113.52685636914993,
          -113.52473860305402,
          -113.53169072417566,
          -113.53727965004856,
          -113.53342947806938,
          -113.51961098559924,
          -113.52474341160746,
          -113.53204545016824,
          -113.53620975409642,
          -113.52172642291252,
          -113.5247348911252,
          -113.52967393734409,
          -113.53125593261264,
          -113.53415513215668,
          -113.51802059748336,
          -113.53812164505858,
          -113.52992362792408,
          -113.52971194576168,
          -113.51958786396456,
          -113.52297429372496,
          -113.52075599864668,
          -113.5275731629447,
          -113.53536833315722,
          -113.5315594451804,
          -113.52823481979723,
          -113.53300196243931,
          -113.52207377699892,
          -113.52161506676951,
          -113.52235486338384,
          -113.52402085357308,
          -113.5210468799384,
          -113.5310072402674,
          -113.5369964115862,
          -113.5196592167226,
          -113.53133070600715,
          -113.52021276677183,
          -113.53442904691468,
          -113.517292189871,
          -113.52328070204912,
          -113.53047480403696,
          -113.535290142809,
          -113.52255583265212,
          -113.5374156744347,
          -113.53503354303244,
          -113.52205088494742,
          -113.52102480976691,
          -113.52169878889364,
          -113.51900944527848,
          -113.52984893097536,
          -113.53157181922371,
          -113.52672010274118,
          -113.52207423718406,
          -113.51729744995592,
          -113.52731285761378,
          -113.51840528129888,
          -113.53413318885303,
          -113.53368668322496,
          -113.52121427741888,
          -113.53666564770684,
          -113.53148008956023,
          -113.51893925331468,
          -113.53332064266831,
          -113.5175000336684,
          -113.53456201611084,
          -113.5343073331835,
          -113.5300675417632,
          -113.53670476909856,
          -113.5187763169207,
          -113.53115246819286,
          -113.53059695945824,
          -113.5172905977053,
          -113.52821802096614,
          -113.5347883061317,
          -113.51743173477394,
          -113.52264234506866,
          -113.51958460530236,
          -113.53676235814623,
          -113.53689828456471,
          -113.53437001404924,
          -113.518932705369,
          -113.52022563327893,
          -113.5263437969268,
          -113.53406441202178,
          -113.52255558078215,
          -113.5256979743169,
          -113.5198305374305,
          -113.53231288730764,
          -113.53195821116562,
          -113.52384376645972,
          -113.53315899728936,
          -113.52597859684172,
          -113.52255223432375,
          -113.52676522835615,
          -113.52092663281776,
          -113.5245108229604,
          -113.53245845076437,
          -113.52155754702288,
          -113.53812743124688,
          -113.53581417435768,
          -113.52045241120815,
          -113.53128342001006,
          -113.51876174947496,
          -113.52964841124378,
          -113.52522747489856,
          -113.52391275259716,
          -113.52042968263996,
          -113.51811923335802,
          -113.5205335379727,
          -113.53033627215018,
          -113.53546510659656,
          -113.52412349597876,
          -113.52821602629548,
          -113.53768906742424,
          -113.52012652664833,
          -113.52351275423256,
          -113.5209946925353,
          -113.5318095597,
          -113.51889676753568,
          -113.52169640896564,
          -113.51803340075551,
          -113.53061732801234,
          -113.5279962680037,
          -113.53382917904928,
          -113.5358488215633,
          -113.5274353170106,
          -113.52875588714126,
          -113.52061460065256,
          -113.51715812647784,
          -113.51914313085368,
          -113.53419165863733,
          -113.51797919748005,
          -113.53216297287882,
          -113.5212406185836,
          -113.528215697038,
          -113.52115629346858,
          -113.5380782137744,
          -113.52949826249258,
          -113.53224817583217,
          -113.51982322684448,
          -113.52641389534048,
          -113.53628443781838,
          -113.51801354846654,
          -113.53407961761206,
          -113.5350173007454,
          -113.52861724721716,
          -113.52605998834616,
          -113.5290692849215,
          -113.53712215403804,
          -113.52319382875784,
          -113.5368557444872,
          -113.52251813519064,
          -113.52070123919852,
          -113.53053859300188,
          -113.53176346914836,
          -113.51987607575674,
          -113.53695389878663,
          -113.51801235650748,
          -113.53527957481587,
          -113.53269108573676,
          -113.5312856267072,
          -113.52122446659988,
          -113.532390426532,
          -113.51732394530907,
          -113.53494048661562,
          -113.53585021620526,
          -113.5296700243698,
          -113.53711733736765,
          -113.5341573549408,
          -113.5302381151854,
          -113.53686057210302,
          -113.52082032382393,
          -113.52775144804964,
          -113.5172898489227,
          -113.53744122453504,
          -113.51856730394708,
          -113.52266231631036,
          -113.53465060396888,
          -113.53222469890676,
          -113.5380021552438,
          -113.53315233912136,
          -113.5314362398486,
          -113.52865228665009,
          -113.52387336431414,
          -113.5225554595578,
          -113.53266046712282,
          -113.52105171317412,
          -113.5295334435434,
          -113.51825421865829,
          -113.52821515816728,
          -113.52053375635256,
          -113.52394604289093,
          -113.51876030947815,
          -113.52821497746264,
          -113.52023835732082,
          -113.53517355334216,
          -113.5327201243984,
          -113.52971901250676,
          -113.53813318016186,
          -113.52466276467904,
          -113.53676689470184,
          -113.5210597643738,
          -113.52466323728268,
          -113.51811773578268,
          -113.53555969279192,
          -113.5342822982972,
          -113.529493187545,
          -113.53809921632627,
          -113.52898449056912,
          -113.53528568680944,
          -113.53728217103212,
          -113.52191299824008,
          -113.52105298646974,
          -113.53605494109158,
          -113.5359153967402,
          -113.53596705001338,
          -113.53591968088188,
          -113.51765778752916,
          -113.52636539303708,
          -113.53322806739938,
          -113.53666554492185,
          -113.51899867068803,
          -113.52138578562094,
          -113.52914319471044,
          -113.52319402796864,
          -113.529070054641,
          -113.53607806534342,
          -113.53040009084437,
          -113.53574271910507,
          -113.5331545187478,
          -113.53162856009632,
          -113.51898116191092,
          -113.53803134816724,
          -113.53075517561508,
          -113.53577033371609,
          -113.53493295597748,
          -113.52757336602956,
          -113.5210869428314,
          -113.52127720937492,
          -113.51920796614834,
          -113.5331195064222,
          -113.5250797169192,
          -113.53318177127584,
          -113.52169556652876,
          -113.52759012239746,
          -113.53651413859272,
          -113.5287652241908,
          -113.53228339810096,
          -113.5381167311546,
          -113.5172976533797,
          -113.53806090774816,
          -113.52250449618757,
          -113.52971253262628,
          -113.51850561694812,
          -113.5374086482295,
          -113.53604338675753,
          -113.52792173147506,
          -113.53762123506723,
          -113.52042921665632,
          -113.5194074810762,
          -113.53398885408782,
          -113.52574528269194,
          -113.52660423383348,
          -113.53398633422538,
          -113.53809240372463,
          -113.53367472089668,
          -113.53102213012896,
          -113.5231944990028,
          -113.52496230893286,
          -113.51888154622036,
          -113.52063740788311,
          -113.52345238155428,
          -113.51772600844087,
          -113.52302683466316,
          -113.52996198478073,
          -113.51874604529196,
          -113.5318171342932,
          -113.53804225864316,
          -113.53391413688703,
          -113.52172370885208,
          -113.52326576828617,
          -113.52971189582644,
          -113.53126962137353,
          -113.52185836740236,
          -113.52181691302049,
          -113.53532460216836,
          -113.5198507816539,
          -113.53058574637475,
          -113.51899902809862,
          -113.53688837222064,
          -113.53060206868686,
          -113.53151091918528,
          -113.52805333854675,
          -113.5240363042619,
          -113.52105387115006,
          -113.52861936155008,
          -113.52954981301563,
          -113.51727474250032,
          -113.52525519390264,
          -113.52366229124512,
          -113.52255590163615,
          -113.53779983372507,
          -113.53056006829752,
          -113.51959690973932,
          -113.5359067557774,
          -113.53697293720585,
          -113.5219128896688,
          -113.53462762213604,
          -113.53588911355862,
          -113.53081357282026,
          -113.524431821259,
          -113.51739567443346,
          -113.53382527560476,
          -113.53727624386732,
          -113.528043182079,
          -113.5279424983416,
          -113.5316907736846,
          -113.53601485604486,
          -113.52945316015244,
          -113.53559611760583,
          -113.5185438672003,
          -113.5364719587334,
          -113.53295760888342,
          -113.53787596868328,
          -113.5176386138368,
          -113.53271222527113,
          -113.53812308394508,
          -113.5344725621442,
          -113.53704788660652,
          -113.53197504751718,
          -113.5210671499485,
          -113.51943681439164,
          -113.51958762251262,
          -113.53554734134455,
          -113.52401968491668,
          -113.53461883174847,
          -113.53296489652304,
          -113.5306731672734,
          -113.52757334277564,
          -113.52230268284436,
          -113.53300045203012,
          -113.52255127593868,
          -113.53102187155488,
          -113.522921467105,
          -113.52013675575382,
          -113.53353336946196,
          -113.53359999063056,
          -113.52614532950984,
          -113.51826479098152,
          -113.52573330653908,
          -113.51972317047206,
          -113.53274304907484,
          -113.53227951554376,
          -113.53045712374843,
          -113.52498203668172,
          -113.52253525201716,
          -113.53447567947472,
          -113.51884517125916,
          -113.52881887217808,
          -113.53340687600232,
          -113.52121458334162,
          -113.52255199259334,
          -113.53476909814908,
          -113.53238463710068,
          -113.5191778987696,
          -113.53527787749458,
          -113.5366642258388,
          -113.51978975979884,
          -113.532977121986,
          -113.5310677374641,
          -113.52499342104802,
          -113.5344178319122,
          -113.53681614284687,
          -113.53412316358929,
          -113.52416515894866,
          -113.52022759872447,
          -113.53384158915335,
          -113.52255550976156,
          -113.52823473395723,
          -113.52757376762668,
          -113.53011549369224,
          -113.53519204485968,
          -113.53451318354084,
          -113.51958738164934,
          -113.51850208137142,
          -113.5304851015859,
          -113.5305383733353,
          -113.5282162152083,
          -113.53464653186508,
          -113.52770762394518,
          -113.53720243479734,
          -113.51876054716848,
          -113.53245240602948,
          -113.52355724411314,
          -113.52545934095698,
          -113.53120673938628,
          -113.53251114551826,
          -113.5346760027844,
          -113.53624815105132,
          -113.53804955600094,
          -113.51955914775692,
          -113.5356207194362,
          -113.5236200589813,
          -113.51743332182902,
          -113.53509163199357,
          -113.51990316449329,
          -113.53778402517112,
          -113.52119239924691,
          -113.52821476126152,
          -113.52475477830724,
          -113.5310387387782,
          -113.53016055156216,
          -113.517467030934,
          -113.53525568201675,
          -113.51713323829772,
          -113.53340698914002,
          -113.5287824809831,
          -113.53375485625465,
          -113.53252430585071,
          -113.52278126421436,
          -113.52671973886892,
          -113.53223796924264,
          -113.53446793584811,
          -113.53086198899166,
          -113.5354289104547,
          -113.51862617574626,
          -113.52035090333038,
          -113.53304394332493,
          -113.53637052026858,
          -113.53078411589291,
          -113.52108690791242,
          -113.5216990547252,
          -113.53202133534222,
          -113.5345262225902,
          -113.51847820958884,
          -113.53123627774976,
          -113.52334229359488,
          -113.53718334385216,
          -113.52684989215022,
          -113.52077096874856,
          -113.52092681713393,
          -113.51811277536798,
          -113.52672032933997,
          -113.53664512644936,
          -113.52255561000024,
          -113.53205391620966,
          -113.53126338675648,
          -113.5367071164042,
          -113.53316664235042,
          -113.52920632815834,
          -113.51744166238488,
          -113.52108709935332,
          -113.52904235801998,
          -113.53392763004511,
          -113.53276636923832,
          -113.51989385022252,
          -113.53053906093838,
          -113.51811672286892,
          -113.52121842558408,
          -113.52128675945328,
          -113.5320381793354,
          -113.53651393540332,
          -113.52722875402388,
          -113.5230253171626,
          -113.51933297105202,
          -113.51729143288416,
          -113.53097126663862,
          -113.52906458938529,
          -113.52047794660096,
          -113.5238997909998,
          -113.52245755045529,
          -113.53701481446603,
          -113.5297121055662,
          -113.53598366697332,
          -113.51807612564342,
          -113.53198061689368,
          -113.53413826262104,
          -113.53799704015468,
          -113.5360642710069,
          -113.518826429272,
          -113.52240339725152,
          -113.52018673017469,
          -113.51994428639168,
          -113.53716043824006,
          -113.53201072032984,
          -113.52402848364116,
          -113.53150640718596,
          -113.5187598840458,
          -113.52797087774503,
          -113.52115610803776,
          -113.5274980223339,
          -113.5300792187067,
          -113.53000861476666,
          -113.52537870952308,
          -113.51883987876754,
          -113.53038238909905,
          -113.53071126175873,
          -113.5182926116887,
          -113.52169670187624,
          -113.53352183163656,
          -113.52144215114704,
          -113.51759864468562,
          -113.52043503326466,
          -113.53023734082852,
          -113.5259948786756,
          -113.51903929470564,
          -113.53809850138155,
          -113.52653680775528,
          -113.53808350733868,
          -113.52378580830828,
          -113.52805880380748,
          -113.51811899924805,
          -113.52194358287854,
          -113.53722591518334,
          -113.52906949692276,
          -113.5354255876464,
          -113.53590977616666,
          -113.52191306758944,
          -113.53390501208554,
          -113.5172921726802,
          -113.5338668098114,
          -113.5192979108342,
          -113.53728512123944,
          -113.51968746203492,
          -113.53400625353294,
          -113.5204543525192,
          -113.5345130879037,
          -113.52844115001405,
          -113.51774845370988,
          -113.53167764882336,
          -113.53196179363492,
          -113.52596921714982,
          -113.53739957411732,
          -113.52070158844252,
          -113.52637477715574,
          -113.53251128946476,
          -113.52714423397418,
          -113.52617525525096,
          -113.51926096863912,
          -113.51958903548928,
          -113.5185971911765,
          -113.521015965164,
          -113.5305388315136,
          -113.53810103292592,
          -113.52169829477586,
          -113.52478035139129,
          -113.53624246354448,
          -113.52109683171534,
          -113.5381245385817,
          -113.51960074968132,
          -113.52517812811492,
          -113.5352815848374,
          -113.53561931222649,
          -113.52507802219549,
          -113.52750626102574,
          -113.52169556085916,
          -113.51811797065236,
          -113.5329638072731,
          -113.517305701928,
          -113.52402038481324,
          -113.52900588405367,
          -113.52255538834387,
          -113.52040777074468,
          -113.52971213121768,
          -113.53140724409992,
          -113.53590527222156,
          -113.52179766314389,
          -113.51825899240238,
          -113.538079636871,
          -113.51967545213942,
          -113.51754136783832,
          -113.53809418599252,
          -113.51788414411536,
          -113.53382658178724,
          -113.5181182047678,
          -113.5172913299159,
          -113.5180170953268,
          -113.5200997993102,
          -113.5316059240696,
          -113.53408633749407,
          -113.52923238249902,
          -113.52522069333668,
          -113.5225194861186,
          -113.5231937928766,
          -113.52931267974988,
          -113.53548518009876,
          -113.53125900935088,
          -113.53291837863948,
          -113.52906140067113,
          -113.53517829461626,
          -113.53436184320076,
          -113.5305255801671,
          -113.52821610748272,
          -113.53137381231076,
          -113.51876956043424,
          -113.51990550996015,
          -113.52467461876488,
          -113.52466300514553,
          -113.53305522762714,
          -113.53443783368994,
          -113.53582562540912,
          -113.53684196913514,
          -113.52927243612098,
          -113.52568943169476,
          -113.5339317487181,
          -113.51817030597292,
          -113.52398522201688,
          -113.52255578293556,
          -113.52316928557086,
          -113.5289312640961,
          -113.53728364199657,
          -113.53567477506608,
          -113.53240408807967,
          -113.53612086564377,
          -113.51736282184228,
          -113.52631245252311,
          -113.5302083978804,
          -113.53728070004368,
          -113.51990726677278,
          -113.52015730650524,
          -113.5310074233847,
          -113.52937718792764,
          -113.5259158661025,
          -113.53304366526832,
          -113.53528645146235,
          -113.5366687771497,
          -113.51739575485368,
          -113.53630920211516,
          -113.53172411072174,
          -113.5344856987878,
          -113.53316844504891,
          -113.53067513989988,
          -113.53541755825351,
          -113.52388184364892,
          -113.5355540894035,
          -113.52200145455528,
          -113.5275724131604,
          -113.53340712465877,
          -113.53533022854798,
          -113.53653870712508,
          -113.53811867072191,
          -113.53653737093916,
          -113.52762593270538,
          -113.52255103992238,
          -113.53299267316868,
          -113.53582544351102,
          -113.53616638660566,
          -113.53590823243417,
          -113.53528716510354,
          -113.53348952164284,
          -113.52191217505975,
          -113.53168413771812,
          -113.5256052428995,
          -113.53810224471792,
          -113.51860868539012,
          -113.52085175034168,
          -113.53409678141252,
          -113.51876154100243,
          -113.53675279153872,
          -113.52319473424228,
          -113.5344741087425,
          -113.53666279802646,
          -113.52978399931251,
          -113.53809795306984
         ],
         "marker": {
          "color": [
           295500,
           312500,
           293500,
           285500,
           313000,
           293500,
           344500,
           309000,
           316000,
           303000,
           355000,
           328500,
           344500,
           323000,
           327500,
           356500,
           372500,
           443000,
           449000,
           423500,
           572500,
           343000,
           442000,
           549000,
           471500,
           398000,
           444500,
           394000,
           422500,
           427500,
           428000,
           445500,
           598500,
           456500,
           474500,
           581000,
           544500,
           518500,
           437500,
           493000,
           453500,
           457500,
           464000,
           463000,
           454000,
           473500,
           527000,
           447500,
           503500,
           458000,
           522000,
           381500,
           417500,
           477500,
           441000,
           465500,
           425000,
           298500,
           448500,
           461500,
           420000,
           449500,
           434000,
           607500,
           483000,
           454500,
           445000,
           445000,
           412500,
           450000,
           486000,
           579000,
           474000,
           492000,
           398500,
           359500,
           437500,
           444500,
           538000,
           442500,
           497000,
           439000,
           453500,
           468000,
           422500,
           422500,
           429500,
           457500,
           572500,
           569500,
           491000,
           497500,
           419500,
           472000,
           447000,
           485500,
           454000,
           427500,
           443500,
           410000,
           485000,
           391000,
           449500,
           524500,
           507500,
           457500,
           500500,
           456000,
           413500,
           462500,
           434000,
           404000,
           433000,
           488000,
           540500,
           523000,
           436500,
           488500,
           417000,
           424000,
           463000,
           489000,
           455500,
           452000,
           335000,
           427000,
           537000,
           419500,
           445500,
           389000,
           464000,
           557000,
           483500,
           474500,
           426000,
           548500,
           429000,
           401000,
           524500,
           574500,
           437500,
           463500,
           420000,
           515000,
           377000,
           419000,
           545500,
           427000,
           480500,
           452500,
           444500,
           484500,
           416000,
           429500,
           473000,
           438000,
           430500,
           407000,
           559000,
           430000,
           470000,
           421000,
           513000,
           455000,
           425000,
           458500,
           408000,
           529000,
           470000,
           302000,
           449000,
           451000,
           552500,
           464500,
           407000,
           417000,
           495500,
           535000,
           400500,
           510500,
           464000,
           422000,
           441000,
           408000,
           416500,
           433000,
           535000,
           528500,
           431000,
           459500,
           449000,
           433500,
           457000,
           409500,
           502000,
           427500,
           524500,
           422000,
           583500,
           407000,
           450000,
           429000,
           509500,
           500500,
           526000,
           537500,
           464500,
           394000,
           314500,
           417500,
           520500,
           489500,
           426500,
           524000,
           457500,
           506000,
           412000,
           417000,
           409000,
           502500,
           438500,
           576500,
           468000,
           429000,
           432000,
           435500,
           447000,
           552500,
           411000,
           453500,
           477000,
           466000,
           474500,
           539500,
           434500,
           470500,
           442500,
           438500,
           460000,
           535500,
           428500,
           457500,
           491000,
           429500,
           469000,
           415500,
           447000,
           409500,
           457500,
           477000,
           442000,
           424000,
           448000,
           449500,
           417500,
           431000,
           441000,
           478500,
           631000,
           293500,
           473500,
           411000,
           514000,
           445500,
           480500,
           323000,
           471500,
           389000,
           529000,
           426000,
           435000,
           440000,
           413500,
           448000,
           452500,
           468000,
           499500,
           442500,
           502000,
           471500,
           708500,
           423000,
           551000,
           571000,
           433000,
           437000,
           426500,
           490500,
           433500,
           417500,
           424000,
           450500,
           495000,
           408500,
           445000,
           450000,
           415000,
           564000,
           400500,
           479000,
           572000,
           503000,
           441000,
           401500,
           419500,
           435000,
           454500,
           536000,
           397000,
           459500,
           453000,
           507000,
           408000,
           436500,
           440000,
           522000,
           424500,
           481500,
           433500,
           409000,
           435500,
           454500,
           542000,
           475000,
           406500,
           314500,
           477500,
           462000,
           464000,
           461000,
           439500,
           412500,
           475500,
           484500,
           433500,
           496000,
           406500,
           470000,
           409500,
           314000,
           450500,
           532000,
           530500,
           435500,
           435500,
           409000,
           526000,
           528000,
           444000,
           436000,
           468000,
           582500,
           428500,
           443500,
           469000,
           435500,
           393500,
           442000,
           588000,
           430000,
           419000,
           491500,
           609000,
           469500,
           437000,
           451000,
           455000,
           422500,
           552000,
           431000,
           672000,
           435500,
           465000,
           478000,
           430500,
           419500,
           317000,
           483500,
           461000,
           495500,
           452500,
           443000,
           484500,
           440500,
           526000,
           618500,
           433000,
           392000,
           451500,
           377500,
           497500,
           357500,
           416500,
           479500,
           487500,
           305000,
           410500,
           469500,
           479000,
           445500,
           410000,
           464000,
           488000,
           484000,
           487500,
           376500,
           436000,
           438000,
           501000,
           471500,
           411500,
           603500,
           524000,
           615500,
           431500,
           441500,
           403000,
           443500,
           462000,
           635000,
           437000,
           486500,
           415000,
           475000,
           407500,
           315500,
           415000,
           475500,
           515000,
           423500,
           449500,
           427500,
           435000,
           437500,
           438000,
           490500,
           414500,
           542500,
           436000,
           444500,
           498000,
           424500,
           464500,
           302000,
           342000,
           476500,
           464500,
           449500,
           433000,
           461500,
           411000,
           493000,
           446500,
           487000,
           420000,
           533000,
           482500,
           417500,
           404000,
           421000,
           432000,
           592000,
           430500,
           684500,
           594500,
           493000,
           430500,
           430500,
           483000,
           417500,
           449000,
           423500,
           438500,
           628500,
           511000,
           439000,
           462500,
           415000,
           398000,
           453500,
           481500,
           576000,
           432500,
           422500,
           523000,
           393500,
           425500,
           387000,
           497000,
           477500,
           495500,
           420000,
           474000,
           415000,
           498500,
           480500,
           453500,
           437500,
           673000,
           471500,
           491000,
           427000,
           471000,
           476500,
           312500,
           566000,
           530000,
           412000,
           462500,
           439000,
           505500,
           436500,
           570500,
           608000,
           450500,
           396500,
           436000,
           485000,
           540000,
           406500,
           476500,
           411000,
           438000,
           440000,
           430500,
           443500,
           547000,
           423000,
           604500,
           532000,
           412000,
           535500,
           607000,
           544500,
           421500,
           641000,
           385500,
           422500,
           421000,
           502500,
           415000,
           472500,
           414500,
           533000,
           414000,
           443500,
           437000,
           441000,
           501500,
           497500,
           455000,
           418000,
           472000,
           424500,
           576000,
           429500,
           470000,
           411000,
           453000,
           446500,
           504500,
           435000,
           446500,
           501000,
           538000,
           422000,
           673000,
           438000,
           406500,
           455000,
           381500,
           474000,
           480500,
           464500,
           459500,
           436500,
           433000,
           490500,
           441500,
           416500,
           569000,
           454500,
           424000,
           451000,
           472500,
           428500,
           402000,
           604000,
           440500,
           454500,
           403500,
           504500,
           430500,
           435500,
           464500,
           488500,
           439000,
           445500,
           426000,
           504000,
           450500,
           457000,
           531500,
           450000,
           574000,
           544000,
           516500,
           516500,
           664500,
           432000,
           583500,
           397000,
           440500,
           465500,
           444500,
           462500,
           439500,
           542500,
           419000,
           473500,
           464500,
           511500,
           434000,
           460500,
           311500,
           437500,
           449500,
           528500,
           429500,
           459000,
           445000,
           520500,
           505500,
           396000,
           428000,
           453500,
           436500,
           428500,
           584000,
           574000,
           479000,
           511000,
           540500,
           466500,
           442500,
           580500,
           453000,
           618500,
           448500,
           486000,
           602000,
           442000,
           489500,
           476000,
           413000,
           433500,
           422500,
           451500,
           440500,
           519000,
           436500,
           440000,
           444000,
           479000,
           417000,
           544500,
           440500,
           475500,
           435000,
           440500,
           479000,
           509500,
           453500,
           460000,
           431000,
           479000,
           481500,
           462000,
           502000,
           606500,
           574500,
           405500,
           538000,
           434000,
           419000,
           513500,
           439000,
           474000,
           524500,
           525000,
           421000,
           388000,
           445500,
           449500,
           508500,
           420500,
           438000,
           448500,
           435000,
           445500,
           537000,
           516500,
           436500,
           410500,
           419000,
           425500,
           439000,
           310500,
           464000,
           418500,
           451000,
           429500,
           467000,
           435500,
           462000,
           472000,
           451500,
           548500,
           429000,
           579500,
           433500,
           455500,
           582500,
           448500,
           422500,
           428000,
           495000,
           432000,
           456000,
           492500,
           429500,
           414000,
           433500,
           539000,
           523000,
           458500,
           382500,
           442000,
           313500,
           547500,
           468500,
           437500,
           446000,
           459000,
           483500,
           477000,
           477000,
           524500,
           420500,
           428000,
           477000,
           456000,
           419500,
           422000,
           507000,
           436000,
           437500,
           424000,
           430500,
           431500,
           486000,
           425000,
           440000,
           538000,
           460000,
           507000,
           394000,
           437000,
           439000,
           606500,
           441500,
           474000,
           374500,
           533000,
           532500,
           434500,
           587500,
           502500,
           466500,
           478500,
           537500,
           607000,
           457500,
           434000,
           460000,
           603500,
           421500,
           386000,
           326500,
           447000,
           439000,
           443500,
           728000,
           477500,
           409000,
           434500,
           535000,
           441000,
           449000,
           502500,
           448500,
           417500,
           515500,
           534500,
           581000,
           439000,
           406000,
           445000,
           445500,
           446000,
           306500,
           423500,
           501500,
           420500,
           425500,
           459500,
           497000,
           371500,
           303000,
           439500,
           464500,
           647500,
           419500,
           487500,
           478500,
           416500,
           504000,
           539500,
           432000,
           471500,
           446500,
           531500,
           471000,
           451000,
           447000,
           684500,
           423500,
           520000,
           431500,
           445500,
           421500,
           413000,
           513500,
           642500,
           455500,
           434000,
           448500,
           540000,
           447500,
           433500,
           404000,
           410500,
           409000,
           499500,
           460500,
           465000,
           430500,
           427000,
           522000,
           545500,
           597000,
           432500,
           477500,
           603500,
           462500,
           479000,
           420000,
           417500,
           506500,
           467000,
           492500,
           459000,
           415000,
           444000,
           426500,
           508000,
           443500,
           423000,
           540500,
           578500,
           453000,
           429000,
           538500,
           446500,
           458500,
           425000,
           442000,
           465000,
           502500,
           408500,
           428000,
           510000,
           534500,
           406500,
           527500,
           423000,
           413000,
           396500,
           693500,
           436000,
           444000,
           465000,
           469500,
           441500,
           524000,
           446000,
           449000,
           408500,
           446500,
           474500,
           552000,
           495500,
           419500,
           555000,
           446500,
           466000,
           439000,
           462000,
           501000,
           645000,
           445000,
           480000,
           440500,
           449000,
           455000,
           468000,
           461000,
           446000,
           576000,
           452000,
           415000,
           463500,
           438500,
           438000,
           439500,
           530500,
           431000,
           525000,
           419500,
           455500,
           458000,
           552500,
           464000,
           427000,
           419000,
           444500,
           596000,
           404000,
           486000,
           394000,
           529000,
           401500,
           823000,
           545000,
           464500,
           482000,
           414000,
           533500,
           433500,
           405000,
           425500,
           516500,
           423000,
           438500,
           486500,
           461000,
           517500,
           451500,
           424000,
           572000,
           449500,
           419000,
           486500,
           430500,
           455000,
           416000,
           523000,
           436500,
           437000,
           435500,
           409500,
           518500,
           523500,
           442000,
           320000,
           387500
          ],
          "coloraxis": "coloraxis"
         },
         "mode": "markers",
         "name": "",
         "showlegend": false,
         "subplot": "mapbox",
         "type": "scattermapbox"
        }
       ],
       "layout": {
        "coloraxis": {
         "colorbar": {
          "title": {
           "text": "assessed_value"
          }
         },
         "colorscale": [
          [
           0,
           "#0d0887"
          ],
          [
           0.1111111111111111,
           "#46039f"
          ],
          [
           0.2222222222222222,
           "#7201a8"
          ],
          [
           0.3333333333333333,
           "#9c179e"
          ],
          [
           0.4444444444444444,
           "#bd3786"
          ],
          [
           0.5555555555555556,
           "#d8576b"
          ],
          [
           0.6666666666666666,
           "#ed7953"
          ],
          [
           0.7777777777777778,
           "#fb9f3a"
          ],
          [
           0.8888888888888888,
           "#fdca26"
          ],
          [
           1,
           "#f0f921"
          ]
         ]
        },
        "height": 800,
        "legend": {
         "tracegroupgap": 0
        },
        "mapbox": {
         "center": {
          "lat": 53.47137358368594,
          "lon": -113.52791403684688
         },
         "domain": {
          "x": [
           0,
           1
          ],
          "y": [
           0,
           1
          ]
         },
         "style": "open-street-map",
         "zoom": 14
        },
        "margin": {
         "b": 0,
         "l": 0,
         "r": 0,
         "t": 0
        },
        "template": {
         "data": {
          "bar": [
           {
            "error_x": {
             "color": "#2a3f5f"
            },
            "error_y": {
             "color": "#2a3f5f"
            },
            "marker": {
             "line": {
              "color": "#E5ECF6",
              "width": 0.5
             },
             "pattern": {
              "fillmode": "overlay",
              "size": 10,
              "solidity": 0.2
             }
            },
            "type": "bar"
           }
          ],
          "barpolar": [
           {
            "marker": {
             "line": {
              "color": "#E5ECF6",
              "width": 0.5
             },
             "pattern": {
              "fillmode": "overlay",
              "size": 10,
              "solidity": 0.2
             }
            },
            "type": "barpolar"
           }
          ],
          "carpet": [
           {
            "aaxis": {
             "endlinecolor": "#2a3f5f",
             "gridcolor": "white",
             "linecolor": "white",
             "minorgridcolor": "white",
             "startlinecolor": "#2a3f5f"
            },
            "baxis": {
             "endlinecolor": "#2a3f5f",
             "gridcolor": "white",
             "linecolor": "white",
             "minorgridcolor": "white",
             "startlinecolor": "#2a3f5f"
            },
            "type": "carpet"
           }
          ],
          "choropleth": [
           {
            "colorbar": {
             "outlinewidth": 0,
             "ticks": ""
            },
            "type": "choropleth"
           }
          ],
          "contour": [
           {
            "colorbar": {
             "outlinewidth": 0,
             "ticks": ""
            },
            "colorscale": [
             [
              0,
              "#0d0887"
             ],
             [
              0.1111111111111111,
              "#46039f"
             ],
             [
              0.2222222222222222,
              "#7201a8"
             ],
             [
              0.3333333333333333,
              "#9c179e"
             ],
             [
              0.4444444444444444,
              "#bd3786"
             ],
             [
              0.5555555555555556,
              "#d8576b"
             ],
             [
              0.6666666666666666,
              "#ed7953"
             ],
             [
              0.7777777777777778,
              "#fb9f3a"
             ],
             [
              0.8888888888888888,
              "#fdca26"
             ],
             [
              1,
              "#f0f921"
             ]
            ],
            "type": "contour"
           }
          ],
          "contourcarpet": [
           {
            "colorbar": {
             "outlinewidth": 0,
             "ticks": ""
            },
            "type": "contourcarpet"
           }
          ],
          "heatmap": [
           {
            "colorbar": {
             "outlinewidth": 0,
             "ticks": ""
            },
            "colorscale": [
             [
              0,
              "#0d0887"
             ],
             [
              0.1111111111111111,
              "#46039f"
             ],
             [
              0.2222222222222222,
              "#7201a8"
             ],
             [
              0.3333333333333333,
              "#9c179e"
             ],
             [
              0.4444444444444444,
              "#bd3786"
             ],
             [
              0.5555555555555556,
              "#d8576b"
             ],
             [
              0.6666666666666666,
              "#ed7953"
             ],
             [
              0.7777777777777778,
              "#fb9f3a"
             ],
             [
              0.8888888888888888,
              "#fdca26"
             ],
             [
              1,
              "#f0f921"
             ]
            ],
            "type": "heatmap"
           }
          ],
          "heatmapgl": [
           {
            "colorbar": {
             "outlinewidth": 0,
             "ticks": ""
            },
            "colorscale": [
             [
              0,
              "#0d0887"
             ],
             [
              0.1111111111111111,
              "#46039f"
             ],
             [
              0.2222222222222222,
              "#7201a8"
             ],
             [
              0.3333333333333333,
              "#9c179e"
             ],
             [
              0.4444444444444444,
              "#bd3786"
             ],
             [
              0.5555555555555556,
              "#d8576b"
             ],
             [
              0.6666666666666666,
              "#ed7953"
             ],
             [
              0.7777777777777778,
              "#fb9f3a"
             ],
             [
              0.8888888888888888,
              "#fdca26"
             ],
             [
              1,
              "#f0f921"
             ]
            ],
            "type": "heatmapgl"
           }
          ],
          "histogram": [
           {
            "marker": {
             "pattern": {
              "fillmode": "overlay",
              "size": 10,
              "solidity": 0.2
             }
            },
            "type": "histogram"
           }
          ],
          "histogram2d": [
           {
            "colorbar": {
             "outlinewidth": 0,
             "ticks": ""
            },
            "colorscale": [
             [
              0,
              "#0d0887"
             ],
             [
              0.1111111111111111,
              "#46039f"
             ],
             [
              0.2222222222222222,
              "#7201a8"
             ],
             [
              0.3333333333333333,
              "#9c179e"
             ],
             [
              0.4444444444444444,
              "#bd3786"
             ],
             [
              0.5555555555555556,
              "#d8576b"
             ],
             [
              0.6666666666666666,
              "#ed7953"
             ],
             [
              0.7777777777777778,
              "#fb9f3a"
             ],
             [
              0.8888888888888888,
              "#fdca26"
             ],
             [
              1,
              "#f0f921"
             ]
            ],
            "type": "histogram2d"
           }
          ],
          "histogram2dcontour": [
           {
            "colorbar": {
             "outlinewidth": 0,
             "ticks": ""
            },
            "colorscale": [
             [
              0,
              "#0d0887"
             ],
             [
              0.1111111111111111,
              "#46039f"
             ],
             [
              0.2222222222222222,
              "#7201a8"
             ],
             [
              0.3333333333333333,
              "#9c179e"
             ],
             [
              0.4444444444444444,
              "#bd3786"
             ],
             [
              0.5555555555555556,
              "#d8576b"
             ],
             [
              0.6666666666666666,
              "#ed7953"
             ],
             [
              0.7777777777777778,
              "#fb9f3a"
             ],
             [
              0.8888888888888888,
              "#fdca26"
             ],
             [
              1,
              "#f0f921"
             ]
            ],
            "type": "histogram2dcontour"
           }
          ],
          "mesh3d": [
           {
            "colorbar": {
             "outlinewidth": 0,
             "ticks": ""
            },
            "type": "mesh3d"
           }
          ],
          "parcoords": [
           {
            "line": {
             "colorbar": {
              "outlinewidth": 0,
              "ticks": ""
             }
            },
            "type": "parcoords"
           }
          ],
          "pie": [
           {
            "automargin": true,
            "type": "pie"
           }
          ],
          "scatter": [
           {
            "fillpattern": {
             "fillmode": "overlay",
             "size": 10,
             "solidity": 0.2
            },
            "type": "scatter"
           }
          ],
          "scatter3d": [
           {
            "line": {
             "colorbar": {
              "outlinewidth": 0,
              "ticks": ""
             }
            },
            "marker": {
             "colorbar": {
              "outlinewidth": 0,
              "ticks": ""
             }
            },
            "type": "scatter3d"
           }
          ],
          "scattercarpet": [
           {
            "marker": {
             "colorbar": {
              "outlinewidth": 0,
              "ticks": ""
             }
            },
            "type": "scattercarpet"
           }
          ],
          "scattergeo": [
           {
            "marker": {
             "colorbar": {
              "outlinewidth": 0,
              "ticks": ""
             }
            },
            "type": "scattergeo"
           }
          ],
          "scattergl": [
           {
            "marker": {
             "colorbar": {
              "outlinewidth": 0,
              "ticks": ""
             }
            },
            "type": "scattergl"
           }
          ],
          "scattermapbox": [
           {
            "marker": {
             "colorbar": {
              "outlinewidth": 0,
              "ticks": ""
             }
            },
            "type": "scattermapbox"
           }
          ],
          "scatterpolar": [
           {
            "marker": {
             "colorbar": {
              "outlinewidth": 0,
              "ticks": ""
             }
            },
            "type": "scatterpolar"
           }
          ],
          "scatterpolargl": [
           {
            "marker": {
             "colorbar": {
              "outlinewidth": 0,
              "ticks": ""
             }
            },
            "type": "scatterpolargl"
           }
          ],
          "scatterternary": [
           {
            "marker": {
             "colorbar": {
              "outlinewidth": 0,
              "ticks": ""
             }
            },
            "type": "scatterternary"
           }
          ],
          "surface": [
           {
            "colorbar": {
             "outlinewidth": 0,
             "ticks": ""
            },
            "colorscale": [
             [
              0,
              "#0d0887"
             ],
             [
              0.1111111111111111,
              "#46039f"
             ],
             [
              0.2222222222222222,
              "#7201a8"
             ],
             [
              0.3333333333333333,
              "#9c179e"
             ],
             [
              0.4444444444444444,
              "#bd3786"
             ],
             [
              0.5555555555555556,
              "#d8576b"
             ],
             [
              0.6666666666666666,
              "#ed7953"
             ],
             [
              0.7777777777777778,
              "#fb9f3a"
             ],
             [
              0.8888888888888888,
              "#fdca26"
             ],
             [
              1,
              "#f0f921"
             ]
            ],
            "type": "surface"
           }
          ],
          "table": [
           {
            "cells": {
             "fill": {
              "color": "#EBF0F8"
             },
             "line": {
              "color": "white"
             }
            },
            "header": {
             "fill": {
              "color": "#C8D4E3"
             },
             "line": {
              "color": "white"
             }
            },
            "type": "table"
           }
          ]
         },
         "layout": {
          "annotationdefaults": {
           "arrowcolor": "#2a3f5f",
           "arrowhead": 0,
           "arrowwidth": 1
          },
          "autotypenumbers": "strict",
          "coloraxis": {
           "colorbar": {
            "outlinewidth": 0,
            "ticks": ""
           }
          },
          "colorscale": {
           "diverging": [
            [
             0,
             "#8e0152"
            ],
            [
             0.1,
             "#c51b7d"
            ],
            [
             0.2,
             "#de77ae"
            ],
            [
             0.3,
             "#f1b6da"
            ],
            [
             0.4,
             "#fde0ef"
            ],
            [
             0.5,
             "#f7f7f7"
            ],
            [
             0.6,
             "#e6f5d0"
            ],
            [
             0.7,
             "#b8e186"
            ],
            [
             0.8,
             "#7fbc41"
            ],
            [
             0.9,
             "#4d9221"
            ],
            [
             1,
             "#276419"
            ]
           ],
           "sequential": [
            [
             0,
             "#0d0887"
            ],
            [
             0.1111111111111111,
             "#46039f"
            ],
            [
             0.2222222222222222,
             "#7201a8"
            ],
            [
             0.3333333333333333,
             "#9c179e"
            ],
            [
             0.4444444444444444,
             "#bd3786"
            ],
            [
             0.5555555555555556,
             "#d8576b"
            ],
            [
             0.6666666666666666,
             "#ed7953"
            ],
            [
             0.7777777777777778,
             "#fb9f3a"
            ],
            [
             0.8888888888888888,
             "#fdca26"
            ],
            [
             1,
             "#f0f921"
            ]
           ],
           "sequentialminus": [
            [
             0,
             "#0d0887"
            ],
            [
             0.1111111111111111,
             "#46039f"
            ],
            [
             0.2222222222222222,
             "#7201a8"
            ],
            [
             0.3333333333333333,
             "#9c179e"
            ],
            [
             0.4444444444444444,
             "#bd3786"
            ],
            [
             0.5555555555555556,
             "#d8576b"
            ],
            [
             0.6666666666666666,
             "#ed7953"
            ],
            [
             0.7777777777777778,
             "#fb9f3a"
            ],
            [
             0.8888888888888888,
             "#fdca26"
            ],
            [
             1,
             "#f0f921"
            ]
           ]
          },
          "colorway": [
           "#636efa",
           "#EF553B",
           "#00cc96",
           "#ab63fa",
           "#FFA15A",
           "#19d3f3",
           "#FF6692",
           "#B6E880",
           "#FF97FF",
           "#FECB52"
          ],
          "font": {
           "color": "#2a3f5f"
          },
          "geo": {
           "bgcolor": "white",
           "lakecolor": "white",
           "landcolor": "#E5ECF6",
           "showlakes": true,
           "showland": true,
           "subunitcolor": "white"
          },
          "hoverlabel": {
           "align": "left"
          },
          "hovermode": "closest",
          "mapbox": {
           "style": "light"
          },
          "paper_bgcolor": "white",
          "plot_bgcolor": "#E5ECF6",
          "polar": {
           "angularaxis": {
            "gridcolor": "white",
            "linecolor": "white",
            "ticks": ""
           },
           "bgcolor": "#E5ECF6",
           "radialaxis": {
            "gridcolor": "white",
            "linecolor": "white",
            "ticks": ""
           }
          },
          "scene": {
           "xaxis": {
            "backgroundcolor": "#E5ECF6",
            "gridcolor": "white",
            "gridwidth": 2,
            "linecolor": "white",
            "showbackground": true,
            "ticks": "",
            "zerolinecolor": "white"
           },
           "yaxis": {
            "backgroundcolor": "#E5ECF6",
            "gridcolor": "white",
            "gridwidth": 2,
            "linecolor": "white",
            "showbackground": true,
            "ticks": "",
            "zerolinecolor": "white"
           },
           "zaxis": {
            "backgroundcolor": "#E5ECF6",
            "gridcolor": "white",
            "gridwidth": 2,
            "linecolor": "white",
            "showbackground": true,
            "ticks": "",
            "zerolinecolor": "white"
           }
          },
          "shapedefaults": {
           "line": {
            "color": "#2a3f5f"
           }
          },
          "ternary": {
           "aaxis": {
            "gridcolor": "white",
            "linecolor": "white",
            "ticks": ""
           },
           "baxis": {
            "gridcolor": "white",
            "linecolor": "white",
            "ticks": ""
           },
           "bgcolor": "#E5ECF6",
           "caxis": {
            "gridcolor": "white",
            "linecolor": "white",
            "ticks": ""
           }
          },
          "title": {
           "x": 0.05
          },
          "xaxis": {
           "automargin": true,
           "gridcolor": "white",
           "linecolor": "white",
           "ticks": "",
           "title": {
            "standoff": 15
           },
           "zerolinecolor": "white",
           "zerolinewidth": 2
          },
          "yaxis": {
           "automargin": true,
           "gridcolor": "white",
           "linecolor": "white",
           "ticks": "",
           "title": {
            "standoff": 15
           },
           "zerolinecolor": "white",
           "zerolinewidth": 2
          }
         }
        },
        "width": 800
       }
      },
      "text/html": [
       "<div>                            <div id=\"e6d25af7-a94d-41f5-9909-1b48ed1e5e26\" class=\"plotly-graph-div\" style=\"height:800px; width:800px;\"></div>            <script type=\"text/javascript\">                require([\"plotly\"], function(Plotly) {                    window.PLOTLYENV=window.PLOTLYENV || {};                                    if (document.getElementById(\"e6d25af7-a94d-41f5-9909-1b48ed1e5e26\")) {                    Plotly.newPlot(                        \"e6d25af7-a94d-41f5-9909-1b48ed1e5e26\",                        [{\"customdata\":[[11735,295500],[11515,312500],[11511,293500],[11517,285500],[11521,313000],[11737,293500],[11513,344500],[11519,309000],[11425,316000],[11423,303000],[11458,355000],[11456,328500],[11506,344500],[3913,323000],[3911,327500],[11504,356500],[3715,372500],[11304,443000],[11420,449000],[3619,423500],[11428,572500],[11452,343000],[11735,442000],[3808,549000],[3812,471500],[11511,398000],[3604,444500],[11136,394000],[3732,422500],[11107,427500],[3627,428000],[11739,445500],[11147,598500],[11108,456500],[11352,474500],[3431,581000],[11226,544500],[11404,518500],[3811,437500],[11511,493000],[11763,453500],[3628,457500],[3532,464000],[11755,463000],[11131,454000],[11215,473500],[11764,527000],[11139,447500],[11431,503500],[11440,458000],[11157,522000],[11144,381500],[3615,417500],[11121,477500],[3616,441000],[3531,465500],[3923,425000],[3808,298500],[11608,448500],[3441,461500],[11152,420000],[11164,449500],[11156,434000],[3503,607500],[11403,483000],[11507,454500],[3615,445000],[3520,445000],[3635,412500],[11703,450000],[11744,486000],[11239,579000],[3811,474000],[11411,492000],[11727,398500],[11462,359500],[11603,437500],[11736,444500],[11228,538000],[11108,442500],[3756,497000],[11716,439000],[11524,453500],[3516,468000],[11120,422500],[11723,422500],[11220,429500],[3816,457500],[11335,572500],[11523,569500],[3804,491000],[3508,497500],[11715,419500],[11245,472000],[11412,447000],[11511,485500],[11415,454000],[11619,427500],[3704,443500],[3623,410000],[11703,485000],[3723,391000],[11163,449500],[3707,524500],[3425,507500],[3630,457500],[3707,500500],[11743,456000],[3515,413500],[11727,462500],[11431,434000],[11115,404000],[3928,433000],[11444,488000],[3619,540500],[3519,523000],[3740,436500],[11227,488500],[3808,417000],[11148,424000],[11752,463000],[11116,489000],[11143,455500],[3831,452000],[11461,335000],[11323,427000],[11736,537000],[11508,419500],[11759,445500],[11151,389000],[11604,464000],[11764,557000],[3425,483500],[11412,474500],[11627,426000],[11719,548500],[3516,429000],[3607,401000],[11208,524500],[11311,574500],[3503,437500],[3512,463500],[11719,420000],[11535,515000],[3924,377000],[11603,419000],[11607,545500],[11119,427000],[11527,480500],[11623,452500],[3820,444500],[11315,484500],[11620,416000],[11347,429500],[3507,473000],[3748,438000],[3831,430500],[11328,407000],[11347,559000],[11439,430000],[3612,470000],[11311,421000],[11135,513000],[3832,455000],[11144,425000],[11732,458500],[3539,408000],[3501,529000],[11236,470000],[11457,302000],[11103,449000],[11155,451000],[11170,552500],[11739,464500],[3711,407000],[11219,417000],[3624,495500],[11524,535000],[3823,400500],[11415,510500],[11124,464000],[11204,422000],[3508,441000],[11416,408000],[11419,416500],[11512,433000],[11142,535000],[11257,528500],[11740,431000],[11204,459500],[11207,449000],[3720,433500],[3904,457000],[3607,409500],[11215,502000],[3708,427500],[3616,524500],[11711,422000],[11217,583500],[3832,407000],[3437,450000],[3815,429000],[11339,509500],[3603,500500],[3503,526000],[11235,537500],[11140,464500],[3507,394000],[11439,314500],[11712,417500],[3912,520500],[11212,489500],[11615,426500],[3438,524000],[3603,457500],[11153,506000],[11439,412000],[11203,417000],[11515,409000],[11251,502500],[11511,438500],[11126,576500],[3912,468000],[11520,429000],[11712,432000],[3623,435500],[11604,447000],[3435,552500],[3520,411000],[11120,453500],[3408,477000],[11731,466000],[11432,474500],[11703,539500],[11207,434500],[3527,470500],[11112,442500],[3927,438500],[3524,460000],[11238,535500],[11716,428500],[3735,457500],[11732,491000],[11328,429500],[3904,469000],[11115,415500],[3912,447000],[11711,409500],[11419,457500],[3836,477000],[11143,442000],[3807,424000],[11504,448000],[11703,449500],[3631,417500],[11520,431000],[11780,441000],[3512,478500],[11707,631000],[11449,293500],[11112,473500],[3516,411000],[11303,514000],[3527,445500],[3703,480500],[3809,323000],[11616,471500],[3803,389000],[11704,529000],[11716,426000],[11724,435000],[3511,440000],[3823,413500],[11435,448000],[3916,452500],[11212,468000],[3608,499500],[11607,442500],[11232,502000],[3904,471500],[3615,708500],[11615,423000],[11415,551000],[11138,571000],[3903,433000],[11771,437000],[11432,426500],[3523,490500],[11752,433500],[11440,417500],[11148,424000],[3612,450500],[3612,495000],[3611,408500],[3507,445000],[3627,450000],[3719,415000],[3422,564000],[11452,400500],[3631,479000],[11739,572000],[11723,503000],[11115,441000],[3604,401500],[11127,419500],[11503,435000],[11431,454500],[11512,536000],[11731,397000],[3520,459500],[11132,453000],[3615,507000],[11128,408000],[3736,436500],[3843,440000],[3504,522000],[3536,424500],[3436,481500],[3736,433500],[3624,409000],[11115,435500],[11131,454500],[11743,542000],[11329,475000],[11316,406500],[3917,314500],[11760,477500],[11719,462000],[3827,464000],[11315,461000],[11512,439500],[11724,412500],[3437,475500],[11253,484500],[11424,433500],[11508,496000],[11611,406500],[11112,470000],[3612,409500],[11445,314000],[3511,450500],[3620,532000],[11229,530500],[11155,435500],[3524,435500],[3928,409000],[11523,526000],[3403,528000],[11632,444000],[11212,436000],[11204,468000],[3807,582500],[3612,428500],[3815,443500],[11512,469000],[11732,435500],[11148,393500],[11507,442000],[11166,588000],[3835,430000],[3611,419000],[11216,491500],[11511,609000],[3512,469500],[11216,437000],[3711,451000],[11719,455000],[11211,422500],[3508,552000],[3619,431000],[11125,672000],[3503,435500],[11504,465000],[3603,478000],[11219,430500],[3803,419500],[3810,317000],[11131,483500],[11715,461000],[3504,495500],[3440,452500],[3516,443000],[11611,484500],[11123,440500],[11616,526000],[11118,618500],[3715,433000],[3804,392000],[3632,451500],[11735,377500],[11111,497500],[11466,357500],[11448,416500],[3519,479500],[11412,487500],[3927,305000],[3911,410500],[11208,469500],[3504,479000],[11768,445500],[11736,410000],[11712,464000],[11115,488000],[11147,484000],[11325,487500],[11724,376500],[3903,436000],[11331,438000],[11138,501000],[11603,471500],[11604,411500],[11244,603500],[11539,524000],[3612,615500],[3612,431500],[11348,441500],[11156,403000],[11312,443500],[11703,462000],[11212,635000],[3524,437000],[11731,486500],[3824,415000],[11519,475000],[3623,407500],[11441,315500],[11324,415000],[11303,475500],[3427,515000],[3624,423500],[11152,449500],[11436,427500],[11732,435000],[11307,437500],[3543,438000],[11767,490500],[11136,414500],[11240,542500],[11155,436000],[11528,444500],[3511,498000],[3519,424500],[3421,464500],[11455,302000],[3803,342000],[3524,476500],[11712,464500],[3620,449500],[11403,433000],[11167,461500],[11104,411000],[11139,493000],[11712,446500],[11116,487000],[11535,420000],[3424,533000],[3531,482500],[11203,417500],[3916,404000],[11423,421000],[11620,432000],[11149,592000],[11343,430500],[11720,684500],[3804,594500],[11731,493000],[11707,430500],[11424,430500],[11327,483000],[3536,417500],[11751,449000],[3511,423500],[11767,438500],[3430,628500],[11149,511000],[3524,439000],[11515,462500],[11135,415000],[11759,398000],[3716,453500],[3620,481500],[11615,576000],[11604,432500],[11159,422500],[11515,523000],[3819,393500],[11740,425500],[11711,387000],[3619,497000],[11760,477500],[11616,495500],[11423,420000],[11747,474000],[11168,415000],[11360,498500],[11103,480500],[11739,453500],[11127,437500],[11208,673000],[3911,471500],[11525,491000],[11752,427000],[11611,471000],[11603,476500],[11427,312500],[11241,566000],[3835,530000],[11616,412000],[11159,462500],[11436,439000],[11120,505500],[3527,436500],[11169,570500],[11243,608000],[3531,450500],[3611,396500],[11147,436000],[3502,485000],[3815,540000],[11427,406500],[3512,476500],[3603,411000],[11728,438000],[11160,440000],[3611,430500],[3528,443500],[11736,547000],[11735,423000],[11428,604500],[3724,532000],[3620,412000],[3604,535500],[3603,607000],[3828,544500],[11172,421500],[11716,641000],[11739,385500],[3711,422500],[11715,421000],[3441,502500],[11343,415000],[11715,472500],[3608,414500],[11141,533000],[11207,414000],[11423,443500],[3519,437000],[3608,441000],[11735,501500],[3504,497500],[11752,455000],[3731,418000],[11503,472000],[11119,424500],[11775,576000],[11503,429500],[11751,470000],[11704,411000],[3528,453000],[3831,446500],[3420,504500],[11131,435000],[11612,446500],[3424,501000],[3923,538000],[3507,422000],[11341,673000],[11723,438000],[11423,406500],[11623,455000],[3624,381500],[3807,474000],[11763,480500],[3819,464500],[3603,459500],[11128,436500],[3807,433000],[11755,490500],[3631,441500],[11748,416500],[11145,569000],[11146,454500],[3916,424000],[11332,451000],[11348,472500],[3819,428500],[3804,402000],[11624,604000],[11503,440500],[3607,454500],[11320,403500],[3418,504500],[3504,430500],[11239,435500],[11108,464500],[11233,488500],[11448,439000],[11124,445500],[11515,426000],[3932,504000],[11703,450500],[3635,457000],[11233,531500],[3515,450000],[11608,574000],[11212,544000],[11208,516500],[11708,516500],[11155,664500],[11508,432000],[11124,583500],[11755,397000],[11443,440500],[11516,465500],[3623,444500],[3616,462500],[3524,439500],[11412,542500],[11411,419000],[3503,473500],[11315,464500],[11242,511500],[3923,434000],[11744,460500],[11503,311500],[3815,437500],[3519,449500],[11732,528500],[3908,429500],[3507,459000],[11736,445000],[11504,520500],[11249,505500],[3907,396000],[3612,428000],[3619,453500],[11411,436500],[11403,428500],[3921,584000],[11716,574000],[11420,479000],[11707,511000],[3434,540500],[11728,466500],[11528,442500],[11784,580500],[11104,453000],[3715,618500],[3608,448500],[3519,486000],[11756,602000],[11603,442000],[3819,489500],[3524,476000],[3616,413000],[11707,433500],[3512,422500],[3505,451500],[11704,440500],[11427,519000],[3512,436500],[11216,440000],[3607,444000],[3532,479000],[11504,417000],[11211,544500],[11115,440500],[11616,475500],[3824,435000],[11340,440500],[11107,479000],[11317,509500],[11140,453500],[11608,460000],[11516,431000],[11503,479000],[11319,481500],[3640,462000],[3511,502000],[11135,606500],[3628,574500],[11543,405500],[11207,538000],[3608,434000],[11727,419000],[11528,513500],[11127,439000],[3624,474000],[3520,524500],[3831,525000],[11612,421000],[11515,388000],[11320,445500],[3808,449500],[11752,508500],[11711,420500],[11307,438000],[3515,448500],[11727,435000],[3839,445500],[3407,537000],[3604,516500],[11432,436500],[11744,410500],[11615,419000],[3612,425500],[11120,439000],[11453,310500],[3520,464000],[3603,418500],[3719,451000],[3752,429500],[11736,467000],[3603,435500],[11611,462000],[11237,472000],[11327,451500],[11604,548500],[11527,429000],[11715,579500],[11748,433500],[11771,455500],[11134,582500],[11707,448500],[11240,422500],[3703,428000],[3716,495000],[11155,432000],[11743,456000],[11211,492500],[3519,429500],[11316,414000],[11508,433500],[11435,539000],[3453,523000],[11735,458500],[11103,382500],[11615,442000],[11429,313500],[3732,547500],[3912,468500],[11227,437500],[3527,446000],[3703,459000],[3611,483500],[11504,477000],[11731,477000],[3430,524500],[11140,420500],[3727,428000],[11720,477000],[11508,456000],[3827,419500],[3623,422000],[11519,507000],[3839,436000],[11119,437500],[11503,424000],[3503,430500],[11763,431500],[11327,486000],[11151,425000],[11159,440000],[3417,538000],[3607,460000],[11751,507000],[3907,394000],[11619,437000],[11512,439000],[11756,606500],[3919,441500],[11408,474000],[3915,374500],[3512,533000],[3616,532500],[11708,434500],[11611,587500],[11139,502500],[3608,466500],[3516,478500],[3428,537500],[11208,607000],[11519,457500],[11724,434000],[11355,460000],[11235,603500],[11124,421500],[3627,386000],[11464,326500],[3412,447000],[3828,439000],[11303,443500],[3815,728000],[11772,477500],[3519,409000],[3703,434500],[3904,535000],[11532,441000],[11708,449000],[11768,502500],[11715,448500],[11127,417500],[11221,515500],[11143,534500],[11162,581000],[11740,439000],[11532,406000],[11228,445000],[11608,445500],[3519,446000],[3805,306500],[11160,423500],[3616,501500],[11439,420500],[11419,425500],[3624,459500],[11116,497000],[11454,371500],[11505,303000],[11123,439500],[3523,464500],[11620,647500],[11207,419500],[3445,487500],[3423,478500],[3624,416500],[11323,504000],[11143,539500],[3704,432000],[11344,471500],[3816,446500],[11244,531500],[3732,471000],[3620,451000],[3639,447000],[11736,684500],[3540,423500],[11728,520000],[3511,431500],[3836,445500],[11612,421500],[3615,413000],[11720,513500],[11129,642500],[3523,455500],[11136,434000],[3920,448500],[11120,540000],[11620,447500],[11411,433500],[11107,404000],[11528,410500],[11531,409000],[11336,499500],[3623,460500],[11151,465000],[11344,430500],[11604,427000],[11333,522000],[11339,545500],[11130,597000],[3819,432500],[11123,477500],[11204,603500],[3604,462500],[3636,479000],[3611,420000],[3623,417500],[11724,506500],[11163,467000],[3604,492500],[3508,459000],[11324,415000],[11703,444000],[11708,426500],[3420,508000],[11359,443500],[3505,423000],[3604,540500],[3611,578500],[3815,453000],[3604,429000],[11427,538500],[3827,446500],[3816,458500],[3615,425000],[11520,442000],[3603,465000],[3417,502500],[11124,408500],[3912,428000],[11158,510000],[3449,534500],[3740,406500],[3429,527500],[3608,423000],[3608,413000],[3603,396500],[3816,693500],[11139,436000],[11511,444000],[3744,465000],[11416,469500],[11323,441500],[3434,524000],[3515,446000],[11432,449000],[11739,408500],[11507,446500],[11608,474500],[3612,552000],[3508,495500],[11715,419500],[11435,555000],[3607,446500],[11439,466000],[11120,439000],[11153,462000],[11303,501000],[3607,645000],[3708,445000],[3623,480000],[11711,440500],[11756,449000],[11424,455000],[11319,468000],[11711,461000],[3916,446000],[11246,576000],[11227,452000],[11215,415000],[3524,463500],[3527,438500],[11735,438000],[3932,439500],[11740,530500],[11107,431000],[11319,525000],[11447,419500],[3607,455500],[11111,458000],[11141,552500],[11503,464000],[11427,427000],[11336,419000],[11711,444500],[11711,596000],[11732,404000],[11104,486000],[11719,394000],[11516,529000],[11732,401500],[11623,823000],[11432,545000],[11712,464500],[3504,482000],[11712,414000],[11215,533500],[3516,433500],[11627,405000],[11732,425500],[11723,516500],[3620,423000],[11724,438500],[11339,486500],[3528,461000],[11608,517500],[11712,451500],[11719,424000],[3515,572000],[3520,449500],[3820,419000],[3824,486500],[11607,430500],[11331,455000],[3716,416000],[11130,523000],[11171,436500],[3823,437000],[3619,435500],[11727,409500],[3611,518500],[3515,523500],[3604,442000],[11443,320000],[3728,387500]],\"hovertemplate\":\"<b>%{hovertext}</b><br><br>latitude=%{lat}<br>longitude=%{lon}<br>house_number=%{customdata[0]}<br>assessed_value=%{marker.color}<extra></extra>\",\"hovertext\":[295500.0,312500.0,293500.0,285500.0,313000.0,293500.0,344500.0,309000.0,316000.0,303000.0,355000.0,328500.0,344500.0,323000.0,327500.0,356500.0,372500.0,443000.0,449000.0,423500.0,572500.0,343000.0,442000.0,549000.0,471500.0,398000.0,444500.0,394000.0,422500.0,427500.0,428000.0,445500.0,598500.0,456500.0,474500.0,581000.0,544500.0,518500.0,437500.0,493000.0,453500.0,457500.0,464000.0,463000.0,454000.0,473500.0,527000.0,447500.0,503500.0,458000.0,522000.0,381500.0,417500.0,477500.0,441000.0,465500.0,425000.0,298500.0,448500.0,461500.0,420000.0,449500.0,434000.0,607500.0,483000.0,454500.0,445000.0,445000.0,412500.0,450000.0,486000.0,579000.0,474000.0,492000.0,398500.0,359500.0,437500.0,444500.0,538000.0,442500.0,497000.0,439000.0,453500.0,468000.0,422500.0,422500.0,429500.0,457500.0,572500.0,569500.0,491000.0,497500.0,419500.0,472000.0,447000.0,485500.0,454000.0,427500.0,443500.0,410000.0,485000.0,391000.0,449500.0,524500.0,507500.0,457500.0,500500.0,456000.0,413500.0,462500.0,434000.0,404000.0,433000.0,488000.0,540500.0,523000.0,436500.0,488500.0,417000.0,424000.0,463000.0,489000.0,455500.0,452000.0,335000.0,427000.0,537000.0,419500.0,445500.0,389000.0,464000.0,557000.0,483500.0,474500.0,426000.0,548500.0,429000.0,401000.0,524500.0,574500.0,437500.0,463500.0,420000.0,515000.0,377000.0,419000.0,545500.0,427000.0,480500.0,452500.0,444500.0,484500.0,416000.0,429500.0,473000.0,438000.0,430500.0,407000.0,559000.0,430000.0,470000.0,421000.0,513000.0,455000.0,425000.0,458500.0,408000.0,529000.0,470000.0,302000.0,449000.0,451000.0,552500.0,464500.0,407000.0,417000.0,495500.0,535000.0,400500.0,510500.0,464000.0,422000.0,441000.0,408000.0,416500.0,433000.0,535000.0,528500.0,431000.0,459500.0,449000.0,433500.0,457000.0,409500.0,502000.0,427500.0,524500.0,422000.0,583500.0,407000.0,450000.0,429000.0,509500.0,500500.0,526000.0,537500.0,464500.0,394000.0,314500.0,417500.0,520500.0,489500.0,426500.0,524000.0,457500.0,506000.0,412000.0,417000.0,409000.0,502500.0,438500.0,576500.0,468000.0,429000.0,432000.0,435500.0,447000.0,552500.0,411000.0,453500.0,477000.0,466000.0,474500.0,539500.0,434500.0,470500.0,442500.0,438500.0,460000.0,535500.0,428500.0,457500.0,491000.0,429500.0,469000.0,415500.0,447000.0,409500.0,457500.0,477000.0,442000.0,424000.0,448000.0,449500.0,417500.0,431000.0,441000.0,478500.0,631000.0,293500.0,473500.0,411000.0,514000.0,445500.0,480500.0,323000.0,471500.0,389000.0,529000.0,426000.0,435000.0,440000.0,413500.0,448000.0,452500.0,468000.0,499500.0,442500.0,502000.0,471500.0,708500.0,423000.0,551000.0,571000.0,433000.0,437000.0,426500.0,490500.0,433500.0,417500.0,424000.0,450500.0,495000.0,408500.0,445000.0,450000.0,415000.0,564000.0,400500.0,479000.0,572000.0,503000.0,441000.0,401500.0,419500.0,435000.0,454500.0,536000.0,397000.0,459500.0,453000.0,507000.0,408000.0,436500.0,440000.0,522000.0,424500.0,481500.0,433500.0,409000.0,435500.0,454500.0,542000.0,475000.0,406500.0,314500.0,477500.0,462000.0,464000.0,461000.0,439500.0,412500.0,475500.0,484500.0,433500.0,496000.0,406500.0,470000.0,409500.0,314000.0,450500.0,532000.0,530500.0,435500.0,435500.0,409000.0,526000.0,528000.0,444000.0,436000.0,468000.0,582500.0,428500.0,443500.0,469000.0,435500.0,393500.0,442000.0,588000.0,430000.0,419000.0,491500.0,609000.0,469500.0,437000.0,451000.0,455000.0,422500.0,552000.0,431000.0,672000.0,435500.0,465000.0,478000.0,430500.0,419500.0,317000.0,483500.0,461000.0,495500.0,452500.0,443000.0,484500.0,440500.0,526000.0,618500.0,433000.0,392000.0,451500.0,377500.0,497500.0,357500.0,416500.0,479500.0,487500.0,305000.0,410500.0,469500.0,479000.0,445500.0,410000.0,464000.0,488000.0,484000.0,487500.0,376500.0,436000.0,438000.0,501000.0,471500.0,411500.0,603500.0,524000.0,615500.0,431500.0,441500.0,403000.0,443500.0,462000.0,635000.0,437000.0,486500.0,415000.0,475000.0,407500.0,315500.0,415000.0,475500.0,515000.0,423500.0,449500.0,427500.0,435000.0,437500.0,438000.0,490500.0,414500.0,542500.0,436000.0,444500.0,498000.0,424500.0,464500.0,302000.0,342000.0,476500.0,464500.0,449500.0,433000.0,461500.0,411000.0,493000.0,446500.0,487000.0,420000.0,533000.0,482500.0,417500.0,404000.0,421000.0,432000.0,592000.0,430500.0,684500.0,594500.0,493000.0,430500.0,430500.0,483000.0,417500.0,449000.0,423500.0,438500.0,628500.0,511000.0,439000.0,462500.0,415000.0,398000.0,453500.0,481500.0,576000.0,432500.0,422500.0,523000.0,393500.0,425500.0,387000.0,497000.0,477500.0,495500.0,420000.0,474000.0,415000.0,498500.0,480500.0,453500.0,437500.0,673000.0,471500.0,491000.0,427000.0,471000.0,476500.0,312500.0,566000.0,530000.0,412000.0,462500.0,439000.0,505500.0,436500.0,570500.0,608000.0,450500.0,396500.0,436000.0,485000.0,540000.0,406500.0,476500.0,411000.0,438000.0,440000.0,430500.0,443500.0,547000.0,423000.0,604500.0,532000.0,412000.0,535500.0,607000.0,544500.0,421500.0,641000.0,385500.0,422500.0,421000.0,502500.0,415000.0,472500.0,414500.0,533000.0,414000.0,443500.0,437000.0,441000.0,501500.0,497500.0,455000.0,418000.0,472000.0,424500.0,576000.0,429500.0,470000.0,411000.0,453000.0,446500.0,504500.0,435000.0,446500.0,501000.0,538000.0,422000.0,673000.0,438000.0,406500.0,455000.0,381500.0,474000.0,480500.0,464500.0,459500.0,436500.0,433000.0,490500.0,441500.0,416500.0,569000.0,454500.0,424000.0,451000.0,472500.0,428500.0,402000.0,604000.0,440500.0,454500.0,403500.0,504500.0,430500.0,435500.0,464500.0,488500.0,439000.0,445500.0,426000.0,504000.0,450500.0,457000.0,531500.0,450000.0,574000.0,544000.0,516500.0,516500.0,664500.0,432000.0,583500.0,397000.0,440500.0,465500.0,444500.0,462500.0,439500.0,542500.0,419000.0,473500.0,464500.0,511500.0,434000.0,460500.0,311500.0,437500.0,449500.0,528500.0,429500.0,459000.0,445000.0,520500.0,505500.0,396000.0,428000.0,453500.0,436500.0,428500.0,584000.0,574000.0,479000.0,511000.0,540500.0,466500.0,442500.0,580500.0,453000.0,618500.0,448500.0,486000.0,602000.0,442000.0,489500.0,476000.0,413000.0,433500.0,422500.0,451500.0,440500.0,519000.0,436500.0,440000.0,444000.0,479000.0,417000.0,544500.0,440500.0,475500.0,435000.0,440500.0,479000.0,509500.0,453500.0,460000.0,431000.0,479000.0,481500.0,462000.0,502000.0,606500.0,574500.0,405500.0,538000.0,434000.0,419000.0,513500.0,439000.0,474000.0,524500.0,525000.0,421000.0,388000.0,445500.0,449500.0,508500.0,420500.0,438000.0,448500.0,435000.0,445500.0,537000.0,516500.0,436500.0,410500.0,419000.0,425500.0,439000.0,310500.0,464000.0,418500.0,451000.0,429500.0,467000.0,435500.0,462000.0,472000.0,451500.0,548500.0,429000.0,579500.0,433500.0,455500.0,582500.0,448500.0,422500.0,428000.0,495000.0,432000.0,456000.0,492500.0,429500.0,414000.0,433500.0,539000.0,523000.0,458500.0,382500.0,442000.0,313500.0,547500.0,468500.0,437500.0,446000.0,459000.0,483500.0,477000.0,477000.0,524500.0,420500.0,428000.0,477000.0,456000.0,419500.0,422000.0,507000.0,436000.0,437500.0,424000.0,430500.0,431500.0,486000.0,425000.0,440000.0,538000.0,460000.0,507000.0,394000.0,437000.0,439000.0,606500.0,441500.0,474000.0,374500.0,533000.0,532500.0,434500.0,587500.0,502500.0,466500.0,478500.0,537500.0,607000.0,457500.0,434000.0,460000.0,603500.0,421500.0,386000.0,326500.0,447000.0,439000.0,443500.0,728000.0,477500.0,409000.0,434500.0,535000.0,441000.0,449000.0,502500.0,448500.0,417500.0,515500.0,534500.0,581000.0,439000.0,406000.0,445000.0,445500.0,446000.0,306500.0,423500.0,501500.0,420500.0,425500.0,459500.0,497000.0,371500.0,303000.0,439500.0,464500.0,647500.0,419500.0,487500.0,478500.0,416500.0,504000.0,539500.0,432000.0,471500.0,446500.0,531500.0,471000.0,451000.0,447000.0,684500.0,423500.0,520000.0,431500.0,445500.0,421500.0,413000.0,513500.0,642500.0,455500.0,434000.0,448500.0,540000.0,447500.0,433500.0,404000.0,410500.0,409000.0,499500.0,460500.0,465000.0,430500.0,427000.0,522000.0,545500.0,597000.0,432500.0,477500.0,603500.0,462500.0,479000.0,420000.0,417500.0,506500.0,467000.0,492500.0,459000.0,415000.0,444000.0,426500.0,508000.0,443500.0,423000.0,540500.0,578500.0,453000.0,429000.0,538500.0,446500.0,458500.0,425000.0,442000.0,465000.0,502500.0,408500.0,428000.0,510000.0,534500.0,406500.0,527500.0,423000.0,413000.0,396500.0,693500.0,436000.0,444000.0,465000.0,469500.0,441500.0,524000.0,446000.0,449000.0,408500.0,446500.0,474500.0,552000.0,495500.0,419500.0,555000.0,446500.0,466000.0,439000.0,462000.0,501000.0,645000.0,445000.0,480000.0,440500.0,449000.0,455000.0,468000.0,461000.0,446000.0,576000.0,452000.0,415000.0,463500.0,438500.0,438000.0,439500.0,530500.0,431000.0,525000.0,419500.0,455500.0,458000.0,552500.0,464000.0,427000.0,419000.0,444500.0,596000.0,404000.0,486000.0,394000.0,529000.0,401500.0,823000.0,545000.0,464500.0,482000.0,414000.0,533500.0,433500.0,405000.0,425500.0,516500.0,423000.0,438500.0,486500.0,461000.0,517500.0,451500.0,424000.0,572000.0,449500.0,419000.0,486500.0,430500.0,455000.0,416000.0,523000.0,436500.0,437000.0,435500.0,409500.0,518500.0,523500.0,442000.0,320000.0,387500.0],\"lat\":[53.476048825243744,53.47604472336965,53.47603283160185,53.47604638730065,53.47604889188216,53.47604877295607,53.47603907914151,53.47604788429193,53.47477783914795,53.47475438495927,53.47564048071936,53.47562807750079,53.47520075091717,53.475463099387376,53.4753543182643,53.475255118149136,53.47277588227044,53.47158429406268,53.47347304780092,53.47068520404128,53.47354789808763,53.47560509309401,53.47440592721394,53.47391668139986,53.474096690711285,53.47155318248124,53.47001903227466,53.47129002156769,53.47299935875965,53.46877096893172,53.4709897364604,53.47355005822918,53.46715518684198,53.47323833579127,53.47137525614121,53.46751197554518,53.46716791090963,53.47239828222138,53.47320464649896,53.4706850703555,53.47095896390421,53.471000870894976,53.46955930956861,53.47183156140213,53.47257898362251,53.47457067371459,53.46925847076544,53.475464035784086,53.46790345493815,53.47366017241704,53.46790126706991,53.47508028011799,53.47036152609806,53.46638719135238,53.47046265565128,53.46996663841051,53.475021774585336,53.47430549135302,53.46926321943072,53.467816294618494,53.47508040039722,53.47205809536626,53.47212145424781,53.46837917440523,53.47062410974978,53.47404412648656,53.47049741509294,53.46955805952336,53.47135629923766,53.46875243979683,53.468359655027314,53.46758618352688,53.47339695272333,53.46790322867029,53.47604894643726,53.4755984660472,53.47604958366743,53.47148718965615,53.468381999185695,53.47014922756644,53.47360937249982,53.47316684601636,53.47334521147827,53.46936894350348,53.47391236792093,53.47440603505595,53.470760420001845,53.47323779802691,53.467348903774514,53.47297797997607,53.47282493583146,53.46908944744528,53.47604914683125,53.46688789803538,53.47171221678878,53.46781397168241,53.47132007332192,53.46875310115052,53.471768598098215,53.47082019558673,53.47019226775552,53.47306071969471,53.47156412753181,53.47257526928677,53.46719912269269,53.47089473501109,53.47157476211846,53.47183173589784,53.46908545800997,53.46784153997056,53.4714002978596,53.468764350943,53.475770359828765,53.47285459909293,53.47072050244906,53.469555855217074,53.47301096078554,53.46795242618007,53.47359087228914,53.47118576225723,53.46925906539332,53.47508048755503,53.47248753158203,53.47444010383138,53.4749236012502,53.46753025742825,53.46925984441116,53.46836392644345,53.46874927871512,53.475464069985165,53.47104663776857,53.47231769483122,53.46695296045501,53.4692656104021,53.46964649549372,53.47522766794629,53.46875650290952,53.47024662800381,53.47014842771152,53.4696641030754,53.46926253885651,53.46955349193433,53.47194314409579,53.47604962828137,53.47527533557029,53.47348389240562,53.46969275483939,53.47457099064974,53.47311989073191,53.47530328073013,53.47358533443328,53.46719978541868,53.46836240121173,53.46875869743104,53.468867428024325,53.473251001824025,53.47359819973376,53.46926910930976,53.46792380121199,53.474054212652064,53.47044623989596,53.471023809224654,53.46877032420001,53.47415446392095,53.47221558706944,53.473166697540286,53.46983803860965,53.46836150362307,53.4683685054232,53.47495777968702,53.47546380641298,53.47457079615987,53.46837994812707,53.47522742908205,53.47275843173453,53.46876102321394,53.470835372357655,53.47431273888054,53.47399594701924,53.47211840006098,53.46926547161855,53.47196304464171,53.4690359216861,53.47259260894757,53.47385026397856,53.472060165805935,53.46692415406601,53.46699667393395,53.47231792507507,53.4701485877312,53.47143504199995,53.47260355663698,53.47485797467388,53.47023771886658,53.469655136849575,53.47212024397133,53.47059002977007,53.47270130959578,53.46660972240926,53.473844757350605,53.467438600885,53.47396008736549,53.470800643403614,53.46996884129066,53.468771774697736,53.471176062499055,53.47508044071516,53.46923374017678,53.47494696964574,53.47057564264419,53.475227664199686,53.46927079279308,53.47329695435744,53.46765929486397,53.470054141861134,53.466487947528,53.47234286052557,53.47236559289601,53.46875419757307,53.46776708482615,53.47474765131919,53.46838146050072,53.47457053422293,53.47120706348064,53.47180989389394,53.47084921812456,53.47566751155464,53.46767081260048,53.46982429999048,53.47316169053634,53.46763817653602,53.472701123579874,53.472742323818,53.47234801082859,53.46876153619388,53.469656090479546,53.47014906960288,53.47527207587847,53.46983530446328,53.46728147420945,53.46926117241093,53.473166755020486,53.46836031351937,53.47138156642473,53.474129657571936,53.47179780198271,53.474828750365965,53.47440612556933,53.47300446179243,53.47416506465783,53.47457086350818,53.47372007851807,53.47197410754106,53.47372929295148,53.47136881371576,53.474942654176985,53.471469217066456,53.469559353157486,53.46784283549919,53.47499872664781,53.47420582688921,53.46969446423341,53.46765388320223,53.469834895180576,53.471852414227946,53.47440171574995,53.472227751945454,53.4740557969549,53.47318564756977,53.47567965025713,53.47234559685033,53.46907950379951,53.47329451623325,53.47401342552632,53.47535552008028,53.4701482638403,53.4702796729609,53.47053126931763,53.47170612447269,53.47444118300424,53.470586416888445,53.47156790933694,53.46765142374536,53.46838084818742,53.47412974571995,53.47182034656181,53.47447414942478,53.46983608773249,53.47231781666691,53.47454894156108,53.4729285192164,53.4703817960866,53.47043763206008,53.47043449454481,53.46866561231334,53.47096510823616,53.47281621129644,53.46699086010032,53.47462147086912,53.47093111494411,53.46784077388835,53.47355023989382,53.47270306178063,53.47012215377266,53.47546399636767,53.4724663201016,53.46875530786687,53.47356321362782,53.47184069134271,53.46923104865449,53.47230526102429,53.47056210699185,53.47508046432679,53.47289093111103,53.47400910419506,53.46875080794256,53.46985293185783,53.46766608102606,53.47279270426228,53.47085398143446,53.4754639552116,53.47457093435505,53.46875015522275,53.467590587346656,53.47149291548012,53.47563217558697,53.46835910969785,53.47125094532502,53.47412568759994,53.46876007751861,53.46836371189612,53.47403632120437,53.467665682134914,53.46693606661502,53.4718244330566,53.469264078305706,53.47604956324095,53.47141420925156,53.4703415906336,53.47499866276977,53.46955296663598,53.47071050233652,53.46674081472475,53.47051547007016,53.46970027902709,53.47604916711056,53.473747595808426,53.46735104753701,53.470069249192434,53.47508033278666,53.475080358037125,53.47276560023968,53.4702420765592,53.4733566590217,53.4745170614988,53.47567952316947,53.47218451521751,53.47249334376085,53.46838012732975,53.47456010909689,53.47043849298706,53.470784568701326,53.473219249931184,53.46956075732928,53.47499138135744,53.47231782590281,53.46784206641668,53.47457070129145,53.46877188336416,53.47050392281019,53.46637993317793,53.46926558533027,53.46836397605655,53.47010357082838,53.475464264087336,53.47320314269885,53.4742277834856,53.467977554714494,53.47201542479918,53.46926181963905,53.46781670252577,53.46970414209299,53.469657506517,53.474570968028445,53.47084882212697,53.46836572101763,53.47287050187828,53.47337102223243,53.47135955993661,53.47355009880486,53.473607951732525,53.47540508107641,53.47289202773697,53.469699177039125,53.47339822765916,53.47604953009788,53.47449126027496,53.46927094571063,53.46882380551809,53.47146151661074,53.47403620608557,53.46836152092966,53.47364033063655,53.47055670486807,53.46768399646373,53.47161563808071,53.474146071023775,53.468759386888486,53.46689631614585,53.4705969741508,53.46926343241047,53.47161475541565,53.47604960973774,53.47040354367964,53.47028834593696,53.47134089221829,53.47508039045984,53.469269723367056,53.47154580612919,53.46837920270546,53.46971713530954,53.46784128354292,53.4737222165503,53.47383804631705,53.47082873577312,53.47496597758391,53.4692692627315,53.468760668327086,53.46735314330993,53.470848305466376,53.47116330839131,53.47193668281229,53.46926010691931,53.47105426709744,53.46997363357133,53.468736785839,53.47302150129997,53.46835462799725,53.47239607582474,53.47424681743978,53.46926550718327,53.46922236888738,53.46679196336489,53.47497129224187,53.47416985226295,53.46996122785775,53.47567968464244,53.47070359511922,53.4712226369038,53.47153186011199,53.47234319200243,53.467901824774046,53.47246255409615,53.46926589059698,53.47354981875307,53.46717488762146,53.46955861466294,53.47546409867737,53.47494672770068,53.472193216929234,53.47021321361372,53.4671826778936,53.4687588708721,53.47485795215736,53.47323832503182,53.47106750859349,53.47355913990738,53.47440287587295,53.46979527595276,53.46970307334817,53.46784017832013,53.46955810149659,53.47095890837583,53.4674024575542,53.46647831742775,53.47000302202991,53.47068603793531,53.4725485031848,53.47183152127662,53.47272593323613,53.47067851053239,53.468753317793016,53.47209758023454,53.47457077567267,53.46782008978501,53.47385353523261,53.4714659813345,53.47604921274975,53.47067938057927,53.46925852194947,53.47567989444819,53.46875555597576,53.46784026244781,53.47202641076984,53.47141675480211,53.468825527385256,53.474400013223416,53.47179440830676,53.47085133029473,53.47514576243961,53.47286630784526,53.47402755930543,53.46783419000997,53.47158424655093,53.474800084749766,53.46766476678344,53.47373517100458,53.46926278319828,53.470549870985096,53.4736227466772,53.46926570849372,53.46935847165646,53.46790075649418,53.46784032060499,53.46997179279147,53.47039958669839,53.47546406103839,53.46836076453682,53.4743783887383,53.47223063413121,53.469204369440064,53.47010492948791,53.47567954988002,53.47106962752004,53.470378790700224,53.469972192599386,53.47231796349229,53.470996824059554,53.4727048936015,53.47273643422741,53.47072094563872,53.470032259876405,53.4700291590659,53.47370230049707,53.47199473017916,53.47485798655714,53.46875021763864,53.47183169043017,53.472701274940526,53.46760224463593,53.47078701930411,53.4713168945523,53.47016861193232,53.46767599381663,53.47546410589466,53.47304412889928,53.46983193066381,53.47026184383877,53.467841027802855,53.46926486885224,53.4714617863801,53.47317636000912,53.46779944658782,53.47267043179786,53.471836276259154,53.47147812480899,53.470959113941824,53.47403450576198,53.46984270651797,53.473987293308575,53.46700445077931,53.47546401194156,53.47091476370755,53.46749699569973,53.4756186692683,53.46881163097186,53.467908999481935,53.4752276237068,53.47389105708049,53.46964655365293,53.470870354448266,53.47334688350666,53.46807616874353,53.47316745661901,53.47010077290079,53.47232229319373,53.47354995803856,53.470959065470666,53.471077646721874,53.47404381253349,53.46646175464175,53.468380667365714,53.47499161370244,53.471356588182445,53.469268357088886,53.474080093901485,53.47345413492693,53.46836217633173,53.46875484823149,53.47010576090306,53.47146245690848,53.46682380696361,53.468739770434325,53.4711456148412,53.4714239599918,53.46795312282676,53.47461872134032,53.4713977759501,53.47468172586378,53.47564238267319,53.46784176909985,53.47109299241806,53.46677867721748,53.46968991159201,53.47025726227589,53.47188506549279,53.47278826628818,53.47317654510005,53.46767126982495,53.47363580342361,53.47508047546296,53.46874949294883,53.47238027570867,53.47120142257581,53.470808224328046,53.470391638211545,53.46936795525488,53.47255521779815,53.46875617766772,53.46906666715526,53.46965210838338,53.46732050282233,53.47513505953996,53.47568319833787,53.47600739376606,53.47357925419127,53.46987606150575,53.47485783197159,53.47427621878548,53.46926117208504,53.46836009151426,53.471089397695934,53.466916340475606,53.47428064387375,53.4703720241674,53.47065746658449,53.47377416871302,53.47293106546272,53.47575525163814,53.4705772532778,53.471787011614246,53.47522780613664,53.46749153699776,53.47316673320671,53.474782088467975,53.47145886620066,53.4750836220487,53.47269616634058,53.470185473409295,53.46988981937977,53.46835899338857,53.46875397834168,53.47354201489882,53.46965635292044,53.4705736410971,53.474406176624974,53.46955770186032,53.46875152129698,53.47188854089094,53.46770269052441,53.46922641476005,53.47263568575221,53.47022783818939,53.46970778362955,53.46926430497293,53.46876136298874,53.46965611080733,53.473601419954456,53.47445671689499,53.46926865944504,53.47272604888759,53.46711049140032,53.47125552273125,53.46836305881477,53.46836348971959,53.47409145783413,53.46875990349204,53.4712641848801,53.46956116152066,53.46790204612861,53.47106449344636,53.47604959469705,53.46797125458813,53.47014321119783,53.47185657413706,53.47115276476545,53.47457094939311,53.47085650069926,53.4698547509047,53.474169315652624,53.468362834851966,53.47390872102464,53.46926941318903,53.47349104700108,53.46835921323581,53.46875199326494,53.468760651929486,53.46923176806371,53.47112271023103,53.47387213742037,53.4675610926373,53.47012756596455,53.47189927112818,53.47146192467346,53.47604954433374,53.47043692767844,53.47141257642932,53.4749825140695,53.46985648919685,53.47011060642692,53.4730262191376,53.47339861721088,53.474857786376845,53.47010868548741,53.4687535429445,53.46681653990171,53.468759562311824,53.47012632795703,53.47445428442565,53.46784238385612,53.47231784694488,53.46875134277574,53.46686831010793,53.47604928272042,53.47164521278768,53.47234323243605,53.4727006651199,53.47162867395581,53.47440017271828,53.46965539066535,53.4690806087869,53.469269564707886,53.4711275545421,53.472305449040974,53.46814996591764,53.47183343529312,53.471798302690814,53.46783746166737,53.4748221171942,53.472770910348366,53.47520843592955,53.47123696375044,53.46982971051517,53.472305304785976,53.47038279532016,53.47292597376602,53.4687507890905,53.46733667611556,53.47298946529816,53.47305631084408,53.470582516117815,53.474559490580845,53.47384484093002,53.47064631957617,53.47068168512823,53.474689027493234,53.4754639678084,53.47487637837315,53.46927069789135,53.47183148048581,53.46775774922801,53.47242656330005,53.47546409108278,53.46659888335938,53.47025987296155,53.4687497110257,53.47428289356864,53.469646764592895,53.47116826592774,53.47231777195905,53.475412818628186,53.46926594263871,53.47462746907302,53.46886659458877,53.47057952165253,53.46926159771431,53.47336204650053,53.474570889789696,53.47029335871677,53.46956167501863,53.467347502858686,53.46837939516286,53.47275486657303,53.47485790788479,53.46874532307122,53.46772007044063,53.473128156512665,53.47098610672999,53.475404194830034,53.46778879543034,53.47390504339211,53.4710847155649,53.47303395789987,53.47146155141633,53.46982686700225,53.4714619174897,53.47418746627134,53.47323101872853,53.46836174858362,53.46834953983429,53.4744060956892,53.468764342492754,53.46664773056665,53.47077193361864,53.46838031747152,53.47316661595506,53.47418089613713,53.470618494198185,53.47213499425291,53.46956111539389,53.4742489325718,53.475080380081856,53.47057182186386,53.473199786203374,53.468755763355965,53.4708856742984,53.47319522055625,53.47561753514688,53.47601365105877,53.471797271874365,53.46936322871783,53.47077794659272,53.472335104605406,53.46776597915473,53.46718493256382,53.470999062444285,53.46969931743611,53.46749411299911,53.47189607730102,53.47131244368022,53.473977340896646,53.46833618873277,53.47266098915999,53.4707114127968,53.47134952117096,53.47567995605483,53.46984276683912,53.46836052566629,53.469560244847,53.473987205245166,53.47567991888214,53.47057539813342,53.4716812909636,53.46637196225385,53.469716988688255,53.47508044965156,53.475139051325954,53.47014874766198,53.4756798518622,53.472930605208056,53.47546392820781,53.47328543962842,53.473615740240376,53.47133164026396,53.47095880826969,53.47457082068278,53.4692685082447,53.468363274295285,53.46727682058028,53.46875904320535,53.466850615533104,53.47372714867789,53.46876450654776,53.46837958203732,53.47014818814643,53.47141067309935,53.4702191384044,53.470956264430285,53.473166772899,53.47066952169649,53.47002936073484,53.46906362442537,53.47143196658247,53.474386787135685,53.475679708729,53.46732920473996,53.46876469120015,53.46867060603502,53.47010908528896,53.470375108463074,53.47369946438133,53.46996830835221,53.47393184524131,53.47345736167421,53.47344849089854,53.470530345461455,53.47437865950184,53.47003214710075,53.46683559087856,53.47233003690541,53.4748097873178,53.46838050379048,53.46793796638499,53.47326364637939,53.46711395659436,53.47023509178743,53.47024597797237,53.47010990512101,53.47366617510125,53.47251801738222,53.47252080553896,53.473130981371085,53.47174959874736,53.46875973315819,53.46759662907699,53.46969501104813,53.47358532460631,53.47183178316624,53.46875463010694,53.47098070048999,53.47041811140058,53.46926038134836,53.46875177376208,53.47143921137428,53.47024757406453,53.4677911362878,53.47508048172931,53.46751240851042,53.46992545617574,53.47024185809033,53.472010876200606,53.47086808859855,53.47522776816447,53.46925878314338,53.47266746744698,53.46966195435446,53.47208135802005,53.47457072288688,53.46735678516656,53.47555296901234,53.46876119738387,53.46926619129484,53.46987307431238,53.46875058366508,53.47604946119452,53.4683598694534,53.4717981392153,53.46715873184247,53.47410783833012,53.47018524471385,53.46965626244824,53.46643584522694,53.470648636173856,53.47308380049376,53.46926880564922,53.47138291484475,53.47355088262912,53.474036246557375,53.47141118832021,53.47604908089208,53.46926365382891,53.47151283262381,53.46875287549484,53.46926461226313,53.47403565378173,53.46927012961377,53.473166893359,53.47225888758645,53.46936336479399,53.4687526578989,53.47231800154497,53.47604901412428,53.47065792954909,53.4756795855585,53.4677470122594,53.46956281019986,53.47377276200632,53.47485802994829,53.47270123572657,53.469719985764605,53.46987617471397,53.47433670992746,53.473559849456535,53.47158758567383,53.47085355299233,53.47241327967287,53.468381211495206,53.47149958820724,53.47420009583558,53.47069731575312,53.47440599079506,53.47024266703076,53.46972549287664,53.47000535115279,53.474983136332646,53.47286789420344],\"legendgroup\":\"\",\"lon\":[-113.53718479265814,-113.5314582622399,-113.53116714475053,-113.53160341066878,-113.53188256193664,-113.53732863670132,-113.53131444328184,-113.53174131654087,-113.52852071435854,-113.52839385803608,-113.53077107881006,-113.53057860100736,-113.531761411278,-113.53169082640402,-113.53168213858947,-113.5314933720216,-113.51729684969128,-113.52406748194372,-113.52865037498904,-113.5246633612296,-113.52909191714492,-113.53021790944148,-113.53721173184256,-113.53310287261836,-113.53326857805664,-113.5312144427097,-113.52607810078828,-113.51948382733634,-113.53809671309888,-113.5173756871923,-113.5187612242126,-113.53693426636042,-113.51925782027013,-113.51831263856496,-113.52700858730408,-113.52043000524463,-113.52247235761918,-113.52818728151732,-113.52100418132166,-113.5315257601272,-113.5365849595506,-113.51811948874236,-113.52906906601534,-113.53672439574014,-113.51965235118784,-113.52241801389202,-113.53740417548724,-113.519699064384,-113.53071546271374,-113.5297542159666,-113.5196711970318,-113.5202382079863,-113.5216985373679,-113.51868196002486,-113.5256865613654,-113.52671991668934,-113.51749956224585,-113.52727585111175,-113.53219228892152,-113.52172671248503,-113.52069715760038,-113.5205876525002,-113.52012231795878,-113.521832907214,-113.53053890442304,-113.53067874568428,-113.53727775652794,-113.5381289037021,-113.51730127681404,-113.53364579673932,-113.53635261688804,-113.52360378113364,-113.5195982832464,-113.52970714424166,-113.5367682046108,-113.53103282014014,-113.53365476295308,-113.53471338290773,-113.5226865939686,-113.51971081796218,-113.52760728636902,-113.5357834724742,-113.53147083317444,-113.51958514164096,-113.51896875374896,-113.53652328961674,-113.52352565319134,-113.52186181944852,-113.52760550424036,-113.5311239393482,-113.52156947911602,-113.52758785916768,-113.53607971292722,-113.52410655061162,-113.52902080500245,-113.5321357319336,-113.52936199460508,-113.5329297653458,-113.5227245584963,-113.5296032488268,-113.5352841664047,-113.51729724513233,-113.5203774581822,-113.53431853950892,-113.5217572084882,-113.52244824176456,-113.5276883779406,-113.53571466064544,-113.52169611834532,-113.5355525754586,-113.53029596254603,-113.51804627987498,-113.53254411905714,-113.53037619784672,-113.5344646666212,-113.52671962343128,-113.53397584058254,-113.5225249951932,-113.53809110569932,-113.52030778506725,-113.5365551631278,-113.51854009277254,-113.52032351576304,-113.53431766329446,-113.5310023308247,-113.52635634913742,-113.53574047638196,-113.53181368302464,-113.53713157803593,-113.5204678411779,-113.53271723441152,-113.53716609984376,-113.51795877271452,-113.5295735343071,-113.53251747625892,-113.53628463148208,-113.52893016955794,-113.51729157158134,-113.5209500447118,-113.52486325585512,-113.53314729537593,-113.53666706775282,-113.5343269525987,-113.532911111757,-113.53807513095336,-113.53236414477249,-113.53123533354945,-113.51870060028092,-113.53224042719908,-113.53465033976735,-113.52042690629864,-113.5255705164568,-113.53344064798954,-113.52665248950464,-113.52019338597182,-113.5341968274972,-113.52255543199888,-113.52545693764488,-113.52823561491748,-113.52972786410406,-113.52755660943748,-113.5243472007404,-113.5194968777774,-113.53502868230782,-113.519430932679,-113.53670144709812,-113.52821580628762,-113.53462243524764,-113.52323736929914,-113.53074657320155,-113.51745837165262,-113.52095858570782,-113.52047897296458,-113.53744313564428,-113.53446582131012,-113.5234171131642,-113.52737260522755,-113.53160840597388,-113.51734785412988,-113.52905673481196,-113.51862139551709,-113.52128564882229,-113.53815037400686,-113.52883092772244,-113.52852457387868,-113.531064845866,-113.52010273277736,-113.5250903200827,-113.53578917661706,-113.52070220162936,-113.52132602757432,-113.53810046559524,-113.53531661635546,-113.52971274246636,-113.52155957643458,-113.53812088991994,-113.53381916522294,-113.53567297369878,-113.52197223532214,-113.5219130291003,-113.51773363983598,-113.53387588620308,-113.52611907034624,-113.52319426316018,-113.52025455311907,-113.52322867561696,-113.5199167037847,-113.5172897685852,-113.52951769380148,-113.53576245378676,-113.53535373190152,-113.52287181613588,-113.53324330880449,-113.51847074385245,-113.53447102235138,-113.52102971080352,-113.53038130204465,-113.52121842197246,-113.53173636861344,-113.52439483330888,-113.53161597018956,-113.5182387797751,-113.52177551323382,-113.53182926586716,-113.53344255604765,-113.51729209450332,-113.5332927057322,-113.5204302984272,-113.53383049267931,-113.51908685923595,-113.52906413912284,-113.5369065074648,-113.52971393328576,-113.53337795700826,-113.52267365532644,-113.52037735409247,-113.5199586610393,-113.52255597234183,-113.51811751667373,-113.52336185468612,-113.53438663558528,-113.53740882709936,-113.5356573471625,-113.52552162249516,-113.5219130917171,-113.51782199581343,-113.53395424417036,-113.535834761703,-113.52890920263052,-113.52031353524325,-113.52018757665137,-113.53365500251738,-113.53055704407274,-113.53465539116316,-113.51896979382371,-113.53242085532304,-113.5375200466506,-113.5305379073758,-113.53416884051286,-113.5302062153298,-113.51870431334642,-113.52401992442798,-113.5251313456788,-113.51876007937248,-113.52214407446824,-113.52789811095178,-113.53200487411044,-113.53243300255504,-113.5350392751201,-113.5360783377882,-113.53480415371486,-113.52020455299012,-113.52253983637182,-113.52948721113712,-113.53254099399432,-113.52120221324226,-113.52757400328323,-113.53254755119384,-113.52317264233794,-113.53804640310015,-113.52668163738504,-113.5322150710342,-113.52974147091268,-113.51914338700796,-113.52108698678448,-113.53770288053695,-113.52908093170896,-113.51729083724344,-113.53647764155764,-113.52952226723738,-113.52079831687868,-113.53667528976332,-113.51811853820128,-113.51876109417098,-113.52821444000374,-113.52953430920796,-113.53282279209792,-113.51878644496232,-113.53025652122538,-113.5217022928067,-113.53633736607912,-113.53601627482692,-113.5187576466926,-113.52906991113213,-113.51896471146352,-113.53110982285172,-113.5306970991112,-113.53078697957262,-113.53500521394234,-113.52105476026615,-113.51874702077592,-113.53446626285944,-113.5192285116312,-113.53386534439154,-113.522555538119,-113.53517159616666,-113.5225515175221,-113.52121398147898,-113.52799610000764,-113.52891611728532,-113.51823494733203,-113.51941655171235,-113.53616120556552,-113.52685636914993,-113.52473860305402,-113.53169072417566,-113.53727965004856,-113.53342947806938,-113.51961098559924,-113.52474341160746,-113.53204545016824,-113.53620975409642,-113.52172642291252,-113.5247348911252,-113.52967393734409,-113.53125593261264,-113.53415513215668,-113.51802059748336,-113.53812164505858,-113.52992362792408,-113.52971194576168,-113.51958786396456,-113.52297429372496,-113.52075599864668,-113.5275731629447,-113.53536833315722,-113.5315594451804,-113.52823481979723,-113.53300196243931,-113.52207377699892,-113.52161506676951,-113.52235486338384,-113.52402085357308,-113.5210468799384,-113.5310072402674,-113.5369964115862,-113.5196592167226,-113.53133070600715,-113.52021276677183,-113.53442904691468,-113.517292189871,-113.52328070204912,-113.53047480403696,-113.535290142809,-113.52255583265212,-113.5374156744347,-113.53503354303244,-113.52205088494742,-113.52102480976691,-113.52169878889364,-113.51900944527848,-113.52984893097536,-113.53157181922371,-113.52672010274118,-113.52207423718406,-113.51729744995592,-113.52731285761378,-113.51840528129888,-113.53413318885303,-113.53368668322496,-113.52121427741888,-113.53666564770684,-113.53148008956023,-113.51893925331468,-113.53332064266831,-113.5175000336684,-113.53456201611084,-113.5343073331835,-113.5300675417632,-113.53670476909856,-113.5187763169207,-113.53115246819286,-113.53059695945824,-113.5172905977053,-113.52821802096614,-113.5347883061317,-113.51743173477394,-113.52264234506866,-113.51958460530236,-113.53676235814623,-113.53689828456471,-113.53437001404924,-113.518932705369,-113.52022563327893,-113.5263437969268,-113.53406441202178,-113.52255558078215,-113.5256979743169,-113.5198305374305,-113.53231288730764,-113.53195821116562,-113.52384376645972,-113.53315899728936,-113.52597859684172,-113.52255223432375,-113.52676522835615,-113.52092663281776,-113.5245108229604,-113.53245845076437,-113.52155754702288,-113.53812743124688,-113.53581417435768,-113.52045241120815,-113.53128342001006,-113.51876174947496,-113.52964841124378,-113.52522747489856,-113.52391275259716,-113.52042968263996,-113.51811923335802,-113.5205335379727,-113.53033627215018,-113.53546510659656,-113.52412349597876,-113.52821602629548,-113.53768906742424,-113.52012652664833,-113.52351275423256,-113.5209946925353,-113.5318095597,-113.51889676753568,-113.52169640896564,-113.51803340075551,-113.53061732801234,-113.5279962680037,-113.53382917904928,-113.5358488215633,-113.5274353170106,-113.52875588714126,-113.52061460065256,-113.51715812647784,-113.51914313085368,-113.53419165863733,-113.51797919748005,-113.53216297287882,-113.5212406185836,-113.528215697038,-113.52115629346858,-113.5380782137744,-113.52949826249258,-113.53224817583217,-113.51982322684448,-113.52641389534048,-113.53628443781838,-113.51801354846654,-113.53407961761206,-113.5350173007454,-113.52861724721716,-113.52605998834616,-113.5290692849215,-113.53712215403804,-113.52319382875784,-113.5368557444872,-113.52251813519064,-113.52070123919852,-113.53053859300188,-113.53176346914836,-113.51987607575674,-113.53695389878663,-113.51801235650748,-113.53527957481587,-113.53269108573676,-113.5312856267072,-113.52122446659988,-113.532390426532,-113.51732394530907,-113.53494048661562,-113.53585021620526,-113.5296700243698,-113.53711733736765,-113.5341573549408,-113.5302381151854,-113.53686057210302,-113.52082032382393,-113.52775144804964,-113.5172898489227,-113.53744122453504,-113.51856730394708,-113.52266231631036,-113.53465060396888,-113.53222469890676,-113.5380021552438,-113.53315233912136,-113.5314362398486,-113.52865228665009,-113.52387336431414,-113.5225554595578,-113.53266046712282,-113.52105171317412,-113.5295334435434,-113.51825421865829,-113.52821515816728,-113.52053375635256,-113.52394604289093,-113.51876030947815,-113.52821497746264,-113.52023835732082,-113.53517355334216,-113.5327201243984,-113.52971901250676,-113.53813318016186,-113.52466276467904,-113.53676689470184,-113.5210597643738,-113.52466323728268,-113.51811773578268,-113.53555969279192,-113.5342822982972,-113.529493187545,-113.53809921632627,-113.52898449056912,-113.53528568680944,-113.53728217103212,-113.52191299824008,-113.52105298646974,-113.53605494109158,-113.5359153967402,-113.53596705001338,-113.53591968088188,-113.51765778752916,-113.52636539303708,-113.53322806739938,-113.53666554492185,-113.51899867068803,-113.52138578562094,-113.52914319471044,-113.52319402796864,-113.529070054641,-113.53607806534342,-113.53040009084437,-113.53574271910507,-113.5331545187478,-113.53162856009632,-113.51898116191092,-113.53803134816724,-113.53075517561508,-113.53577033371609,-113.53493295597748,-113.52757336602956,-113.5210869428314,-113.52127720937492,-113.51920796614834,-113.5331195064222,-113.5250797169192,-113.53318177127584,-113.52169556652876,-113.52759012239746,-113.53651413859272,-113.5287652241908,-113.53228339810096,-113.5381167311546,-113.5172976533797,-113.53806090774816,-113.52250449618757,-113.52971253262628,-113.51850561694812,-113.5374086482295,-113.53604338675753,-113.52792173147506,-113.53762123506723,-113.52042921665632,-113.5194074810762,-113.53398885408782,-113.52574528269194,-113.52660423383348,-113.53398633422538,-113.53809240372463,-113.53367472089668,-113.53102213012896,-113.5231944990028,-113.52496230893286,-113.51888154622036,-113.52063740788311,-113.52345238155428,-113.51772600844087,-113.52302683466316,-113.52996198478073,-113.51874604529196,-113.5318171342932,-113.53804225864316,-113.53391413688703,-113.52172370885208,-113.52326576828617,-113.52971189582644,-113.53126962137353,-113.52185836740236,-113.52181691302049,-113.53532460216836,-113.5198507816539,-113.53058574637475,-113.51899902809862,-113.53688837222064,-113.53060206868686,-113.53151091918528,-113.52805333854675,-113.5240363042619,-113.52105387115006,-113.52861936155008,-113.52954981301563,-113.51727474250032,-113.52525519390264,-113.52366229124512,-113.52255590163615,-113.53779983372507,-113.53056006829752,-113.51959690973932,-113.5359067557774,-113.53697293720585,-113.5219128896688,-113.53462762213604,-113.53588911355862,-113.53081357282026,-113.524431821259,-113.51739567443346,-113.53382527560476,-113.53727624386732,-113.528043182079,-113.5279424983416,-113.5316907736846,-113.53601485604486,-113.52945316015244,-113.53559611760583,-113.5185438672003,-113.5364719587334,-113.53295760888342,-113.53787596868328,-113.5176386138368,-113.53271222527113,-113.53812308394508,-113.5344725621442,-113.53704788660652,-113.53197504751718,-113.5210671499485,-113.51943681439164,-113.51958762251262,-113.53554734134455,-113.52401968491668,-113.53461883174847,-113.53296489652304,-113.5306731672734,-113.52757334277564,-113.52230268284436,-113.53300045203012,-113.52255127593868,-113.53102187155488,-113.522921467105,-113.52013675575382,-113.53353336946196,-113.53359999063056,-113.52614532950984,-113.51826479098152,-113.52573330653908,-113.51972317047206,-113.53274304907484,-113.53227951554376,-113.53045712374843,-113.52498203668172,-113.52253525201716,-113.53447567947472,-113.51884517125916,-113.52881887217808,-113.53340687600232,-113.52121458334162,-113.52255199259334,-113.53476909814908,-113.53238463710068,-113.5191778987696,-113.53527787749458,-113.5366642258388,-113.51978975979884,-113.532977121986,-113.5310677374641,-113.52499342104802,-113.5344178319122,-113.53681614284687,-113.53412316358929,-113.52416515894866,-113.52022759872447,-113.53384158915335,-113.52255550976156,-113.52823473395723,-113.52757376762668,-113.53011549369224,-113.53519204485968,-113.53451318354084,-113.51958738164934,-113.51850208137142,-113.5304851015859,-113.5305383733353,-113.5282162152083,-113.53464653186508,-113.52770762394518,-113.53720243479734,-113.51876054716848,-113.53245240602948,-113.52355724411314,-113.52545934095698,-113.53120673938628,-113.53251114551826,-113.5346760027844,-113.53624815105132,-113.53804955600094,-113.51955914775692,-113.5356207194362,-113.5236200589813,-113.51743332182902,-113.53509163199357,-113.51990316449329,-113.53778402517112,-113.52119239924691,-113.52821476126152,-113.52475477830724,-113.5310387387782,-113.53016055156216,-113.517467030934,-113.53525568201675,-113.51713323829772,-113.53340698914002,-113.5287824809831,-113.53375485625465,-113.53252430585071,-113.52278126421436,-113.52671973886892,-113.53223796924264,-113.53446793584811,-113.53086198899166,-113.5354289104547,-113.51862617574626,-113.52035090333038,-113.53304394332493,-113.53637052026858,-113.53078411589291,-113.52108690791242,-113.5216990547252,-113.53202133534222,-113.5345262225902,-113.51847820958884,-113.53123627774976,-113.52334229359488,-113.53718334385216,-113.52684989215022,-113.52077096874856,-113.52092681713393,-113.51811277536798,-113.52672032933997,-113.53664512644936,-113.52255561000024,-113.53205391620966,-113.53126338675648,-113.5367071164042,-113.53316664235042,-113.52920632815834,-113.51744166238488,-113.52108709935332,-113.52904235801998,-113.53392763004511,-113.53276636923832,-113.51989385022252,-113.53053906093838,-113.51811672286892,-113.52121842558408,-113.52128675945328,-113.5320381793354,-113.53651393540332,-113.52722875402388,-113.5230253171626,-113.51933297105202,-113.51729143288416,-113.53097126663862,-113.52906458938529,-113.52047794660096,-113.5238997909998,-113.52245755045529,-113.53701481446603,-113.5297121055662,-113.53598366697332,-113.51807612564342,-113.53198061689368,-113.53413826262104,-113.53799704015468,-113.5360642710069,-113.518826429272,-113.52240339725152,-113.52018673017469,-113.51994428639168,-113.53716043824006,-113.53201072032984,-113.52402848364116,-113.53150640718596,-113.5187598840458,-113.52797087774503,-113.52115610803776,-113.5274980223339,-113.5300792187067,-113.53000861476666,-113.52537870952308,-113.51883987876754,-113.53038238909905,-113.53071126175873,-113.5182926116887,-113.52169670187624,-113.53352183163656,-113.52144215114704,-113.51759864468562,-113.52043503326466,-113.53023734082852,-113.5259948786756,-113.51903929470564,-113.53809850138155,-113.52653680775528,-113.53808350733868,-113.52378580830828,-113.52805880380748,-113.51811899924805,-113.52194358287854,-113.53722591518334,-113.52906949692276,-113.5354255876464,-113.53590977616666,-113.52191306758944,-113.53390501208554,-113.5172921726802,-113.5338668098114,-113.5192979108342,-113.53728512123944,-113.51968746203492,-113.53400625353294,-113.5204543525192,-113.5345130879037,-113.52844115001405,-113.51774845370988,-113.53167764882336,-113.53196179363492,-113.52596921714982,-113.53739957411732,-113.52070158844252,-113.52637477715574,-113.53251128946476,-113.52714423397418,-113.52617525525096,-113.51926096863912,-113.51958903548928,-113.5185971911765,-113.521015965164,-113.5305388315136,-113.53810103292592,-113.52169829477586,-113.52478035139129,-113.53624246354448,-113.52109683171534,-113.5381245385817,-113.51960074968132,-113.52517812811492,-113.5352815848374,-113.53561931222649,-113.52507802219549,-113.52750626102574,-113.52169556085916,-113.51811797065236,-113.5329638072731,-113.517305701928,-113.52402038481324,-113.52900588405367,-113.52255538834387,-113.52040777074468,-113.52971213121768,-113.53140724409992,-113.53590527222156,-113.52179766314389,-113.51825899240238,-113.538079636871,-113.51967545213942,-113.51754136783832,-113.53809418599252,-113.51788414411536,-113.53382658178724,-113.5181182047678,-113.5172913299159,-113.5180170953268,-113.5200997993102,-113.5316059240696,-113.53408633749407,-113.52923238249902,-113.52522069333668,-113.5225194861186,-113.5231937928766,-113.52931267974988,-113.53548518009876,-113.53125900935088,-113.53291837863948,-113.52906140067113,-113.53517829461626,-113.53436184320076,-113.5305255801671,-113.52821610748272,-113.53137381231076,-113.51876956043424,-113.51990550996015,-113.52467461876488,-113.52466300514553,-113.53305522762714,-113.53443783368994,-113.53582562540912,-113.53684196913514,-113.52927243612098,-113.52568943169476,-113.5339317487181,-113.51817030597292,-113.52398522201688,-113.52255578293556,-113.52316928557086,-113.5289312640961,-113.53728364199657,-113.53567477506608,-113.53240408807967,-113.53612086564377,-113.51736282184228,-113.52631245252311,-113.5302083978804,-113.53728070004368,-113.51990726677278,-113.52015730650524,-113.5310074233847,-113.52937718792764,-113.5259158661025,-113.53304366526832,-113.53528645146235,-113.5366687771497,-113.51739575485368,-113.53630920211516,-113.53172411072174,-113.5344856987878,-113.53316844504891,-113.53067513989988,-113.53541755825351,-113.52388184364892,-113.5355540894035,-113.52200145455528,-113.5275724131604,-113.53340712465877,-113.53533022854798,-113.53653870712508,-113.53811867072191,-113.53653737093916,-113.52762593270538,-113.52255103992238,-113.53299267316868,-113.53582544351102,-113.53616638660566,-113.53590823243417,-113.53528716510354,-113.53348952164284,-113.52191217505975,-113.53168413771812,-113.5256052428995,-113.53810224471792,-113.51860868539012,-113.52085175034168,-113.53409678141252,-113.51876154100243,-113.53675279153872,-113.52319473424228,-113.5344741087425,-113.53666279802646,-113.52978399931251,-113.53809795306984],\"marker\":{\"color\":[295500,312500,293500,285500,313000,293500,344500,309000,316000,303000,355000,328500,344500,323000,327500,356500,372500,443000,449000,423500,572500,343000,442000,549000,471500,398000,444500,394000,422500,427500,428000,445500,598500,456500,474500,581000,544500,518500,437500,493000,453500,457500,464000,463000,454000,473500,527000,447500,503500,458000,522000,381500,417500,477500,441000,465500,425000,298500,448500,461500,420000,449500,434000,607500,483000,454500,445000,445000,412500,450000,486000,579000,474000,492000,398500,359500,437500,444500,538000,442500,497000,439000,453500,468000,422500,422500,429500,457500,572500,569500,491000,497500,419500,472000,447000,485500,454000,427500,443500,410000,485000,391000,449500,524500,507500,457500,500500,456000,413500,462500,434000,404000,433000,488000,540500,523000,436500,488500,417000,424000,463000,489000,455500,452000,335000,427000,537000,419500,445500,389000,464000,557000,483500,474500,426000,548500,429000,401000,524500,574500,437500,463500,420000,515000,377000,419000,545500,427000,480500,452500,444500,484500,416000,429500,473000,438000,430500,407000,559000,430000,470000,421000,513000,455000,425000,458500,408000,529000,470000,302000,449000,451000,552500,464500,407000,417000,495500,535000,400500,510500,464000,422000,441000,408000,416500,433000,535000,528500,431000,459500,449000,433500,457000,409500,502000,427500,524500,422000,583500,407000,450000,429000,509500,500500,526000,537500,464500,394000,314500,417500,520500,489500,426500,524000,457500,506000,412000,417000,409000,502500,438500,576500,468000,429000,432000,435500,447000,552500,411000,453500,477000,466000,474500,539500,434500,470500,442500,438500,460000,535500,428500,457500,491000,429500,469000,415500,447000,409500,457500,477000,442000,424000,448000,449500,417500,431000,441000,478500,631000,293500,473500,411000,514000,445500,480500,323000,471500,389000,529000,426000,435000,440000,413500,448000,452500,468000,499500,442500,502000,471500,708500,423000,551000,571000,433000,437000,426500,490500,433500,417500,424000,450500,495000,408500,445000,450000,415000,564000,400500,479000,572000,503000,441000,401500,419500,435000,454500,536000,397000,459500,453000,507000,408000,436500,440000,522000,424500,481500,433500,409000,435500,454500,542000,475000,406500,314500,477500,462000,464000,461000,439500,412500,475500,484500,433500,496000,406500,470000,409500,314000,450500,532000,530500,435500,435500,409000,526000,528000,444000,436000,468000,582500,428500,443500,469000,435500,393500,442000,588000,430000,419000,491500,609000,469500,437000,451000,455000,422500,552000,431000,672000,435500,465000,478000,430500,419500,317000,483500,461000,495500,452500,443000,484500,440500,526000,618500,433000,392000,451500,377500,497500,357500,416500,479500,487500,305000,410500,469500,479000,445500,410000,464000,488000,484000,487500,376500,436000,438000,501000,471500,411500,603500,524000,615500,431500,441500,403000,443500,462000,635000,437000,486500,415000,475000,407500,315500,415000,475500,515000,423500,449500,427500,435000,437500,438000,490500,414500,542500,436000,444500,498000,424500,464500,302000,342000,476500,464500,449500,433000,461500,411000,493000,446500,487000,420000,533000,482500,417500,404000,421000,432000,592000,430500,684500,594500,493000,430500,430500,483000,417500,449000,423500,438500,628500,511000,439000,462500,415000,398000,453500,481500,576000,432500,422500,523000,393500,425500,387000,497000,477500,495500,420000,474000,415000,498500,480500,453500,437500,673000,471500,491000,427000,471000,476500,312500,566000,530000,412000,462500,439000,505500,436500,570500,608000,450500,396500,436000,485000,540000,406500,476500,411000,438000,440000,430500,443500,547000,423000,604500,532000,412000,535500,607000,544500,421500,641000,385500,422500,421000,502500,415000,472500,414500,533000,414000,443500,437000,441000,501500,497500,455000,418000,472000,424500,576000,429500,470000,411000,453000,446500,504500,435000,446500,501000,538000,422000,673000,438000,406500,455000,381500,474000,480500,464500,459500,436500,433000,490500,441500,416500,569000,454500,424000,451000,472500,428500,402000,604000,440500,454500,403500,504500,430500,435500,464500,488500,439000,445500,426000,504000,450500,457000,531500,450000,574000,544000,516500,516500,664500,432000,583500,397000,440500,465500,444500,462500,439500,542500,419000,473500,464500,511500,434000,460500,311500,437500,449500,528500,429500,459000,445000,520500,505500,396000,428000,453500,436500,428500,584000,574000,479000,511000,540500,466500,442500,580500,453000,618500,448500,486000,602000,442000,489500,476000,413000,433500,422500,451500,440500,519000,436500,440000,444000,479000,417000,544500,440500,475500,435000,440500,479000,509500,453500,460000,431000,479000,481500,462000,502000,606500,574500,405500,538000,434000,419000,513500,439000,474000,524500,525000,421000,388000,445500,449500,508500,420500,438000,448500,435000,445500,537000,516500,436500,410500,419000,425500,439000,310500,464000,418500,451000,429500,467000,435500,462000,472000,451500,548500,429000,579500,433500,455500,582500,448500,422500,428000,495000,432000,456000,492500,429500,414000,433500,539000,523000,458500,382500,442000,313500,547500,468500,437500,446000,459000,483500,477000,477000,524500,420500,428000,477000,456000,419500,422000,507000,436000,437500,424000,430500,431500,486000,425000,440000,538000,460000,507000,394000,437000,439000,606500,441500,474000,374500,533000,532500,434500,587500,502500,466500,478500,537500,607000,457500,434000,460000,603500,421500,386000,326500,447000,439000,443500,728000,477500,409000,434500,535000,441000,449000,502500,448500,417500,515500,534500,581000,439000,406000,445000,445500,446000,306500,423500,501500,420500,425500,459500,497000,371500,303000,439500,464500,647500,419500,487500,478500,416500,504000,539500,432000,471500,446500,531500,471000,451000,447000,684500,423500,520000,431500,445500,421500,413000,513500,642500,455500,434000,448500,540000,447500,433500,404000,410500,409000,499500,460500,465000,430500,427000,522000,545500,597000,432500,477500,603500,462500,479000,420000,417500,506500,467000,492500,459000,415000,444000,426500,508000,443500,423000,540500,578500,453000,429000,538500,446500,458500,425000,442000,465000,502500,408500,428000,510000,534500,406500,527500,423000,413000,396500,693500,436000,444000,465000,469500,441500,524000,446000,449000,408500,446500,474500,552000,495500,419500,555000,446500,466000,439000,462000,501000,645000,445000,480000,440500,449000,455000,468000,461000,446000,576000,452000,415000,463500,438500,438000,439500,530500,431000,525000,419500,455500,458000,552500,464000,427000,419000,444500,596000,404000,486000,394000,529000,401500,823000,545000,464500,482000,414000,533500,433500,405000,425500,516500,423000,438500,486500,461000,517500,451500,424000,572000,449500,419000,486500,430500,455000,416000,523000,436500,437000,435500,409500,518500,523500,442000,320000,387500],\"coloraxis\":\"coloraxis\"},\"mode\":\"markers\",\"name\":\"\",\"showlegend\":false,\"subplot\":\"mapbox\",\"type\":\"scattermapbox\"}],                        {\"template\":{\"data\":{\"histogram2dcontour\":[{\"type\":\"histogram2dcontour\",\"colorbar\":{\"outlinewidth\":0,\"ticks\":\"\"},\"colorscale\":[[0.0,\"#0d0887\"],[0.1111111111111111,\"#46039f\"],[0.2222222222222222,\"#7201a8\"],[0.3333333333333333,\"#9c179e\"],[0.4444444444444444,\"#bd3786\"],[0.5555555555555556,\"#d8576b\"],[0.6666666666666666,\"#ed7953\"],[0.7777777777777778,\"#fb9f3a\"],[0.8888888888888888,\"#fdca26\"],[1.0,\"#f0f921\"]]}],\"choropleth\":[{\"type\":\"choropleth\",\"colorbar\":{\"outlinewidth\":0,\"ticks\":\"\"}}],\"histogram2d\":[{\"type\":\"histogram2d\",\"colorbar\":{\"outlinewidth\":0,\"ticks\":\"\"},\"colorscale\":[[0.0,\"#0d0887\"],[0.1111111111111111,\"#46039f\"],[0.2222222222222222,\"#7201a8\"],[0.3333333333333333,\"#9c179e\"],[0.4444444444444444,\"#bd3786\"],[0.5555555555555556,\"#d8576b\"],[0.6666666666666666,\"#ed7953\"],[0.7777777777777778,\"#fb9f3a\"],[0.8888888888888888,\"#fdca26\"],[1.0,\"#f0f921\"]]}],\"heatmap\":[{\"type\":\"heatmap\",\"colorbar\":{\"outlinewidth\":0,\"ticks\":\"\"},\"colorscale\":[[0.0,\"#0d0887\"],[0.1111111111111111,\"#46039f\"],[0.2222222222222222,\"#7201a8\"],[0.3333333333333333,\"#9c179e\"],[0.4444444444444444,\"#bd3786\"],[0.5555555555555556,\"#d8576b\"],[0.6666666666666666,\"#ed7953\"],[0.7777777777777778,\"#fb9f3a\"],[0.8888888888888888,\"#fdca26\"],[1.0,\"#f0f921\"]]}],\"heatmapgl\":[{\"type\":\"heatmapgl\",\"colorbar\":{\"outlinewidth\":0,\"ticks\":\"\"},\"colorscale\":[[0.0,\"#0d0887\"],[0.1111111111111111,\"#46039f\"],[0.2222222222222222,\"#7201a8\"],[0.3333333333333333,\"#9c179e\"],[0.4444444444444444,\"#bd3786\"],[0.5555555555555556,\"#d8576b\"],[0.6666666666666666,\"#ed7953\"],[0.7777777777777778,\"#fb9f3a\"],[0.8888888888888888,\"#fdca26\"],[1.0,\"#f0f921\"]]}],\"contourcarpet\":[{\"type\":\"contourcarpet\",\"colorbar\":{\"outlinewidth\":0,\"ticks\":\"\"}}],\"contour\":[{\"type\":\"contour\",\"colorbar\":{\"outlinewidth\":0,\"ticks\":\"\"},\"colorscale\":[[0.0,\"#0d0887\"],[0.1111111111111111,\"#46039f\"],[0.2222222222222222,\"#7201a8\"],[0.3333333333333333,\"#9c179e\"],[0.4444444444444444,\"#bd3786\"],[0.5555555555555556,\"#d8576b\"],[0.6666666666666666,\"#ed7953\"],[0.7777777777777778,\"#fb9f3a\"],[0.8888888888888888,\"#fdca26\"],[1.0,\"#f0f921\"]]}],\"surface\":[{\"type\":\"surface\",\"colorbar\":{\"outlinewidth\":0,\"ticks\":\"\"},\"colorscale\":[[0.0,\"#0d0887\"],[0.1111111111111111,\"#46039f\"],[0.2222222222222222,\"#7201a8\"],[0.3333333333333333,\"#9c179e\"],[0.4444444444444444,\"#bd3786\"],[0.5555555555555556,\"#d8576b\"],[0.6666666666666666,\"#ed7953\"],[0.7777777777777778,\"#fb9f3a\"],[0.8888888888888888,\"#fdca26\"],[1.0,\"#f0f921\"]]}],\"mesh3d\":[{\"type\":\"mesh3d\",\"colorbar\":{\"outlinewidth\":0,\"ticks\":\"\"}}],\"scatter\":[{\"fillpattern\":{\"fillmode\":\"overlay\",\"size\":10,\"solidity\":0.2},\"type\":\"scatter\"}],\"parcoords\":[{\"type\":\"parcoords\",\"line\":{\"colorbar\":{\"outlinewidth\":0,\"ticks\":\"\"}}}],\"scatterpolargl\":[{\"type\":\"scatterpolargl\",\"marker\":{\"colorbar\":{\"outlinewidth\":0,\"ticks\":\"\"}}}],\"bar\":[{\"error_x\":{\"color\":\"#2a3f5f\"},\"error_y\":{\"color\":\"#2a3f5f\"},\"marker\":{\"line\":{\"color\":\"#E5ECF6\",\"width\":0.5},\"pattern\":{\"fillmode\":\"overlay\",\"size\":10,\"solidity\":0.2}},\"type\":\"bar\"}],\"scattergeo\":[{\"type\":\"scattergeo\",\"marker\":{\"colorbar\":{\"outlinewidth\":0,\"ticks\":\"\"}}}],\"scatterpolar\":[{\"type\":\"scatterpolar\",\"marker\":{\"colorbar\":{\"outlinewidth\":0,\"ticks\":\"\"}}}],\"histogram\":[{\"marker\":{\"pattern\":{\"fillmode\":\"overlay\",\"size\":10,\"solidity\":0.2}},\"type\":\"histogram\"}],\"scattergl\":[{\"type\":\"scattergl\",\"marker\":{\"colorbar\":{\"outlinewidth\":0,\"ticks\":\"\"}}}],\"scatter3d\":[{\"type\":\"scatter3d\",\"line\":{\"colorbar\":{\"outlinewidth\":0,\"ticks\":\"\"}},\"marker\":{\"colorbar\":{\"outlinewidth\":0,\"ticks\":\"\"}}}],\"scattermapbox\":[{\"type\":\"scattermapbox\",\"marker\":{\"colorbar\":{\"outlinewidth\":0,\"ticks\":\"\"}}}],\"scatterternary\":[{\"type\":\"scatterternary\",\"marker\":{\"colorbar\":{\"outlinewidth\":0,\"ticks\":\"\"}}}],\"scattercarpet\":[{\"type\":\"scattercarpet\",\"marker\":{\"colorbar\":{\"outlinewidth\":0,\"ticks\":\"\"}}}],\"carpet\":[{\"aaxis\":{\"endlinecolor\":\"#2a3f5f\",\"gridcolor\":\"white\",\"linecolor\":\"white\",\"minorgridcolor\":\"white\",\"startlinecolor\":\"#2a3f5f\"},\"baxis\":{\"endlinecolor\":\"#2a3f5f\",\"gridcolor\":\"white\",\"linecolor\":\"white\",\"minorgridcolor\":\"white\",\"startlinecolor\":\"#2a3f5f\"},\"type\":\"carpet\"}],\"table\":[{\"cells\":{\"fill\":{\"color\":\"#EBF0F8\"},\"line\":{\"color\":\"white\"}},\"header\":{\"fill\":{\"color\":\"#C8D4E3\"},\"line\":{\"color\":\"white\"}},\"type\":\"table\"}],\"barpolar\":[{\"marker\":{\"line\":{\"color\":\"#E5ECF6\",\"width\":0.5},\"pattern\":{\"fillmode\":\"overlay\",\"size\":10,\"solidity\":0.2}},\"type\":\"barpolar\"}],\"pie\":[{\"automargin\":true,\"type\":\"pie\"}]},\"layout\":{\"autotypenumbers\":\"strict\",\"colorway\":[\"#636efa\",\"#EF553B\",\"#00cc96\",\"#ab63fa\",\"#FFA15A\",\"#19d3f3\",\"#FF6692\",\"#B6E880\",\"#FF97FF\",\"#FECB52\"],\"font\":{\"color\":\"#2a3f5f\"},\"hovermode\":\"closest\",\"hoverlabel\":{\"align\":\"left\"},\"paper_bgcolor\":\"white\",\"plot_bgcolor\":\"#E5ECF6\",\"polar\":{\"bgcolor\":\"#E5ECF6\",\"angularaxis\":{\"gridcolor\":\"white\",\"linecolor\":\"white\",\"ticks\":\"\"},\"radialaxis\":{\"gridcolor\":\"white\",\"linecolor\":\"white\",\"ticks\":\"\"}},\"ternary\":{\"bgcolor\":\"#E5ECF6\",\"aaxis\":{\"gridcolor\":\"white\",\"linecolor\":\"white\",\"ticks\":\"\"},\"baxis\":{\"gridcolor\":\"white\",\"linecolor\":\"white\",\"ticks\":\"\"},\"caxis\":{\"gridcolor\":\"white\",\"linecolor\":\"white\",\"ticks\":\"\"}},\"coloraxis\":{\"colorbar\":{\"outlinewidth\":0,\"ticks\":\"\"}},\"colorscale\":{\"sequential\":[[0.0,\"#0d0887\"],[0.1111111111111111,\"#46039f\"],[0.2222222222222222,\"#7201a8\"],[0.3333333333333333,\"#9c179e\"],[0.4444444444444444,\"#bd3786\"],[0.5555555555555556,\"#d8576b\"],[0.6666666666666666,\"#ed7953\"],[0.7777777777777778,\"#fb9f3a\"],[0.8888888888888888,\"#fdca26\"],[1.0,\"#f0f921\"]],\"sequentialminus\":[[0.0,\"#0d0887\"],[0.1111111111111111,\"#46039f\"],[0.2222222222222222,\"#7201a8\"],[0.3333333333333333,\"#9c179e\"],[0.4444444444444444,\"#bd3786\"],[0.5555555555555556,\"#d8576b\"],[0.6666666666666666,\"#ed7953\"],[0.7777777777777778,\"#fb9f3a\"],[0.8888888888888888,\"#fdca26\"],[1.0,\"#f0f921\"]],\"diverging\":[[0,\"#8e0152\"],[0.1,\"#c51b7d\"],[0.2,\"#de77ae\"],[0.3,\"#f1b6da\"],[0.4,\"#fde0ef\"],[0.5,\"#f7f7f7\"],[0.6,\"#e6f5d0\"],[0.7,\"#b8e186\"],[0.8,\"#7fbc41\"],[0.9,\"#4d9221\"],[1,\"#276419\"]]},\"xaxis\":{\"gridcolor\":\"white\",\"linecolor\":\"white\",\"ticks\":\"\",\"title\":{\"standoff\":15},\"zerolinecolor\":\"white\",\"automargin\":true,\"zerolinewidth\":2},\"yaxis\":{\"gridcolor\":\"white\",\"linecolor\":\"white\",\"ticks\":\"\",\"title\":{\"standoff\":15},\"zerolinecolor\":\"white\",\"automargin\":true,\"zerolinewidth\":2},\"scene\":{\"xaxis\":{\"backgroundcolor\":\"#E5ECF6\",\"gridcolor\":\"white\",\"linecolor\":\"white\",\"showbackground\":true,\"ticks\":\"\",\"zerolinecolor\":\"white\",\"gridwidth\":2},\"yaxis\":{\"backgroundcolor\":\"#E5ECF6\",\"gridcolor\":\"white\",\"linecolor\":\"white\",\"showbackground\":true,\"ticks\":\"\",\"zerolinecolor\":\"white\",\"gridwidth\":2},\"zaxis\":{\"backgroundcolor\":\"#E5ECF6\",\"gridcolor\":\"white\",\"linecolor\":\"white\",\"showbackground\":true,\"ticks\":\"\",\"zerolinecolor\":\"white\",\"gridwidth\":2}},\"shapedefaults\":{\"line\":{\"color\":\"#2a3f5f\"}},\"annotationdefaults\":{\"arrowcolor\":\"#2a3f5f\",\"arrowhead\":0,\"arrowwidth\":1},\"geo\":{\"bgcolor\":\"white\",\"landcolor\":\"#E5ECF6\",\"subunitcolor\":\"white\",\"showland\":true,\"showlakes\":true,\"lakecolor\":\"white\"},\"title\":{\"x\":0.05},\"mapbox\":{\"style\":\"light\"}}},\"mapbox\":{\"domain\":{\"x\":[0.0,1.0],\"y\":[0.0,1.0]},\"center\":{\"lat\":53.47137358368594,\"lon\":-113.52791403684688},\"zoom\":14,\"style\":\"open-street-map\"},\"coloraxis\":{\"colorbar\":{\"title\":{\"text\":\"assessed_value\"}},\"colorscale\":[[0.0,\"#0d0887\"],[0.1111111111111111,\"#46039f\"],[0.2222222222222222,\"#7201a8\"],[0.3333333333333333,\"#9c179e\"],[0.4444444444444444,\"#bd3786\"],[0.5555555555555556,\"#d8576b\"],[0.6666666666666666,\"#ed7953\"],[0.7777777777777778,\"#fb9f3a\"],[0.8888888888888888,\"#fdca26\"],[1.0,\"#f0f921\"]]},\"legend\":{\"tracegroupgap\":0},\"margin\":{\"t\":0,\"r\":0,\"l\":0,\"b\":0},\"height\":800,\"width\":800},                        {\"responsive\": true}                    ).then(function(){\n",
       "                            \n",
       "var gd = document.getElementById('e6d25af7-a94d-41f5-9909-1b48ed1e5e26');\n",
       "var x = new MutationObserver(function (mutations, observer) {{\n",
       "        var display = window.getComputedStyle(gd).display;\n",
       "        if (!display || display === 'none') {{\n",
       "            console.log([gd, 'removed!']);\n",
       "            Plotly.purge(gd);\n",
       "            observer.disconnect();\n",
       "        }}\n",
       "}});\n",
       "\n",
       "// Listen for the removal of the full notebook cells\n",
       "var notebookContainer = gd.closest('#notebook-container');\n",
       "if (notebookContainer) {{\n",
       "    x.observe(notebookContainer, {childList: true});\n",
       "}}\n",
       "\n",
       "// Listen for the clearing of the current output cell\n",
       "var outputEl = gd.closest('.output');\n",
       "if (outputEl) {{\n",
       "    x.observe(outputEl, {childList: true});\n",
       "}}\n",
       "\n",
       "                        })                };                });            </script>        </div>"
      ]
     },
     "metadata": {},
     "output_type": "display_data"
    }
   ],
   "source": [
    "fig = px.scatter_mapbox(greenfield_df, \n",
    "                        lat=\"latitude\", \n",
    "                        lon=\"longitude\", \n",
    "                        hover_name=\"assessed_value\", \n",
    "                        hover_data=[\"house_number\", \"assessed_value\"],\n",
    "                        color = \"assessed_value\",\n",
    "                        zoom=14, \n",
    "                        height=800,\n",
    "                        width=800)\n",
    "\n",
    "fig.update_layout(mapbox_style=\"open-street-map\")\n",
    "fig.update_layout(margin={\"r\":0,\"t\":0,\"l\":0,\"b\":0})\n",
    "fig.show()"
   ]
  },
  {
   "cell_type": "code",
   "execution_count": null,
   "id": "72ba53da",
   "metadata": {},
   "outputs": [],
   "source": []
  }
 ],
 "metadata": {
  "kernelspec": {
   "display_name": "Python 3 (ipykernel)",
   "language": "python",
   "name": "python3"
  },
  "language_info": {
   "codemirror_mode": {
    "name": "ipython",
    "version": 3
   },
   "file_extension": ".py",
   "mimetype": "text/x-python",
   "name": "python",
   "nbconvert_exporter": "python",
   "pygments_lexer": "ipython3",
   "version": "3.10.6"
  },
  "toc": {
   "base_numbering": 1,
   "nav_menu": {},
   "number_sections": true,
   "sideBar": true,
   "skip_h1_title": false,
   "title_cell": "Table of Contents",
   "title_sidebar": "Contents",
   "toc_cell": false,
   "toc_position": {},
   "toc_section_display": true,
   "toc_window_display": false
  }
 },
 "nbformat": 4,
 "nbformat_minor": 5
}
