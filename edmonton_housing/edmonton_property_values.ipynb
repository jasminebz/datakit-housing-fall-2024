{
 "cells": [
  {
   "cell_type": "code",
   "execution_count": 6,
   "id": "a7942871",
   "metadata": {},
   "outputs": [
    {
     "name": "stdout",
     "output_type": "stream",
     "text": [
      "The autoreload extension is already loaded. To reload it, use:\n",
      "  %reload_ext autoreload\n"
     ]
    }
   ],
   "source": [
    "%load_ext autoreload\n",
    "%autoreload 2"
   ]
  },
  {
   "cell_type": "markdown",
   "id": "0fcccfe4",
   "metadata": {},
   "source": [
    "Imports"
   ]
  },
  {
   "cell_type": "code",
   "execution_count": 27,
   "id": "c5b42e3b",
   "metadata": {},
   "outputs": [],
   "source": [
    "import pandas as pd\n",
    "\n",
    "from get_data import get_data"
   ]
  },
  {
   "cell_type": "markdown",
   "id": "10a51635",
   "metadata": {},
   "source": [
    "# Load data"
   ]
  },
  {
   "cell_type": "code",
   "execution_count": 18,
   "id": "51d26696",
   "metadata": {},
   "outputs": [],
   "source": [
    "greenfield_df = get_data(\"q7d6-ambg\", params = {\"neighbourhood\":\"GREENFIELD\"})"
   ]
  },
  {
   "cell_type": "code",
   "execution_count": 19,
   "id": "d1d65226",
   "metadata": {},
   "outputs": [
    {
     "data": {
      "text/html": [
       "<div>\n",
       "<style scoped>\n",
       "    .dataframe tbody tr th:only-of-type {\n",
       "        vertical-align: middle;\n",
       "    }\n",
       "\n",
       "    .dataframe tbody tr th {\n",
       "        vertical-align: top;\n",
       "    }\n",
       "\n",
       "    .dataframe thead th {\n",
       "        text-align: right;\n",
       "    }\n",
       "</style>\n",
       "<table border=\"1\" class=\"dataframe\">\n",
       "  <thead>\n",
       "    <tr style=\"text-align: right;\">\n",
       "      <th></th>\n",
       "      <th>account_number</th>\n",
       "      <th>house_number</th>\n",
       "      <th>street_name</th>\n",
       "      <th>garage</th>\n",
       "      <th>neighbourhood_id</th>\n",
       "      <th>neighbourhood</th>\n",
       "      <th>ward</th>\n",
       "      <th>assessed_value</th>\n",
       "      <th>latitude</th>\n",
       "      <th>longitude</th>\n",
       "      <th>point_location</th>\n",
       "      <th>tax_class_pct_1</th>\n",
       "      <th>mill_class_1</th>\n",
       "    </tr>\n",
       "  </thead>\n",
       "  <tbody>\n",
       "    <tr>\n",
       "      <th>0</th>\n",
       "      <td>1089457</td>\n",
       "      <td>11735</td>\n",
       "      <td>40 AVENUE NW</td>\n",
       "      <td>N</td>\n",
       "      <td>5220</td>\n",
       "      <td>GREENFIELD</td>\n",
       "      <td>papastew Ward</td>\n",
       "      <td>295500</td>\n",
       "      <td>53.476048825243744</td>\n",
       "      <td>-113.53718479265814</td>\n",
       "      <td>{'type': 'Point', 'coordinates': [-113.5371847...</td>\n",
       "      <td>100</td>\n",
       "      <td>RESIDENTIAL</td>\n",
       "    </tr>\n",
       "    <tr>\n",
       "      <th>1</th>\n",
       "      <td>1089531</td>\n",
       "      <td>11515</td>\n",
       "      <td>40 AVENUE NW</td>\n",
       "      <td>N</td>\n",
       "      <td>5220</td>\n",
       "      <td>GREENFIELD</td>\n",
       "      <td>papastew Ward</td>\n",
       "      <td>312500</td>\n",
       "      <td>53.476044723369654</td>\n",
       "      <td>-113.5314582622399</td>\n",
       "      <td>{'type': 'Point', 'coordinates': [-113.5314582...</td>\n",
       "      <td>100</td>\n",
       "      <td>RESIDENTIAL</td>\n",
       "    </tr>\n",
       "    <tr>\n",
       "      <th>2</th>\n",
       "      <td>1089572</td>\n",
       "      <td>11511</td>\n",
       "      <td>40 AVENUE NW</td>\n",
       "      <td>N</td>\n",
       "      <td>5220</td>\n",
       "      <td>GREENFIELD</td>\n",
       "      <td>papastew Ward</td>\n",
       "      <td>293500</td>\n",
       "      <td>53.47603283160185</td>\n",
       "      <td>-113.53116714475051</td>\n",
       "      <td>{'type': 'Point', 'coordinates': [-113.5311671...</td>\n",
       "      <td>100</td>\n",
       "      <td>RESIDENTIAL</td>\n",
       "    </tr>\n",
       "    <tr>\n",
       "      <th>3</th>\n",
       "      <td>1089515</td>\n",
       "      <td>11517</td>\n",
       "      <td>40 AVENUE NW</td>\n",
       "      <td>N</td>\n",
       "      <td>5220</td>\n",
       "      <td>GREENFIELD</td>\n",
       "      <td>papastew Ward</td>\n",
       "      <td>285500</td>\n",
       "      <td>53.47604638730065</td>\n",
       "      <td>-113.53160341066878</td>\n",
       "      <td>{'type': 'Point', 'coordinates': [-113.5316034...</td>\n",
       "      <td>100</td>\n",
       "      <td>RESIDENTIAL</td>\n",
       "    </tr>\n",
       "    <tr>\n",
       "      <th>4</th>\n",
       "      <td>1089473</td>\n",
       "      <td>11521</td>\n",
       "      <td>40 AVENUE NW</td>\n",
       "      <td>Y</td>\n",
       "      <td>5220</td>\n",
       "      <td>GREENFIELD</td>\n",
       "      <td>papastew Ward</td>\n",
       "      <td>313000</td>\n",
       "      <td>53.47604889188216</td>\n",
       "      <td>-113.53188256193663</td>\n",
       "      <td>{'type': 'Point', 'coordinates': [-113.5318825...</td>\n",
       "      <td>100</td>\n",
       "      <td>RESIDENTIAL</td>\n",
       "    </tr>\n",
       "  </tbody>\n",
       "</table>\n",
       "</div>"
      ],
      "text/plain": [
       "  account_number house_number  ... tax_class_pct_1 mill_class_1\n",
       "0        1089457        11735  ...             100  RESIDENTIAL\n",
       "1        1089531        11515  ...             100  RESIDENTIAL\n",
       "2        1089572        11511  ...             100  RESIDENTIAL\n",
       "3        1089515        11517  ...             100  RESIDENTIAL\n",
       "4        1089473        11521  ...             100  RESIDENTIAL\n",
       "\n",
       "[5 rows x 13 columns]"
      ]
     },
     "execution_count": 19,
     "metadata": {},
     "output_type": "execute_result"
    }
   ],
   "source": [
    "greenfield_df.head()"
   ]
  },
  {
   "cell_type": "code",
   "execution_count": 21,
   "id": "5d98d0df",
   "metadata": {},
   "outputs": [
    {
     "name": "stdout",
     "output_type": "stream",
     "text": [
      "<class 'pandas.core.frame.DataFrame'>\n",
      "RangeIndex: 1000 entries, 0 to 999\n",
      "Data columns (total 13 columns):\n",
      " #   Column            Non-Null Count  Dtype \n",
      "---  ------            --------------  ----- \n",
      " 0   account_number    1000 non-null   object\n",
      " 1   house_number      991 non-null    object\n",
      " 2   street_name       991 non-null    object\n",
      " 3   garage            1000 non-null   object\n",
      " 4   neighbourhood_id  1000 non-null   object\n",
      " 5   neighbourhood     1000 non-null   object\n",
      " 6   ward              1000 non-null   object\n",
      " 7   assessed_value    1000 non-null   object\n",
      " 8   latitude          1000 non-null   object\n",
      " 9   longitude         1000 non-null   object\n",
      " 10  point_location    1000 non-null   object\n",
      " 11  tax_class_pct_1   1000 non-null   object\n",
      " 12  mill_class_1      1000 non-null   object\n",
      "dtypes: object(13)\n",
      "memory usage: 101.7+ KB\n"
     ]
    }
   ],
   "source": [
    "greenfield_df.info()"
   ]
  },
  {
   "cell_type": "markdown",
   "id": "69c752fa",
   "metadata": {},
   "source": [
    "# Data Cleaning"
   ]
  },
  {
   "cell_type": "code",
   "execution_count": 28,
   "id": "e0d7dd5d",
   "metadata": {},
   "outputs": [],
   "source": [
    "# convert numeric columns to numbers\n",
    "numeric_cols = [\"account_number\",\n",
    "               \"house_number\", \n",
    "               \"neighbourhood_id\",\n",
    "               \"assessed_value\",\n",
    "               \"latitude\",\n",
    "               \"longitude\",\n",
    "               \"tax_class_pct_1\"]"
   ]
  },
  {
   "cell_type": "code",
   "execution_count": 35,
   "id": "d99b8e9a",
   "metadata": {},
   "outputs": [],
   "source": [
    "greenfield_df[numeric_cols] = greenfield_df[numeric_cols].apply(pd.to_numeric)"
   ]
  },
  {
   "cell_type": "code",
   "execution_count": null,
   "id": "bf568062",
   "metadata": {},
   "outputs": [],
   "source": [
    "greenfield_df."
   ]
  }
 ],
 "metadata": {
  "kernelspec": {
   "display_name": "Python 3 (ipykernel)",
   "language": "python",
   "name": "python3"
  },
  "language_info": {
   "codemirror_mode": {
    "name": "ipython",
    "version": 3
   },
   "file_extension": ".py",
   "mimetype": "text/x-python",
   "name": "python",
   "nbconvert_exporter": "python",
   "pygments_lexer": "ipython3",
   "version": "3.10.6"
  },
  "toc": {
   "base_numbering": 1,
   "nav_menu": {},
   "number_sections": true,
   "sideBar": true,
   "skip_h1_title": false,
   "title_cell": "Table of Contents",
   "title_sidebar": "Contents",
   "toc_cell": false,
   "toc_position": {},
   "toc_section_display": true,
   "toc_window_display": false
  }
 },
 "nbformat": 4,
 "nbformat_minor": 5
}
